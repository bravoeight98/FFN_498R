{
  "nbformat": 4,
  "nbformat_minor": 0,
  "metadata": {
    "colab": {
      "name": "498r-7k.ipynb",
      "provenance": [],
      "collapsed_sections": [],
      "authorship_tag": "ABX9TyMq61qVq4tJP1RiNtQVf19y",
      "include_colab_link": true
    },
    "kernelspec": {
      "name": "python3",
      "display_name": "Python 3"
    },
    "language_info": {
      "name": "python"
    }
  },
  "cells": [
    {
      "cell_type": "markdown",
      "metadata": {
        "id": "view-in-github",
        "colab_type": "text"
      },
      "source": [
        "<a href=\"https://colab.research.google.com/github/bravoeight98/FFN_498R/blob/main/498r_7k.ipynb\" target=\"_parent\"><img src=\"https://colab.research.google.com/assets/colab-badge.svg\" alt=\"Open In Colab\"/></a>"
      ]
    },
    {
      "cell_type": "markdown",
      "metadata": {
        "id": "o1yt6LTmyvK6"
      },
      "source": [
        "# Imporing Packages and Libraries"
      ]
    },
    {
      "cell_type": "markdown",
      "metadata": {
        "id": "rjrHm517yz7H"
      },
      "source": [
        "Importing all necessary packages"
      ]
    },
    {
      "cell_type": "code",
      "execution_count": 1,
      "metadata": {
        "id": "Yi3hM-qb6LR-",
        "colab": {
          "base_uri": "https://localhost:8080/"
        },
        "outputId": "f881d713-7db5-413f-e6c2-ca842f31ffc9"
      },
      "outputs": [
        {
          "output_type": "stream",
          "name": "stdout",
          "text": [
            "Collecting ipython-autotime\n",
            "  Downloading ipython_autotime-0.3.1-py2.py3-none-any.whl (6.8 kB)\n",
            "Requirement already satisfied: ipython in /usr/local/lib/python3.7/dist-packages (from ipython-autotime) (5.5.0)\n",
            "Requirement already satisfied: simplegeneric>0.8 in /usr/local/lib/python3.7/dist-packages (from ipython->ipython-autotime) (0.8.1)\n",
            "Requirement already satisfied: pygments in /usr/local/lib/python3.7/dist-packages (from ipython->ipython-autotime) (2.6.1)\n",
            "Requirement already satisfied: traitlets>=4.2 in /usr/local/lib/python3.7/dist-packages (from ipython->ipython-autotime) (5.1.1)\n",
            "Requirement already satisfied: prompt-toolkit<2.0.0,>=1.0.4 in /usr/local/lib/python3.7/dist-packages (from ipython->ipython-autotime) (1.0.18)\n",
            "Requirement already satisfied: decorator in /usr/local/lib/python3.7/dist-packages (from ipython->ipython-autotime) (4.4.2)\n",
            "Requirement already satisfied: pexpect in /usr/local/lib/python3.7/dist-packages (from ipython->ipython-autotime) (4.8.0)\n",
            "Requirement already satisfied: setuptools>=18.5 in /usr/local/lib/python3.7/dist-packages (from ipython->ipython-autotime) (57.4.0)\n",
            "Requirement already satisfied: pickleshare in /usr/local/lib/python3.7/dist-packages (from ipython->ipython-autotime) (0.7.5)\n",
            "Requirement already satisfied: six>=1.9.0 in /usr/local/lib/python3.7/dist-packages (from prompt-toolkit<2.0.0,>=1.0.4->ipython->ipython-autotime) (1.15.0)\n",
            "Requirement already satisfied: wcwidth in /usr/local/lib/python3.7/dist-packages (from prompt-toolkit<2.0.0,>=1.0.4->ipython->ipython-autotime) (0.2.5)\n",
            "Requirement already satisfied: ptyprocess>=0.5 in /usr/local/lib/python3.7/dist-packages (from pexpect->ipython->ipython-autotime) (0.7.0)\n",
            "Installing collected packages: ipython-autotime\n",
            "Successfully installed ipython-autotime-0.3.1\n",
            "[nltk_data] Downloading package stopwords to /root/nltk_data...\n",
            "[nltk_data]   Unzipping corpora/stopwords.zip.\n",
            "time: 1.48 s (started: 2022-01-02 06:06:52 +00:00)\n"
          ]
        }
      ],
      "source": [
        "#import package\n",
        "\n",
        "!pip install ipython-autotime\n",
        "%load_ext autotime\n",
        "\n",
        "import numpy as np\n",
        "import pandas as pd\n",
        "import seaborn as sns\n",
        "import matplotlib.pyplot as plt\n",
        "\n",
        "import nltk\n",
        "nltk.download('stopwords')\n",
        "from nltk.corpus import stopwords\n",
        "from nltk.stem.porter import PorterStemmer\n",
        "\n",
        "from sklearn.feature_extraction.text import CountVectorizer, TfidfVectorizer, HashingVectorizer\n",
        "import re\n",
        "import string\n",
        "\n",
        "from sklearn.model_selection import train_test_split\n",
        "from sklearn.feature_extraction.text import CountVectorizer\n",
        "\n",
        "from sklearn import metrics\n",
        "from sklearn.feature_extraction.text import TfidfVectorizer"
      ]
    },
    {
      "cell_type": "markdown",
      "metadata": {
        "id": "wEsIoybTlpY3"
      },
      "source": [
        "# Getting and preparing Datasets"
      ]
    },
    {
      "cell_type": "markdown",
      "metadata": {
        "id": "ZZRQJMvLiMAe"
      },
      "source": [
        "Mount from Google Drive"
      ]
    },
    {
      "cell_type": "code",
      "source": [
        "from google.colab import drive\n",
        "drive.mount('/content/drive')"
      ],
      "metadata": {
        "colab": {
          "base_uri": "https://localhost:8080/"
        },
        "id": "NOaBzjJC8Typ",
        "outputId": "25f34a4a-afc5-4c4a-8d16-5a41043d81cd"
      },
      "execution_count": 2,
      "outputs": [
        {
          "output_type": "stream",
          "name": "stdout",
          "text": [
            "Mounted at /content/drive\n",
            "time: 29.1 s (started: 2022-01-02 06:06:57 +00:00)\n"
          ]
        }
      ]
    },
    {
      "cell_type": "code",
      "source": [
        "# Reading from file \n",
        "fake = pd.read_csv('/content/drive/MyDrive/BanFakeNewsDataset/Fake-1K.csv')\n",
        "true = pd.read_csv('/content/drive/MyDrive/BanFakeNewsDataset/LabeledAuthentic-7K.csv')"
      ],
      "metadata": {
        "colab": {
          "base_uri": "https://localhost:8080/"
        },
        "id": "eJFaCWHG9lHJ",
        "outputId": "94a0ca64-977a-4a5e-b8c8-fac795926005"
      },
      "execution_count": 3,
      "outputs": [
        {
          "output_type": "stream",
          "name": "stdout",
          "text": [
            "time: 2.86 s (started: 2022-01-02 06:07:33 +00:00)\n"
          ]
        }
      ]
    },
    {
      "cell_type": "markdown",
      "metadata": {
        "id": "MBop7t4flK_3"
      },
      "source": [
        "Show Info"
      ]
    },
    {
      "cell_type": "code",
      "source": [
        "print(true.shape)\n",
        "print(true.info())\n",
        "true.head()"
      ],
      "metadata": {
        "colab": {
          "base_uri": "https://localhost:8080/",
          "height": 667
        },
        "id": "j80ejHDH9oQN",
        "outputId": "a5812dcb-d4af-4661-b8f6-82cb4d9ef441"
      },
      "execution_count": 4,
      "outputs": [
        {
          "output_type": "stream",
          "name": "stdout",
          "text": [
            "(7202, 9)\n",
            "<class 'pandas.core.frame.DataFrame'>\n",
            "RangeIndex: 7202 entries, 0 to 7201\n",
            "Data columns (total 9 columns):\n",
            " #   Column     Non-Null Count  Dtype  \n",
            "---  ------     --------------  -----  \n",
            " 0   articleID  7202 non-null   int64  \n",
            " 1   domain     7202 non-null   object \n",
            " 2   date       7202 non-null   object \n",
            " 3   category   7202 non-null   object \n",
            " 4   source     7202 non-null   object \n",
            " 5   relation   7202 non-null   object \n",
            " 6   headline   7202 non-null   object \n",
            " 7   content    7202 non-null   object \n",
            " 8   label      7202 non-null   float64\n",
            "dtypes: float64(1), int64(1), object(7)\n",
            "memory usage: 506.5+ KB\n",
            "None\n"
          ]
        },
        {
          "output_type": "execute_result",
          "data": {
            "text/html": [
              "\n",
              "  <div id=\"df-d3269269-ef4c-4d1e-97ac-c5c26defbd8f\">\n",
              "    <div class=\"colab-df-container\">\n",
              "      <div>\n",
              "<style scoped>\n",
              "    .dataframe tbody tr th:only-of-type {\n",
              "        vertical-align: middle;\n",
              "    }\n",
              "\n",
              "    .dataframe tbody tr th {\n",
              "        vertical-align: top;\n",
              "    }\n",
              "\n",
              "    .dataframe thead th {\n",
              "        text-align: right;\n",
              "    }\n",
              "</style>\n",
              "<table border=\"1\" class=\"dataframe\">\n",
              "  <thead>\n",
              "    <tr style=\"text-align: right;\">\n",
              "      <th></th>\n",
              "      <th>articleID</th>\n",
              "      <th>domain</th>\n",
              "      <th>date</th>\n",
              "      <th>category</th>\n",
              "      <th>source</th>\n",
              "      <th>relation</th>\n",
              "      <th>headline</th>\n",
              "      <th>content</th>\n",
              "      <th>label</th>\n",
              "    </tr>\n",
              "  </thead>\n",
              "  <tbody>\n",
              "    <tr>\n",
              "      <th>0</th>\n",
              "      <td>1</td>\n",
              "      <td>bd-pratidin.com</td>\n",
              "      <td>2018-09-20 08:16:43</td>\n",
              "      <td>Sports</td>\n",
              "      <td>আফগান ক্রিকেট বোর্ড (এসিবি) প্রধান</td>\n",
              "      <td>Related</td>\n",
              "      <td>হঠাৎ আফগান ক্রিকেট বোর্ড প্রধানের পদত্যাগ</td>\n",
              "      <td>ক্রিকেট বিশ্বের নতুন চমকের নাম আফগানিস্তান। কয়...</td>\n",
              "      <td>1.0</td>\n",
              "    </tr>\n",
              "    <tr>\n",
              "      <th>1</th>\n",
              "      <td>2</td>\n",
              "      <td>jugantor.com</td>\n",
              "      <td>2018-09-20 20:20:20</td>\n",
              "      <td>Sports</td>\n",
              "      <td>Reporter</td>\n",
              "      <td>Related</td>\n",
              "      <td>টস হেরে বোলিংয়ে বাংলাদেশ</td>\n",
              "      <td>এশিয়া কাপের ষষ্ঠ ম্যাচে বাংলাদেশ দলের বিপক্ষে ...</td>\n",
              "      <td>1.0</td>\n",
              "    </tr>\n",
              "    <tr>\n",
              "      <th>2</th>\n",
              "      <td>3</td>\n",
              "      <td>bd24live.com</td>\n",
              "      <td>2018-09-20 16:39:40</td>\n",
              "      <td>National</td>\n",
              "      <td>Reporter</td>\n",
              "      <td>Related</td>\n",
              "      <td>রাজধানীতে বিশেষ অভিযানে আটক ৪৩</td>\n",
              "      <td>রাজধানীতে মাদক বিরোধী বিশেষ অভিযান পরিচালনা কর...</td>\n",
              "      <td>1.0</td>\n",
              "    </tr>\n",
              "    <tr>\n",
              "      <th>3</th>\n",
              "      <td>4</td>\n",
              "      <td>bd24live.com</td>\n",
              "      <td>2018-09-19 18:27:56</td>\n",
              "      <td>National</td>\n",
              "      <td>জননিরাপত্তা বিভাগের সচিব</td>\n",
              "      <td>Related</td>\n",
              "      <td>উস্কানি রোধে নজরদারি থাকবে সামাজিক যোগাযোগ মাধ...</td>\n",
              "      <td>সনাতন ধর্মাবলম্বীদের সবচেয়ে বড় ধর্মীয় উৎসব দুর...</td>\n",
              "      <td>1.0</td>\n",
              "    </tr>\n",
              "    <tr>\n",
              "      <th>4</th>\n",
              "      <td>5</td>\n",
              "      <td>somoynews.tv</td>\n",
              "      <td>2018-09-20 10:15:28</td>\n",
              "      <td>Finance</td>\n",
              "      <td>পেট্রোল পাম্প মালিক সমিতি সভাপতি</td>\n",
              "      <td>Related</td>\n",
              "      <td>'যেখানে তেল আসত ৭ দিনে, এখন তা আসবে অতি দ্রুত'</td>\n",
              "      <td>ভারত থেকে পাইপ লাইনের মাধ্যমে সরাসরি দেশে জ্বা...</td>\n",
              "      <td>1.0</td>\n",
              "    </tr>\n",
              "  </tbody>\n",
              "</table>\n",
              "</div>\n",
              "      <button class=\"colab-df-convert\" onclick=\"convertToInteractive('df-d3269269-ef4c-4d1e-97ac-c5c26defbd8f')\"\n",
              "              title=\"Convert this dataframe to an interactive table.\"\n",
              "              style=\"display:none;\">\n",
              "        \n",
              "  <svg xmlns=\"http://www.w3.org/2000/svg\" height=\"24px\"viewBox=\"0 0 24 24\"\n",
              "       width=\"24px\">\n",
              "    <path d=\"M0 0h24v24H0V0z\" fill=\"none\"/>\n",
              "    <path d=\"M18.56 5.44l.94 2.06.94-2.06 2.06-.94-2.06-.94-.94-2.06-.94 2.06-2.06.94zm-11 1L8.5 8.5l.94-2.06 2.06-.94-2.06-.94L8.5 2.5l-.94 2.06-2.06.94zm10 10l.94 2.06.94-2.06 2.06-.94-2.06-.94-.94-2.06-.94 2.06-2.06.94z\"/><path d=\"M17.41 7.96l-1.37-1.37c-.4-.4-.92-.59-1.43-.59-.52 0-1.04.2-1.43.59L10.3 9.45l-7.72 7.72c-.78.78-.78 2.05 0 2.83L4 21.41c.39.39.9.59 1.41.59.51 0 1.02-.2 1.41-.59l7.78-7.78 2.81-2.81c.8-.78.8-2.07 0-2.86zM5.41 20L4 18.59l7.72-7.72 1.47 1.35L5.41 20z\"/>\n",
              "  </svg>\n",
              "      </button>\n",
              "      \n",
              "  <style>\n",
              "    .colab-df-container {\n",
              "      display:flex;\n",
              "      flex-wrap:wrap;\n",
              "      gap: 12px;\n",
              "    }\n",
              "\n",
              "    .colab-df-convert {\n",
              "      background-color: #E8F0FE;\n",
              "      border: none;\n",
              "      border-radius: 50%;\n",
              "      cursor: pointer;\n",
              "      display: none;\n",
              "      fill: #1967D2;\n",
              "      height: 32px;\n",
              "      padding: 0 0 0 0;\n",
              "      width: 32px;\n",
              "    }\n",
              "\n",
              "    .colab-df-convert:hover {\n",
              "      background-color: #E2EBFA;\n",
              "      box-shadow: 0px 1px 2px rgba(60, 64, 67, 0.3), 0px 1px 3px 1px rgba(60, 64, 67, 0.15);\n",
              "      fill: #174EA6;\n",
              "    }\n",
              "\n",
              "    [theme=dark] .colab-df-convert {\n",
              "      background-color: #3B4455;\n",
              "      fill: #D2E3FC;\n",
              "    }\n",
              "\n",
              "    [theme=dark] .colab-df-convert:hover {\n",
              "      background-color: #434B5C;\n",
              "      box-shadow: 0px 1px 3px 1px rgba(0, 0, 0, 0.15);\n",
              "      filter: drop-shadow(0px 1px 2px rgba(0, 0, 0, 0.3));\n",
              "      fill: #FFFFFF;\n",
              "    }\n",
              "  </style>\n",
              "\n",
              "      <script>\n",
              "        const buttonEl =\n",
              "          document.querySelector('#df-d3269269-ef4c-4d1e-97ac-c5c26defbd8f button.colab-df-convert');\n",
              "        buttonEl.style.display =\n",
              "          google.colab.kernel.accessAllowed ? 'block' : 'none';\n",
              "\n",
              "        async function convertToInteractive(key) {\n",
              "          const element = document.querySelector('#df-d3269269-ef4c-4d1e-97ac-c5c26defbd8f');\n",
              "          const dataTable =\n",
              "            await google.colab.kernel.invokeFunction('convertToInteractive',\n",
              "                                                     [key], {});\n",
              "          if (!dataTable) return;\n",
              "\n",
              "          const docLinkHtml = 'Like what you see? Visit the ' +\n",
              "            '<a target=\"_blank\" href=https://colab.research.google.com/notebooks/data_table.ipynb>data table notebook</a>'\n",
              "            + ' to learn more about interactive tables.';\n",
              "          element.innerHTML = '';\n",
              "          dataTable['output_type'] = 'display_data';\n",
              "          await google.colab.output.renderOutput(dataTable, element);\n",
              "          const docLink = document.createElement('div');\n",
              "          docLink.innerHTML = docLinkHtml;\n",
              "          element.appendChild(docLink);\n",
              "        }\n",
              "      </script>\n",
              "    </div>\n",
              "  </div>\n",
              "  "
            ],
            "text/plain": [
              "   articleID  ... label\n",
              "0          1  ...   1.0\n",
              "1          2  ...   1.0\n",
              "2          3  ...   1.0\n",
              "3          4  ...   1.0\n",
              "4          5  ...   1.0\n",
              "\n",
              "[5 rows x 9 columns]"
            ]
          },
          "metadata": {},
          "execution_count": 4
        },
        {
          "output_type": "stream",
          "name": "stdout",
          "text": [
            "time: 58.6 ms (started: 2022-01-02 06:09:18 +00:00)\n"
          ]
        }
      ]
    },
    {
      "cell_type": "markdown",
      "metadata": {
        "id": "rL_AuHkzlvdk"
      },
      "source": [
        "# Preprocessing Data"
      ]
    },
    {
      "cell_type": "code",
      "source": [
        "fake['Label'] = 1\n",
        "true['Label'] = 0"
      ],
      "metadata": {
        "colab": {
          "base_uri": "https://localhost:8080/"
        },
        "id": "QSorWdYI9vH2",
        "outputId": "4ad210e6-2e01-4617-bac0-2d1a3786262d"
      },
      "execution_count": 5,
      "outputs": [
        {
          "output_type": "stream",
          "name": "stdout",
          "text": [
            "time: 5.26 ms (started: 2022-01-02 06:09:26 +00:00)\n"
          ]
        }
      ]
    },
    {
      "cell_type": "code",
      "source": [
        "data = pd.concat([true,fake],axis=0,ignore_index=True)\n",
        "print(data.shape)\n",
        "data.head()"
      ],
      "metadata": {
        "colab": {
          "base_uri": "https://localhost:8080/",
          "height": 372
        },
        "id": "FeFS5Jmc-Das",
        "outputId": "f15af86f-5e52-475d-b77b-84d176b0728f"
      },
      "execution_count": 6,
      "outputs": [
        {
          "output_type": "stream",
          "name": "stdout",
          "text": [
            "(8501, 10)\n"
          ]
        },
        {
          "output_type": "execute_result",
          "data": {
            "text/html": [
              "\n",
              "  <div id=\"df-635c98f7-bfd7-41b4-9906-e57319ce3f93\">\n",
              "    <div class=\"colab-df-container\">\n",
              "      <div>\n",
              "<style scoped>\n",
              "    .dataframe tbody tr th:only-of-type {\n",
              "        vertical-align: middle;\n",
              "    }\n",
              "\n",
              "    .dataframe tbody tr th {\n",
              "        vertical-align: top;\n",
              "    }\n",
              "\n",
              "    .dataframe thead th {\n",
              "        text-align: right;\n",
              "    }\n",
              "</style>\n",
              "<table border=\"1\" class=\"dataframe\">\n",
              "  <thead>\n",
              "    <tr style=\"text-align: right;\">\n",
              "      <th></th>\n",
              "      <th>articleID</th>\n",
              "      <th>domain</th>\n",
              "      <th>date</th>\n",
              "      <th>category</th>\n",
              "      <th>source</th>\n",
              "      <th>relation</th>\n",
              "      <th>headline</th>\n",
              "      <th>content</th>\n",
              "      <th>label</th>\n",
              "      <th>Label</th>\n",
              "    </tr>\n",
              "  </thead>\n",
              "  <tbody>\n",
              "    <tr>\n",
              "      <th>0</th>\n",
              "      <td>1</td>\n",
              "      <td>bd-pratidin.com</td>\n",
              "      <td>2018-09-20 08:16:43</td>\n",
              "      <td>Sports</td>\n",
              "      <td>আফগান ক্রিকেট বোর্ড (এসিবি) প্রধান</td>\n",
              "      <td>Related</td>\n",
              "      <td>হঠাৎ আফগান ক্রিকেট বোর্ড প্রধানের পদত্যাগ</td>\n",
              "      <td>ক্রিকেট বিশ্বের নতুন চমকের নাম আফগানিস্তান। কয়...</td>\n",
              "      <td>1.0</td>\n",
              "      <td>0</td>\n",
              "    </tr>\n",
              "    <tr>\n",
              "      <th>1</th>\n",
              "      <td>2</td>\n",
              "      <td>jugantor.com</td>\n",
              "      <td>2018-09-20 20:20:20</td>\n",
              "      <td>Sports</td>\n",
              "      <td>Reporter</td>\n",
              "      <td>Related</td>\n",
              "      <td>টস হেরে বোলিংয়ে বাংলাদেশ</td>\n",
              "      <td>এশিয়া কাপের ষষ্ঠ ম্যাচে বাংলাদেশ দলের বিপক্ষে ...</td>\n",
              "      <td>1.0</td>\n",
              "      <td>0</td>\n",
              "    </tr>\n",
              "    <tr>\n",
              "      <th>2</th>\n",
              "      <td>3</td>\n",
              "      <td>bd24live.com</td>\n",
              "      <td>2018-09-20 16:39:40</td>\n",
              "      <td>National</td>\n",
              "      <td>Reporter</td>\n",
              "      <td>Related</td>\n",
              "      <td>রাজধানীতে বিশেষ অভিযানে আটক ৪৩</td>\n",
              "      <td>রাজধানীতে মাদক বিরোধী বিশেষ অভিযান পরিচালনা কর...</td>\n",
              "      <td>1.0</td>\n",
              "      <td>0</td>\n",
              "    </tr>\n",
              "    <tr>\n",
              "      <th>3</th>\n",
              "      <td>4</td>\n",
              "      <td>bd24live.com</td>\n",
              "      <td>2018-09-19 18:27:56</td>\n",
              "      <td>National</td>\n",
              "      <td>জননিরাপত্তা বিভাগের সচিব</td>\n",
              "      <td>Related</td>\n",
              "      <td>উস্কানি রোধে নজরদারি থাকবে সামাজিক যোগাযোগ মাধ...</td>\n",
              "      <td>সনাতন ধর্মাবলম্বীদের সবচেয়ে বড় ধর্মীয় উৎসব দুর...</td>\n",
              "      <td>1.0</td>\n",
              "      <td>0</td>\n",
              "    </tr>\n",
              "    <tr>\n",
              "      <th>4</th>\n",
              "      <td>5</td>\n",
              "      <td>somoynews.tv</td>\n",
              "      <td>2018-09-20 10:15:28</td>\n",
              "      <td>Finance</td>\n",
              "      <td>পেট্রোল পাম্প মালিক সমিতি সভাপতি</td>\n",
              "      <td>Related</td>\n",
              "      <td>'যেখানে তেল আসত ৭ দিনে, এখন তা আসবে অতি দ্রুত'</td>\n",
              "      <td>ভারত থেকে পাইপ লাইনের মাধ্যমে সরাসরি দেশে জ্বা...</td>\n",
              "      <td>1.0</td>\n",
              "      <td>0</td>\n",
              "    </tr>\n",
              "  </tbody>\n",
              "</table>\n",
              "</div>\n",
              "      <button class=\"colab-df-convert\" onclick=\"convertToInteractive('df-635c98f7-bfd7-41b4-9906-e57319ce3f93')\"\n",
              "              title=\"Convert this dataframe to an interactive table.\"\n",
              "              style=\"display:none;\">\n",
              "        \n",
              "  <svg xmlns=\"http://www.w3.org/2000/svg\" height=\"24px\"viewBox=\"0 0 24 24\"\n",
              "       width=\"24px\">\n",
              "    <path d=\"M0 0h24v24H0V0z\" fill=\"none\"/>\n",
              "    <path d=\"M18.56 5.44l.94 2.06.94-2.06 2.06-.94-2.06-.94-.94-2.06-.94 2.06-2.06.94zm-11 1L8.5 8.5l.94-2.06 2.06-.94-2.06-.94L8.5 2.5l-.94 2.06-2.06.94zm10 10l.94 2.06.94-2.06 2.06-.94-2.06-.94-.94-2.06-.94 2.06-2.06.94z\"/><path d=\"M17.41 7.96l-1.37-1.37c-.4-.4-.92-.59-1.43-.59-.52 0-1.04.2-1.43.59L10.3 9.45l-7.72 7.72c-.78.78-.78 2.05 0 2.83L4 21.41c.39.39.9.59 1.41.59.51 0 1.02-.2 1.41-.59l7.78-7.78 2.81-2.81c.8-.78.8-2.07 0-2.86zM5.41 20L4 18.59l7.72-7.72 1.47 1.35L5.41 20z\"/>\n",
              "  </svg>\n",
              "      </button>\n",
              "      \n",
              "  <style>\n",
              "    .colab-df-container {\n",
              "      display:flex;\n",
              "      flex-wrap:wrap;\n",
              "      gap: 12px;\n",
              "    }\n",
              "\n",
              "    .colab-df-convert {\n",
              "      background-color: #E8F0FE;\n",
              "      border: none;\n",
              "      border-radius: 50%;\n",
              "      cursor: pointer;\n",
              "      display: none;\n",
              "      fill: #1967D2;\n",
              "      height: 32px;\n",
              "      padding: 0 0 0 0;\n",
              "      width: 32px;\n",
              "    }\n",
              "\n",
              "    .colab-df-convert:hover {\n",
              "      background-color: #E2EBFA;\n",
              "      box-shadow: 0px 1px 2px rgba(60, 64, 67, 0.3), 0px 1px 3px 1px rgba(60, 64, 67, 0.15);\n",
              "      fill: #174EA6;\n",
              "    }\n",
              "\n",
              "    [theme=dark] .colab-df-convert {\n",
              "      background-color: #3B4455;\n",
              "      fill: #D2E3FC;\n",
              "    }\n",
              "\n",
              "    [theme=dark] .colab-df-convert:hover {\n",
              "      background-color: #434B5C;\n",
              "      box-shadow: 0px 1px 3px 1px rgba(0, 0, 0, 0.15);\n",
              "      filter: drop-shadow(0px 1px 2px rgba(0, 0, 0, 0.3));\n",
              "      fill: #FFFFFF;\n",
              "    }\n",
              "  </style>\n",
              "\n",
              "      <script>\n",
              "        const buttonEl =\n",
              "          document.querySelector('#df-635c98f7-bfd7-41b4-9906-e57319ce3f93 button.colab-df-convert');\n",
              "        buttonEl.style.display =\n",
              "          google.colab.kernel.accessAllowed ? 'block' : 'none';\n",
              "\n",
              "        async function convertToInteractive(key) {\n",
              "          const element = document.querySelector('#df-635c98f7-bfd7-41b4-9906-e57319ce3f93');\n",
              "          const dataTable =\n",
              "            await google.colab.kernel.invokeFunction('convertToInteractive',\n",
              "                                                     [key], {});\n",
              "          if (!dataTable) return;\n",
              "\n",
              "          const docLinkHtml = 'Like what you see? Visit the ' +\n",
              "            '<a target=\"_blank\" href=https://colab.research.google.com/notebooks/data_table.ipynb>data table notebook</a>'\n",
              "            + ' to learn more about interactive tables.';\n",
              "          element.innerHTML = '';\n",
              "          dataTable['output_type'] = 'display_data';\n",
              "          await google.colab.output.renderOutput(dataTable, element);\n",
              "          const docLink = document.createElement('div');\n",
              "          docLink.innerHTML = docLinkHtml;\n",
              "          element.appendChild(docLink);\n",
              "        }\n",
              "      </script>\n",
              "    </div>\n",
              "  </div>\n",
              "  "
            ],
            "text/plain": [
              "   articleID           domain  ... label Label\n",
              "0          1  bd-pratidin.com  ...   1.0     0\n",
              "1          2     jugantor.com  ...   1.0     0\n",
              "2          3     bd24live.com  ...   1.0     0\n",
              "3          4     bd24live.com  ...   1.0     0\n",
              "4          5     somoynews.tv  ...   1.0     0\n",
              "\n",
              "[5 rows x 10 columns]"
            ]
          },
          "metadata": {},
          "execution_count": 6
        },
        {
          "output_type": "stream",
          "name": "stdout",
          "text": [
            "time: 46.4 ms (started: 2022-01-02 06:09:30 +00:00)\n"
          ]
        }
      ]
    },
    {
      "cell_type": "code",
      "source": [
        "data.describe()"
      ],
      "metadata": {
        "colab": {
          "base_uri": "https://localhost:8080/",
          "height": 318
        },
        "id": "KOT5JhMX-Fhk",
        "outputId": "327d2450-e07c-417d-92d0-13890bc6c2f3"
      },
      "execution_count": 9,
      "outputs": [
        {
          "output_type": "execute_result",
          "data": {
            "text/html": [
              "\n",
              "  <div id=\"df-63b0b03f-c4fd-420f-9da8-5940eaf37103\">\n",
              "    <div class=\"colab-df-container\">\n",
              "      <div>\n",
              "<style scoped>\n",
              "    .dataframe tbody tr th:only-of-type {\n",
              "        vertical-align: middle;\n",
              "    }\n",
              "\n",
              "    .dataframe tbody tr th {\n",
              "        vertical-align: top;\n",
              "    }\n",
              "\n",
              "    .dataframe thead th {\n",
              "        text-align: right;\n",
              "    }\n",
              "</style>\n",
              "<table border=\"1\" class=\"dataframe\">\n",
              "  <thead>\n",
              "    <tr style=\"text-align: right;\">\n",
              "      <th></th>\n",
              "      <th>articleID</th>\n",
              "      <th>label</th>\n",
              "      <th>Label</th>\n",
              "    </tr>\n",
              "  </thead>\n",
              "  <tbody>\n",
              "    <tr>\n",
              "      <th>count</th>\n",
              "      <td>8501.000000</td>\n",
              "      <td>8501.000000</td>\n",
              "      <td>8501.000000</td>\n",
              "    </tr>\n",
              "    <tr>\n",
              "      <th>mean</th>\n",
              "      <td>3443.091283</td>\n",
              "      <td>0.847194</td>\n",
              "      <td>0.152806</td>\n",
              "    </tr>\n",
              "    <tr>\n",
              "      <th>std</th>\n",
              "      <td>2499.712953</td>\n",
              "      <td>0.359821</td>\n",
              "      <td>0.359821</td>\n",
              "    </tr>\n",
              "    <tr>\n",
              "      <th>min</th>\n",
              "      <td>1.000000</td>\n",
              "      <td>0.000000</td>\n",
              "      <td>0.000000</td>\n",
              "    </tr>\n",
              "    <tr>\n",
              "      <th>25%</th>\n",
              "      <td>1074.000000</td>\n",
              "      <td>1.000000</td>\n",
              "      <td>0.000000</td>\n",
              "    </tr>\n",
              "    <tr>\n",
              "      <th>50%</th>\n",
              "      <td>3127.000000</td>\n",
              "      <td>1.000000</td>\n",
              "      <td>0.000000</td>\n",
              "    </tr>\n",
              "    <tr>\n",
              "      <th>75%</th>\n",
              "      <td>5555.000000</td>\n",
              "      <td>1.000000</td>\n",
              "      <td>0.000000</td>\n",
              "    </tr>\n",
              "    <tr>\n",
              "      <th>max</th>\n",
              "      <td>8268.000000</td>\n",
              "      <td>1.000000</td>\n",
              "      <td>1.000000</td>\n",
              "    </tr>\n",
              "  </tbody>\n",
              "</table>\n",
              "</div>\n",
              "      <button class=\"colab-df-convert\" onclick=\"convertToInteractive('df-63b0b03f-c4fd-420f-9da8-5940eaf37103')\"\n",
              "              title=\"Convert this dataframe to an interactive table.\"\n",
              "              style=\"display:none;\">\n",
              "        \n",
              "  <svg xmlns=\"http://www.w3.org/2000/svg\" height=\"24px\"viewBox=\"0 0 24 24\"\n",
              "       width=\"24px\">\n",
              "    <path d=\"M0 0h24v24H0V0z\" fill=\"none\"/>\n",
              "    <path d=\"M18.56 5.44l.94 2.06.94-2.06 2.06-.94-2.06-.94-.94-2.06-.94 2.06-2.06.94zm-11 1L8.5 8.5l.94-2.06 2.06-.94-2.06-.94L8.5 2.5l-.94 2.06-2.06.94zm10 10l.94 2.06.94-2.06 2.06-.94-2.06-.94-.94-2.06-.94 2.06-2.06.94z\"/><path d=\"M17.41 7.96l-1.37-1.37c-.4-.4-.92-.59-1.43-.59-.52 0-1.04.2-1.43.59L10.3 9.45l-7.72 7.72c-.78.78-.78 2.05 0 2.83L4 21.41c.39.39.9.59 1.41.59.51 0 1.02-.2 1.41-.59l7.78-7.78 2.81-2.81c.8-.78.8-2.07 0-2.86zM5.41 20L4 18.59l7.72-7.72 1.47 1.35L5.41 20z\"/>\n",
              "  </svg>\n",
              "      </button>\n",
              "      \n",
              "  <style>\n",
              "    .colab-df-container {\n",
              "      display:flex;\n",
              "      flex-wrap:wrap;\n",
              "      gap: 12px;\n",
              "    }\n",
              "\n",
              "    .colab-df-convert {\n",
              "      background-color: #E8F0FE;\n",
              "      border: none;\n",
              "      border-radius: 50%;\n",
              "      cursor: pointer;\n",
              "      display: none;\n",
              "      fill: #1967D2;\n",
              "      height: 32px;\n",
              "      padding: 0 0 0 0;\n",
              "      width: 32px;\n",
              "    }\n",
              "\n",
              "    .colab-df-convert:hover {\n",
              "      background-color: #E2EBFA;\n",
              "      box-shadow: 0px 1px 2px rgba(60, 64, 67, 0.3), 0px 1px 3px 1px rgba(60, 64, 67, 0.15);\n",
              "      fill: #174EA6;\n",
              "    }\n",
              "\n",
              "    [theme=dark] .colab-df-convert {\n",
              "      background-color: #3B4455;\n",
              "      fill: #D2E3FC;\n",
              "    }\n",
              "\n",
              "    [theme=dark] .colab-df-convert:hover {\n",
              "      background-color: #434B5C;\n",
              "      box-shadow: 0px 1px 3px 1px rgba(0, 0, 0, 0.15);\n",
              "      filter: drop-shadow(0px 1px 2px rgba(0, 0, 0, 0.3));\n",
              "      fill: #FFFFFF;\n",
              "    }\n",
              "  </style>\n",
              "\n",
              "      <script>\n",
              "        const buttonEl =\n",
              "          document.querySelector('#df-63b0b03f-c4fd-420f-9da8-5940eaf37103 button.colab-df-convert');\n",
              "        buttonEl.style.display =\n",
              "          google.colab.kernel.accessAllowed ? 'block' : 'none';\n",
              "\n",
              "        async function convertToInteractive(key) {\n",
              "          const element = document.querySelector('#df-63b0b03f-c4fd-420f-9da8-5940eaf37103');\n",
              "          const dataTable =\n",
              "            await google.colab.kernel.invokeFunction('convertToInteractive',\n",
              "                                                     [key], {});\n",
              "          if (!dataTable) return;\n",
              "\n",
              "          const docLinkHtml = 'Like what you see? Visit the ' +\n",
              "            '<a target=\"_blank\" href=https://colab.research.google.com/notebooks/data_table.ipynb>data table notebook</a>'\n",
              "            + ' to learn more about interactive tables.';\n",
              "          element.innerHTML = '';\n",
              "          dataTable['output_type'] = 'display_data';\n",
              "          await google.colab.output.renderOutput(dataTable, element);\n",
              "          const docLink = document.createElement('div');\n",
              "          docLink.innerHTML = docLinkHtml;\n",
              "          element.appendChild(docLink);\n",
              "        }\n",
              "      </script>\n",
              "    </div>\n",
              "  </div>\n",
              "  "
            ],
            "text/plain": [
              "         articleID        label        Label\n",
              "count  8501.000000  8501.000000  8501.000000\n",
              "mean   3443.091283     0.847194     0.152806\n",
              "std    2499.712953     0.359821     0.359821\n",
              "min       1.000000     0.000000     0.000000\n",
              "25%    1074.000000     1.000000     0.000000\n",
              "50%    3127.000000     1.000000     0.000000\n",
              "75%    5555.000000     1.000000     0.000000\n",
              "max    8268.000000     1.000000     1.000000"
            ]
          },
          "metadata": {},
          "execution_count": 9
        },
        {
          "output_type": "stream",
          "name": "stdout",
          "text": [
            "time: 43.4 ms (started: 2022-01-01 19:40:51 +00:00)\n"
          ]
        }
      ]
    },
    {
      "cell_type": "code",
      "source": [
        "data['content']=data['headline']+data['content']\n",
        "data=data.drop(['headline'], axis=1)"
      ],
      "metadata": {
        "colab": {
          "base_uri": "https://localhost:8080/"
        },
        "id": "6YcJG8J1-Jva",
        "outputId": "86bd8c69-3cf5-424a-fac1-aec3c3458935"
      },
      "execution_count": 7,
      "outputs": [
        {
          "output_type": "stream",
          "name": "stdout",
          "text": [
            "time: 52.1 ms (started: 2022-01-02 06:09:39 +00:00)\n"
          ]
        }
      ]
    },
    {
      "cell_type": "markdown",
      "metadata": {
        "id": "6B2DFdjYs_n-"
      },
      "source": [
        "Chek if dataset is Balanced"
      ]
    },
    {
      "cell_type": "code",
      "source": [
        "sns.countplot(data.Label)"
      ],
      "metadata": {
        "colab": {
          "base_uri": "https://localhost:8080/",
          "height": 368
        },
        "id": "oZJT7Bcp-Kaq",
        "outputId": "7c2c2b32-7382-4028-e72a-66c18259703c"
      },
      "execution_count": 8,
      "outputs": [
        {
          "output_type": "stream",
          "name": "stderr",
          "text": [
            "/usr/local/lib/python3.7/dist-packages/seaborn/_decorators.py:43: FutureWarning: Pass the following variable as a keyword arg: x. From version 0.12, the only valid positional argument will be `data`, and passing other arguments without an explicit keyword will result in an error or misinterpretation.\n",
            "  FutureWarning\n"
          ]
        },
        {
          "output_type": "execute_result",
          "data": {
            "text/plain": [
              "<matplotlib.axes._subplots.AxesSubplot at 0x7f83f4242dd0>"
            ]
          },
          "metadata": {},
          "execution_count": 8
        },
        {
          "output_type": "display_data",
          "data": {
            "image/png": "[encoded data removed]",
            "text/plain": [
              "<Figure size 432x288 with 1 Axes>"
            ]
          },
          "metadata": {
            "needs_background": "light"
          }
        },
        {
          "output_type": "stream",
          "name": "stdout",
          "text": [
            "time: 203 ms (started: 2022-01-02 06:11:58 +00:00)\n"
          ]
        }
      ]
    },
    {
      "cell_type": "markdown",
      "metadata": {
        "id": "8ceK6nIOtE2G"
      },
      "source": [
        "Conclusion: Imbalanced Dataset"
      ]
    },
    {
      "cell_type": "code",
      "source": [
        "data.category.value_counts()"
      ],
      "metadata": {
        "colab": {
          "base_uri": "https://localhost:8080/"
        },
        "id": "jfR7-5pf-QJx",
        "outputId": "08435bac-578a-4e3c-9ac4-2cd7ed1c2d40"
      },
      "execution_count": 9,
      "outputs": [
        {
          "output_type": "execute_result",
          "data": {
            "text/plain": [
              "National         3600\n",
              "Miscellaneous     944\n",
              "Sports            943\n",
              "International     935\n",
              "Politics          475\n",
              "Entertainment     408\n",
              "Editorial         336\n",
              "Crime             266\n",
              "Lifestyle         192\n",
              "Education         139\n",
              "Finance           138\n",
              "Technology        125\n",
              "Name: category, dtype: int64"
            ]
          },
          "metadata": {},
          "execution_count": 9
        },
        {
          "output_type": "stream",
          "name": "stdout",
          "text": [
            "time: 9.04 ms (started: 2022-01-02 06:12:15 +00:00)\n"
          ]
        }
      ]
    },
    {
      "cell_type": "markdown",
      "metadata": {
        "id": "fambCLALooHz"
      },
      "source": [
        "# Data Cleaning"
      ]
    },
    {
      "cell_type": "markdown",
      "metadata": {
        "id": "zTHknxdNoqu5"
      },
      "source": [
        "Removing stop words in order to root words that are retaining in the data and fed into the models"
      ]
    },
    {
      "cell_type": "code",
      "metadata": {
        "id": "OPjR0yuHb_xk",
        "colab": {
          "base_uri": "https://localhost:8080/"
        },
        "outputId": "e6214d72-ae56-43ab-c22f-c6e4de2237d9"
      },
      "source": [
        "#stop = stopwords.words('bangla')\n",
        "stop = frozenset([\"অবশ্য\", \"অনেক\", \"অনেকে\", \"অনেকেই\", \"অন্তত\", \"অথবা\", \"অথচ\",\n",
        "\"অর্থাত\",\n",
        "\"অন্য\",\n",
        "\"আজ\",\n",
        "\"আছে\",\n",
        "\"আপনার\",\n",
        "\"আপনি\",\n",
        "\"আবার\",\n",
        "\"আমরা\",\n",
        "\"আমাকে\",\n",
        "\"আমাদের\",\n",
        "\"আমার\",\n",
        "\"আমি\",\n",
        "\"আরও\",\n",
        "\"আর\",\n",
        "\"আগে\",\n",
        "\"আগেই\",\n",
        "\"আই\",\n",
        "\"অতএব\",\n",
        "\"আগামী\",\n",
        "\"অবধি\",\n",
        "\"অনুযায়ী\",\n",
        "\"আদ্যভাগে\",\n",
        "\"এই\",\n",
        "\"একই\",\n",
        "\"একে\",\n",
        "\"একটি\",\n",
        "\"এখন\",\n",
        "\"এখনও\",\n",
        "\"এখানে\",\n",
        "\"এখানেই\",\n",
        "\"এটি\",\n",
        "\"এটা\",\n",
        "\"এটাই\",\n",
        "\"এতটাই\",\n",
        "\"এবং\",\n",
        "\"একবার\",\n",
        "\"এবার\",\n",
        "\"এদের\",\n",
        "\"এঁদের\",\n",
        "\"এমন\",\n",
        "\"এমনকী\",\n",
        "\"এল\",\n",
        "\"এর\",\n",
        "\"এরা\",\n",
        "\"এঁরা\",\n",
        "\"এস\",\n",
        "\"এত\",\n",
        "\"এতে\",\n",
        "\"এসে\",\n",
        "\"একে\",\n",
        "\"এ\",\n",
        "\"ঐ\",\n",
        "\"ই\",\n",
        "\"ইহা\",\n",
        "\"ইত্যাদি\",\n",
        "\"উনি\",\n",
        "\"উপর\",\n",
        "\"উপরে\",\n",
        "\"উচিত\",\n",
        "\"ও\",\n",
        "\"ওই\",\n",
        "\"ওর\",\n",
        "\"ওরা\",\n",
        "\"ওঁর\",\n",
        "\"ওঁরা\",\n",
        "\"ওকে\",\n",
        "\"ওদের\",\n",
        "\"ওঁদের\"\n",
        "\"ওখানে\",\n",
        "\"কত\",\n",
        "\"কবে\",\n",
        "\"করতে\",\n",
        "\"কয়েক\",\n",
        "\"কয়েকটি\",\n",
        "\"করবে\",\n",
        "\"করলেন\",\n",
        "\"করার\",\n",
        "\"কারও\",\n",
        "\"করা\",\n",
        "\"করি\",\n",
        "\"করিয়ে\",\n",
        "\"করার\",\n",
        "\"করাই\",\n",
        "\"করলে\",\n",
        "\"করলেন\",\n",
        "\"করিতে\",\n",
        "\"করিয়া\",\n",
        "\"করেছিলেন\",\n",
        "\"করছে\",\n",
        "\"করছেন\",\n",
        "\"করেছেন\",\n",
        "\"করেছে\",\n",
        "\"করেন\",\n",
        "\"করবেন\",\n",
        "\"করায়\",\n",
        "\"করে\",\n",
        "\"করেই\",\n",
        "\"কাছ\",\n",
        "\"কাছে\",\n",
        "\"কাজে\",\n",
        "\"কারণ\",\n",
        "\"কিছু\",\n",
        "\"কিছুই\",\n",
        "\"কিন্তু\",\n",
        "\"কিংবা\",\n",
        "\"কি\",\n",
        "\"কী\",\n",
        "\"কেউ\",\n",
        "\"কেউই\",\n",
        "\"কাউকে\",\n",
        "\"কেন\",\n",
        "\"কে\",\n",
        "\"কোনও\",\n",
        "\"কোনো\",\n",
        "\"কোন\",\n",
        "\"কখনও\",\n",
        "\"ক্ষেত্রে\",\n",
        "\"খুব\",\t\n",
        "\"গুলি\",\n",
        "\"গিয়ে\",\n",
        "\"গিয়েছে\",\n",
        "\"গেছে\",\n",
        "\"গেল\",\n",
        "\"গেলে\",\n",
        "\"গোটা\",\n",
        "\"চলে\",\n",
        "\"ছাড়া\",\n",
        "\"ছাড়াও\",\n",
        "\"ছিলেন\",\n",
        "\"ছিল\",\n",
        "\"জন্য\",\n",
        "\"জানা\",\n",
        "\"ঠিক\",\n",
        "\"তিনি\",\n",
        "\"তিনঐ\",\n",
        "\"তিনিও\",\n",
        "\"তখন\",\n",
        "\"তবে\",\n",
        "\"তবু\",\n",
        "\"তাঁদের\",\n",
        "\"তাঁহারা\",\n",
        "\"তাঁরা\",\n",
        "\"তাঁর\",\n",
        "\"তাঁকে\",\n",
        "\"তাই\",\n",
        "\"তেমন\",\n",
        "\"তাকে\",\n",
        "\"তাহা\",\n",
        "\"তাহাতে\",\n",
        "\"তাহার\",\n",
        "\"তাদের\",\n",
        "\"তারপর\",\n",
        "\"তারা\",\n",
        "\"তারৈ\",\n",
        "\"তার\",\n",
        "\"তাহলে\",\n",
        "\"তিনি\",\n",
        "\"তা\",\n",
        "\"তাও\",\n",
        "\"তাতে\",\n",
        "\"তো\",\n",
        "\"তত\",\n",
        "\"তুমি\",\n",
        "\"তোমার\",\n",
        "\"তথা\",\n",
        "\"থাকে\",\n",
        "\"থাকা\",\n",
        "\"থাকায়\",\n",
        "\"থেকে\",\n",
        "\"থেকেও\",\n",
        "\"থাকবে\",\n",
        "\"থাকেন\",\n",
        "\"থাকবেন\",\n",
        "\"থেকেই\",\n",
        "\"দিকে\",\n",
        "\"দিতে\",\n",
        "\"দিয়ে\",\n",
        "\"দিয়েছে\",\n",
        "\"দিয়েছেন\",\n",
        "\"দিলেন\",\n",
        "\"দু\",\n",
        "\"দুটি\",\n",
        "\"দুটো\",\n",
        "\"দেয়\",\n",
        "\"দেওয়া\",\n",
        "\"দেওয়ার\",\n",
        "\"দেখা\",\n",
        "\"দেখে\",\n",
        "\"দেখতে\",\n",
        "\"দ্বারা\",\n",
        "\"ধরে\",\n",
        "\"ধরা\",\n",
        "\"নয়\",\n",
        "\"নানা\",\n",
        "\"না\",\n",
        "\"নাকি\",\n",
        "\"নাগাদ\",\n",
        "\"নিতে\",\n",
        "\"নিজে\",\n",
        "\"নিজেই\",\n",
        "\"নিজের\",\n",
        "\"নিজেদের\",\n",
        "\"নিয়ে\",\n",
        "\"নেওয়া\",\n",
        "\"নেওয়ার\",\n",
        "\"নেই\",\n",
        "\"নাই\",\n",
        "\"পক্ষে\",\n",
        "\"পর্যন্ত\",\n",
        "\"পাওয়া\",\n",
        "\"পারেন\",\n",
        "\"পারি\",\n",
        "\"পারে\",\n",
        "\"পরে\",\n",
        "\"পরেই\",\n",
        "\"পরেও\",\n",
        "\"পর\",\n",
        "\"পেয়ে\",\n",
        "\"প্রতি\",\n",
        "\"প্রভৃতি\",\n",
        "\"প্রায়\",\n",
        "\"ফের\",\n",
        "\"ফলে\",\n",
        "\"ফিরে\",\n",
        "\"ব্যবহার\",\n",
        "\"বলতে\",\n",
        "\"বললেন\",\n",
        "\"বলেছেন\",\n",
        "\"বলল\",\n",
        "\"বলা\",\n",
        "\"বলেন\",\n",
        "\"বলে\",\n",
        "\"বহু\",\n",
        "\"বসে\",\n",
        "\"বার\",\n",
        "\"বা\",\n",
        "\"বিনা\",\n",
        "\"বরং\",\n",
        "\"বদলে\",\n",
        "\"বাদে\",\n",
        "\"বার\",\n",
        "\"বিশেষ\",\n",
        "\"বিভিন্ন\tবিষয়টি\",\n",
        "\"ব্যবহার\",\n",
        "\"ব্যাপারে\",\n",
        "\"ভাবে\",\n",
        "\"ভাবেই\",\n",
        "\"মধ্যে\",\n",
        "\"মধ্যেই\",\n",
        "\"মধ্যেও\",\n",
        "\"মধ্যভাগে\",\n",
        "\"মাধ্যমে\",\n",
        "\"মাত্র\",\n",
        "\"মতো\",\n",
        "\"মতোই\",\n",
        "\"মোটেই\",\n",
        "\"যখন\",\n",
        "\"যদি\",\n",
        "\"যদিও\",\n",
        "\"যাবে\",\n",
        "\"যায়\",\n",
        "\"যাকে\",\n",
        "\"যাওয়া\",\n",
        "\"যাওয়ার\",\n",
        "\"যত\",\n",
        "\"যতটা\",\n",
        "\"যা\",\n",
        "\"যার\",\n",
        "\"যারা\",\n",
        "\"যাঁর\",\n",
        "\"যাঁরা\",\n",
        "\"যাদের\",\n",
        "\"যান\",\n",
        "\"যাচ্ছে\",\n",
        "\"যেতে\",\n",
        "\"যাতে\",\n",
        "\"যেন\",\n",
        "\"যেমন\",\n",
        "\"যেখানে\",\n",
        "\"যিনি\",\n",
        "\"যে\",\n",
        "\"রেখে\",\n",
        "\"রাখা\",\n",
        "\"রয়েছে\",\n",
        "\"রকম\",\n",
        "\"শুধু\",\n",
        "\"সঙ্গে\",\n",
        "\"সঙ্গেও\",\n",
        "\"সমস্ত\",\n",
        "\"সব\",\n",
        "\"সবার\",\n",
        "\"সহ\",\n",
        "\"সুতরাং\",\n",
        "\"সহিত\",\n",
        "\"সেই\",\n",
        "\"সেটা\",\n",
        "\"সেটি\",\n",
        "\"সেটাই\",\n",
        "\"সেটাও\",\n",
        "\"সম্প্রতি\",\n",
        "\"সেখান\",\n",
        "\"সেখানে\",\n",
        "\"সে\",\n",
        "\"স্পষ্ট\",\n",
        "\"স্বয়ং\",\n",
        "\"হইতে\",\n",
        "\"হইবে\",\n",
        "\"হৈলে\",\n",
        "\"হইয়া\",\n",
        "\"হচ্ছে\",\n",
        "\"হত\",\n",
        "\"হতে\",\n",
        "\"হতেই\",\n",
        "\"হবে\",\n",
        "\"হবেন\",\n",
        "\"হয়েছিল\",\n",
        "\"হয়েছে\",\n",
        "\"হয়েছেন\",\n",
        "\"হয়ে\",\n",
        "\"হয়নি\",\n",
        "\"হয়\",\n",
        "\"হয়েই\",\n",
        "\"হয়তো\",\n",
        "\"হল\",\n",
        "\"হলে\",\n",
        "\"হলেই\",\n",
        "\"হলেও\",\n",
        "\"হলো\",\n",
        "\"হিসাবে\",\n",
        "\"হওয়া\",\n",
        "\"হওয়ার\",\n",
        "\"হওয়ায়\",\n",
        "\"হন\",\n",
        "\"হোক\",\n",
        "\"জন\",\n",
        "\"জনকে\",\n",
        "\"জনের\",\n",
        "\"জানতে\",\n",
        "\"জানায়\",\n",
        "\"জানিয়ে\",\n",
        "\"জানানো\",\n",
        "\"জানিয়েছে\",\n",
        "\"জন্য\", \"জন্যওজে\", \"জে\", \"বেশ\", \"দেন\", \"তুলে\", \"ছিলেন\", \"চান\", \"চায়\", \"চেয়ে\", \"মোট\", \"যথেষ্ট\", \"টি\"])\n",
        "data['content'] = data['content'].apply(lambda x: ' '.join([word for word in x.split() if word not in (stop)]))"
      ],
      "execution_count": 10,
      "outputs": [
        {
          "output_type": "stream",
          "name": "stdout",
          "text": [
            "time: 1.18 s (started: 2022-01-02 06:12:21 +00:00)\n"
          ]
        }
      ]
    },
    {
      "cell_type": "markdown",
      "metadata": {
        "id": "ezZDHJ-0fbc1"
      },
      "source": [
        "#Bulding Model"
      ]
    },
    {
      "cell_type": "markdown",
      "metadata": {
        "id": "06ReTE9Z6pLv"
      },
      "source": [
        "Spliting datas into training set and test set"
      ]
    },
    {
      "cell_type": "code",
      "metadata": {
        "id": "yU7d4N1gff4b",
        "colab": {
          "base_uri": "https://localhost:8080/"
        },
        "outputId": "f087d5c7-15c8-45aa-836c-e9cd51eeb49a"
      },
      "source": [
        "y = data['Label']\n",
        "X_train, X_test, y_train, y_test = train_test_split(data['content'], y,test_size=0.33,random_state=53)"
      ],
      "execution_count": 11,
      "outputs": [
        {
          "output_type": "stream",
          "name": "stdout",
          "text": [
            "time: 6.17 ms (started: 2022-01-02 06:12:39 +00:00)\n"
          ]
        }
      ]
    },
    {
      "cell_type": "code",
      "metadata": {
        "id": "s-iIarNYfm7B",
        "colab": {
          "base_uri": "https://localhost:8080/"
        },
        "outputId": "1dc2bda6-23a6-41c5-9876-00a191fd6fc2"
      },
      "source": [
        "count_vectorizer = CountVectorizer(stop_words = frozenset([\"অবশ্য\", \"অনেক\", \"অনেকে\", \"অনেকেই\", \"অন্তত\", \"অথবা\", \"অথচ\",\n",
        "\"অর্থাত\",\n",
        "\"অন্য\",\n",
        "\"আজ\",\n",
        "\"আছে\",\n",
        "\"আপনার\",\n",
        "\"আপনি\",\n",
        "\"আবার\",\n",
        "\"আমরা\",\n",
        "\"আমাকে\",\n",
        "\"আমাদের\",\n",
        "\"আমার\",\n",
        "\"আমি\",\n",
        "\"আরও\",\n",
        "\"আর\",\n",
        "\"আগে\",\n",
        "\"আগেই\",\n",
        "\"আই\",\n",
        "\"অতএব\",\n",
        "\"আগামী\",\n",
        "\"অবধি\",\n",
        "\"অনুযায়ী\",\n",
        "\"আদ্যভাগে\",\n",
        "\"এই\",\n",
        "\"একই\",\n",
        "\"একে\",\n",
        "\"একটি\",\n",
        "\"এখন\",\n",
        "\"এখনও\",\n",
        "\"এখানে\",\n",
        "\"এখানেই\",\n",
        "\"এটি\",\n",
        "\"এটা\",\n",
        "\"এটাই\",\n",
        "\"এতটাই\",\n",
        "\"এবং\",\n",
        "\"একবার\",\n",
        "\"এবার\",\n",
        "\"এদের\",\n",
        "\"এঁদের\",\n",
        "\"এমন\",\n",
        "\"এমনকী\",\n",
        "\"এল\",\n",
        "\"এর\",\n",
        "\"এরা\",\n",
        "\"এঁরা\",\n",
        "\"এস\",\n",
        "\"এত\",\n",
        "\"এতে\",\n",
        "\"এসে\",\n",
        "\"একে\",\n",
        "\"এ\",\n",
        "\"ঐ\",\n",
        "\"ই\",\n",
        "\"ইহা\",\n",
        "\"ইত্যাদি\",\n",
        "\"উনি\",\n",
        "\"উপর\",\n",
        "\"উপরে\",\n",
        "\"উচিত\",\n",
        "\"ও\",\n",
        "\"ওই\",\n",
        "\"ওর\",\n",
        "\"ওরা\",\n",
        "\"ওঁর\",\n",
        "\"ওঁরা\",\n",
        "\"ওকে\",\n",
        "\"ওদের\",\n",
        "\"ওঁদের\"\n",
        "\"ওখানে\",\n",
        "\"কত\",\n",
        "\"কবে\",\n",
        "\"করতে\",\n",
        "\"কয়েক\",\n",
        "\"কয়েকটি\",\n",
        "\"করবে\",\n",
        "\"করলেন\",\n",
        "\"করার\",\n",
        "\"কারও\",\n",
        "\"করা\",\n",
        "\"করি\",\n",
        "\"করিয়ে\",\n",
        "\"করার\",\n",
        "\"করাই\",\n",
        "\"করলে\",\n",
        "\"করলেন\",\n",
        "\"করিতে\",\n",
        "\"করিয়া\",\n",
        "\"করেছিলেন\",\n",
        "\"করছে\",\n",
        "\"করছেন\",\n",
        "\"করেছেন\",\n",
        "\"করেছে\",\n",
        "\"করেন\",\n",
        "\"করবেন\",\n",
        "\"করায়\",\n",
        "\"করে\",\n",
        "\"করেই\",\n",
        "\"কাছ\",\n",
        "\"কাছে\",\n",
        "\"কাজে\",\n",
        "\"কারণ\",\n",
        "\"কিছু\",\n",
        "\"কিছুই\",\n",
        "\"কিন্তু\",\n",
        "\"কিংবা\",\n",
        "\"কি\",\n",
        "\"কী\",\n",
        "\"কেউ\",\n",
        "\"কেউই\",\n",
        "\"কাউকে\",\n",
        "\"কেন\",\n",
        "\"কে\",\n",
        "\"কোনও\",\n",
        "\"কোনো\",\n",
        "\"কোন\",\n",
        "\"কখনও\",\n",
        "\"ক্ষেত্রে\",\n",
        "\"খুব\",\t\n",
        "\"গুলি\",\n",
        "\"গিয়ে\",\n",
        "\"গিয়েছে\",\n",
        "\"গেছে\",\n",
        "\"গেল\",\n",
        "\"গেলে\",\n",
        "\"গোটা\",\n",
        "\"চলে\",\n",
        "\"ছাড়া\",\n",
        "\"ছাড়াও\",\n",
        "\"ছিলেন\",\n",
        "\"ছিল\",\n",
        "\"জন্য\",\n",
        "\"জানা\",\n",
        "\"ঠিক\",\n",
        "\"তিনি\",\n",
        "\"তিনঐ\",\n",
        "\"তিনিও\",\n",
        "\"তখন\",\n",
        "\"তবে\",\n",
        "\"তবু\",\n",
        "\"তাঁদের\",\n",
        "\"তাঁহারা\",\n",
        "\"তাঁরা\",\n",
        "\"তাঁর\",\n",
        "\"তাঁকে\",\n",
        "\"তাই\",\n",
        "\"তেমন\",\n",
        "\"তাকে\",\n",
        "\"তাহা\",\n",
        "\"তাহাতে\",\n",
        "\"তাহার\",\n",
        "\"তাদের\",\n",
        "\"তারপর\",\n",
        "\"তারা\",\n",
        "\"তারৈ\",\n",
        "\"তার\",\n",
        "\"তাহলে\",\n",
        "\"তিনি\",\n",
        "\"তা\",\n",
        "\"তাও\",\n",
        "\"তাতে\",\n",
        "\"তো\",\n",
        "\"তত\",\n",
        "\"তুমি\",\n",
        "\"তোমার\",\n",
        "\"তথা\",\n",
        "\"থাকে\",\n",
        "\"থাকা\",\n",
        "\"থাকায়\",\n",
        "\"থেকে\",\n",
        "\"থেকেও\",\n",
        "\"থাকবে\",\n",
        "\"থাকেন\",\n",
        "\"থাকবেন\",\n",
        "\"থেকেই\",\n",
        "\"দিকে\",\n",
        "\"দিতে\",\n",
        "\"দিয়ে\",\n",
        "\"দিয়েছে\",\n",
        "\"দিয়েছেন\",\n",
        "\"দিলেন\",\n",
        "\"দু\",\n",
        "\"দুটি\",\n",
        "\"দুটো\",\n",
        "\"দেয়\",\n",
        "\"দেওয়া\",\n",
        "\"দেওয়ার\",\n",
        "\"দেখা\",\n",
        "\"দেখে\",\n",
        "\"দেখতে\",\n",
        "\"দ্বারা\",\n",
        "\"ধরে\",\n",
        "\"ধরা\",\n",
        "\"নয়\",\n",
        "\"নানা\",\n",
        "\"না\",\n",
        "\"নাকি\",\n",
        "\"নাগাদ\",\n",
        "\"নিতে\",\n",
        "\"নিজে\",\n",
        "\"নিজেই\",\n",
        "\"নিজের\",\n",
        "\"নিজেদের\",\n",
        "\"নিয়ে\",\n",
        "\"নেওয়া\",\n",
        "\"নেওয়ার\",\n",
        "\"নেই\",\n",
        "\"নাই\",\n",
        "\"পক্ষে\",\n",
        "\"পর্যন্ত\",\n",
        "\"পাওয়া\",\n",
        "\"পারেন\",\n",
        "\"পারি\",\n",
        "\"পারে\",\n",
        "\"পরে\",\n",
        "\"পরেই\",\n",
        "\"পরেও\",\n",
        "\"পর\",\n",
        "\"পেয়ে\",\n",
        "\"প্রতি\",\n",
        "\"প্রভৃতি\",\n",
        "\"প্রায়\",\n",
        "\"ফের\",\n",
        "\"ফলে\",\n",
        "\"ফিরে\",\n",
        "\"ব্যবহার\",\n",
        "\"বলতে\",\n",
        "\"বললেন\",\n",
        "\"বলেছেন\",\n",
        "\"বলল\",\n",
        "\"বলা\",\n",
        "\"বলেন\",\n",
        "\"বলে\",\n",
        "\"বহু\",\n",
        "\"বসে\",\n",
        "\"বার\",\n",
        "\"বা\",\n",
        "\"বিনা\",\n",
        "\"বরং\",\n",
        "\"বদলে\",\n",
        "\"বাদে\",\n",
        "\"বার\",\n",
        "\"বিশেষ\",\n",
        "\"বিভিন্ন\tবিষয়টি\",\n",
        "\"ব্যবহার\",\n",
        "\"ব্যাপারে\",\n",
        "\"ভাবে\",\n",
        "\"ভাবেই\",\n",
        "\"মধ্যে\",\n",
        "\"মধ্যেই\",\n",
        "\"মধ্যেও\",\n",
        "\"মধ্যভাগে\",\n",
        "\"মাধ্যমে\",\n",
        "\"মাত্র\",\n",
        "\"মতো\",\n",
        "\"মতোই\",\n",
        "\"মোটেই\",\n",
        "\"যখন\",\n",
        "\"যদি\",\n",
        "\"যদিও\",\n",
        "\"যাবে\",\n",
        "\"যায়\",\n",
        "\"যাকে\",\n",
        "\"যাওয়া\",\n",
        "\"যাওয়ার\",\n",
        "\"যত\",\n",
        "\"যতটা\",\n",
        "\"যা\",\n",
        "\"যার\",\n",
        "\"যারা\",\n",
        "\"যাঁর\",\n",
        "\"যাঁরা\",\n",
        "\"যাদের\",\n",
        "\"যান\",\n",
        "\"যাচ্ছে\",\n",
        "\"যেতে\",\n",
        "\"যাতে\",\n",
        "\"যেন\",\n",
        "\"যেমন\",\n",
        "\"যেখানে\",\n",
        "\"যিনি\",\n",
        "\"যে\",\n",
        "\"রেখে\",\n",
        "\"রাখা\",\n",
        "\"রয়েছে\",\n",
        "\"রকম\",\n",
        "\"শুধু\",\n",
        "\"সঙ্গে\",\n",
        "\"সঙ্গেও\",\n",
        "\"সমস্ত\",\n",
        "\"সব\",\n",
        "\"সবার\",\n",
        "\"সহ\",\n",
        "\"সুতরাং\",\n",
        "\"সহিত\",\n",
        "\"সেই\",\n",
        "\"সেটা\",\n",
        "\"সেটি\",\n",
        "\"সেটাই\",\n",
        "\"সেটাও\",\n",
        "\"সম্প্রতি\",\n",
        "\"সেখান\",\n",
        "\"সেখানে\",\n",
        "\"সে\",\n",
        "\"স্পষ্ট\",\n",
        "\"স্বয়ং\",\n",
        "\"হইতে\",\n",
        "\"হইবে\",\n",
        "\"হৈলে\",\n",
        "\"হইয়া\",\n",
        "\"হচ্ছে\",\n",
        "\"হত\",\n",
        "\"হতে\",\n",
        "\"হতেই\",\n",
        "\"হবে\",\n",
        "\"হবেন\",\n",
        "\"হয়েছিল\",\n",
        "\"হয়েছে\",\n",
        "\"হয়েছেন\",\n",
        "\"হয়ে\",\n",
        "\"হয়নি\",\n",
        "\"হয়\",\n",
        "\"হয়েই\",\n",
        "\"হয়তো\",\n",
        "\"হল\",\n",
        "\"হলে\",\n",
        "\"হলেই\",\n",
        "\"হলেও\",\n",
        "\"হলো\",\n",
        "\"হিসাবে\",\n",
        "\"হওয়া\",\n",
        "\"হওয়ার\",\n",
        "\"হওয়ায়\",\n",
        "\"হন\",\n",
        "\"হোক\",\n",
        "\"জন\",\n",
        "\"জনকে\",\n",
        "\"জনের\",\n",
        "\"জানতে\",\n",
        "\"জানায়\",\n",
        "\"জানিয়ে\",\n",
        "\"জানানো\",\n",
        "\"জানিয়েছে\",\n",
        "\"জন্য\", \"জন্যওজে\", \"জে\", \"বেশ\", \"দেন\", \"তুলে\", \"ছিলেন\", \"চান\", \"চায়\", \"চেয়ে\", \"মোট\", \"যথেষ্ট\", \"টি\"]))\n",
        "\n",
        "count_train = count_vectorizer.fit_transform(X_train.values)\n",
        "count_test = count_vectorizer.transform(X_test.values)\n",
        "print(count_train.shape)"
      ],
      "execution_count": 12,
      "outputs": [
        {
          "output_type": "stream",
          "name": "stderr",
          "text": [
            "/usr/local/lib/python3.7/dist-packages/sklearn/feature_extraction/text.py:401: UserWarning: Your stop_words may be inconsistent with your preprocessing. Tokenizing the stop words generated tokens ['অথব', 'অন', 'অবধ', 'অবশ', 'অর', 'আগ', 'আছ', 'আদ', 'আপন', 'আব', 'আম', 'আমর', 'ইত', 'ইহ', 'উই', 'উক', 'উচ', 'উন', 'এক', 'একট', 'একব', 'এখ', 'এট', 'এতট', 'এদ', 'এব', 'এমনক', 'ওক', 'ওদ', 'ওয়', 'কট', 'কব', 'কর', 'করছ', 'করত', 'করব', 'করল', 'কয়', 'খত', 'চল', 'জনক', 'তথ', 'তব', 'তর', 'ধর', 'নঐ', 'নও', 'নত', 'পক', 'পষ', 'ফল', 'বদল', 'বর', 'বল', 'বলত', 'বস', 'বহ', 'বয়', 'মত', 'মধ', 'মন', 'যওজ', 'যতট', 'যথ', 'যদ', 'যন', 'যবহ', 'যভ', 'যম', 'রও', 'রওখ', 'রণ', 'রত', 'রপর', 'রভ', 'রয়', 'ষয়ট', 'সঙ', 'সম', 'সমস', 'হইত', 'হইব', 'হইয়', 'হওয়', 'হচ', 'হব', 'হয়ত', 'হয়ন'] not in stop_words.\n",
            "  % sorted(inconsistent)\n"
          ]
        },
        {
          "output_type": "stream",
          "name": "stdout",
          "text": [
            "(5695, 11928)\n",
            "time: 2.4 s (started: 2022-01-02 06:12:42 +00:00)\n"
          ]
        }
      ]
    },
    {
      "cell_type": "markdown",
      "source": [
        "#Trainig Model"
      ],
      "metadata": {
        "id": "citg6dki-5fI"
      }
    },
    {
      "cell_type": "markdown",
      "source": [
        "##RNN"
      ],
      "metadata": {
        "id": "-zFUEVye--Dy"
      }
    },
    {
      "cell_type": "code",
      "source": [
        "import pandas as pd \n",
        "import matplotlib.pyplot as plt \n",
        "import numpy as np \n",
        "import tensorflow as tf \n",
        "import re \n",
        "from tensorflow.keras.preprocessing.text import Tokenizer\n",
        "import tensorflow as tf\n",
        "from sklearn.metrics import accuracy_score\n",
        "from sklearn.model_selection import train_test_split\n",
        "from sklearn.metrics import accuracy_score, confusion_matrix, precision_score, recall_score\n",
        "import seaborn as sns \n",
        "plt.style.use('ggplot')"
      ],
      "metadata": {
        "colab": {
          "base_uri": "https://localhost:8080/"
        },
        "id": "mA7Wo_bgC35l",
        "outputId": "b382b855-2ef9-48d9-caa8-a30d7f49350f"
      },
      "execution_count": 66,
      "outputs": [
        {
          "output_type": "stream",
          "name": "stdout",
          "text": [
            "time: 7.74 ms (started: 2022-01-02 08:31:45 +00:00)\n"
          ]
        }
      ]
    },
    {
      "cell_type": "code",
      "source": [
        "max_vocab = 10000"
      ],
      "metadata": {
        "colab": {
          "base_uri": "https://localhost:8080/"
        },
        "id": "nUBxBE35-9nL",
        "outputId": "f6ebd9e4-4dea-4ee4-9aa5-f7a072a6b169"
      },
      "execution_count": 67,
      "outputs": [
        {
          "output_type": "stream",
          "name": "stdout",
          "text": [
            "time: 1.28 ms (started: 2022-01-02 08:31:46 +00:00)\n"
          ]
        }
      ]
    },
    {
      "cell_type": "code",
      "source": [
        "X_train = tf.keras.preprocessing.sequence.pad_sequences(X_train, padding='post', maxlen=256)\n",
        "X_test = tf.keras.preprocessing.sequence.pad_sequences(X_test, padding='post', maxlen=256)"
      ],
      "metadata": {
        "colab": {
          "base_uri": "https://localhost:8080/"
        },
        "id": "TiMq02N9BkiZ",
        "outputId": "07c6859a-fd02-464d-a48b-8d303af7f1b2"
      },
      "execution_count": 68,
      "outputs": [
        {
          "output_type": "stream",
          "name": "stdout",
          "text": [
            "time: 72.6 ms (started: 2022-01-02 08:31:46 +00:00)\n"
          ]
        }
      ]
    },
    {
      "cell_type": "code",
      "source": [
        "model = tf.keras.Sequential([\n",
        "    tf.keras.layers.Embedding(max_vocab, 32),\n",
        "    tf.keras.layers.Bidirectional(tf.keras.layers.LSTM(64,  return_sequences=True)),\n",
        "    tf.keras.layers.Bidirectional(tf.keras.layers.LSTM(16)),\n",
        "    tf.keras.layers.Dense(64, activation='relu'),\n",
        "    tf.keras.layers.Dropout(0.5),\n",
        "    tf.keras.layers.Dense(1)\n",
        "])\n",
        "\n",
        "model.summary()"
      ],
      "metadata": {
        "colab": {
          "base_uri": "https://localhost:8080/"
        },
        "id": "fTYPp7FQBm-M",
        "outputId": "341d51b6-47d9-414d-9d82-3f5d08b1245c"
      },
      "execution_count": 69,
      "outputs": [
        {
          "output_type": "stream",
          "name": "stdout",
          "text": [
            "Model: \"sequential_2\"\n",
            "_________________________________________________________________\n",
            " Layer (type)                Output Shape              Param #   \n",
            "=================================================================\n",
            " embedding_2 (Embedding)     (None, None, 32)          320000    \n",
            "                                                                 \n",
            " bidirectional_4 (Bidirectio  (None, None, 128)        49664     \n",
            " nal)                                                            \n",
            "                                                                 \n",
            " bidirectional_5 (Bidirectio  (None, 32)               18560     \n",
            " nal)                                                            \n",
            "                                                                 \n",
            " dense_4 (Dense)             (None, 64)                2112      \n",
            "                                                                 \n",
            " dropout_2 (Dropout)         (None, 64)                0         \n",
            "                                                                 \n",
            " dense_5 (Dense)             (None, 1)                 65        \n",
            "                                                                 \n",
            "=================================================================\n",
            "Total params: 390,401\n",
            "Trainable params: 390,401\n",
            "Non-trainable params: 0\n",
            "_________________________________________________________________\n",
            "time: 1.62 s (started: 2022-01-02 08:31:46 +00:00)\n"
          ]
        }
      ]
    },
    {
      "cell_type": "code",
      "source": [
        "from sklearn.metrics import classification_report"
      ],
      "metadata": {
        "colab": {
          "base_uri": "https://localhost:8080/"
        },
        "id": "5aLoBzW0HA-a",
        "outputId": "654037a5-daf3-4a6c-eee1-741044ff3aae"
      },
      "execution_count": 70,
      "outputs": [
        {
          "output_type": "stream",
          "name": "stdout",
          "text": [
            "time: 1.36 ms (started: 2022-01-02 08:31:47 +00:00)\n"
          ]
        }
      ]
    },
    {
      "cell_type": "code",
      "source": [
        "early_stop = tf.keras.callbacks.EarlyStopping(monitor='val_loss', patience=2, restore_best_weights=True)\n",
        "model.compile(loss=tf.keras.losses.BinaryCrossentropy(from_logits=True),\n",
        "              optimizer=tf.keras.optimizers.Adam(1e-4),\n",
        "              metrics=['accuracy'])\n",
        "\n",
        "history = model.fit(X_train, y_train, epochs=10,validation_split=0.1, batch_size=30, shuffle=True, callbacks=[early_stop])\n",
        "\n",
        "pred = model.predict(X_test)\n",
        "\n",
        "binary_predictions = []\n",
        "\n",
        "for i in pred:\n",
        "    if i >= 0.5:\n",
        "        binary_predictions.append(1)\n",
        "    else:\n",
        "        binary_predictions.append(0) \n",
        "\n",
        "print(classification_report(y_test, binary_predictions, target_names = ['Fake','True']))"
      ],
      "metadata": {
        "colab": {
          "base_uri": "https://localhost:8080/"
        },
        "id": "eRH7YXIIBskT",
        "outputId": "2bf69389-cee9-4381-ddc7-315fa8f8fd91"
      },
      "execution_count": 71,
      "outputs": [
        {
          "output_type": "stream",
          "name": "stdout",
          "text": [
            "Epoch 1/10\n",
            "171/171 [==============================] - 123s 670ms/step - loss: 0.5243 - accuracy: 0.8484 - val_loss: 0.4095 - val_accuracy: 0.8509\n",
            "Epoch 2/10\n",
            "171/171 [==============================] - 79s 463ms/step - loss: 0.2950 - accuracy: 0.8484 - val_loss: 0.2233 - val_accuracy: 0.8509\n",
            "Epoch 3/10\n",
            "171/171 [==============================] - 80s 466ms/step - loss: 0.1823 - accuracy: 0.8500 - val_loss: 0.2084 - val_accuracy: 0.8509\n",
            "Epoch 4/10\n",
            "171/171 [==============================] - 79s 463ms/step - loss: 0.1362 - accuracy: 0.9426 - val_loss: 0.1570 - val_accuracy: 0.9491\n",
            "Epoch 5/10\n",
            "171/171 [==============================] - 83s 483ms/step - loss: 0.0891 - accuracy: 0.9809 - val_loss: 0.1488 - val_accuracy: 0.9561\n",
            "Epoch 6/10\n",
            "171/171 [==============================] - 85s 497ms/step - loss: 0.0625 - accuracy: 0.9877 - val_loss: 0.1911 - val_accuracy: 0.9491\n",
            "Epoch 7/10\n",
            "171/171 [==============================] - 84s 492ms/step - loss: 0.0541 - accuracy: 0.9912 - val_loss: 0.1927 - val_accuracy: 0.9491\n",
            "              precision    recall  f1-score   support\n",
            "\n",
            "        Fake       0.96      0.98      0.97      2369\n",
            "        True       0.88      0.76      0.81       437\n",
            "\n",
            "    accuracy                           0.95      2806\n",
            "   macro avg       0.92      0.87      0.89      2806\n",
            "weighted avg       0.94      0.95      0.94      2806\n",
            "\n",
            "time: 10min 39s (started: 2022-01-02 08:31:47 +00:00)\n"
          ]
        }
      ]
    },
    {
      "cell_type": "code",
      "source": [
        "# plot ROC Curve\n",
        "\n",
        "from sklearn.metrics import roc_curve\n",
        "\n",
        "\n",
        "fpr, tpr, thresholds = roc_curve(y_test, binary_predictions)\n",
        "\n",
        "plt.figure(figsize=(6,4))\n",
        "\n",
        "plt.plot(fpr, tpr, linewidth=2)\n",
        "\n",
        "plt.plot([0,1], [0,1], 'k--' )\n",
        "\n",
        "plt.rcParams['font.size'] = 12\n",
        "\n",
        "plt.title('ROC curve for Predicting Bangla Fake News (RNN)')\n",
        "\n",
        "plt.xlabel('False Positive Rate')\n",
        "\n",
        "plt.ylabel('True Positive Rate')\n",
        "\n",
        "plt.show()"
      ],
      "metadata": {
        "colab": {
          "base_uri": "https://localhost:8080/",
          "height": 319
        },
        "id": "c5_mrWkiBwaK",
        "outputId": "e4eb9da9-5a66-4185-9885-4937dbd97694"
      },
      "execution_count": 72,
      "outputs": [
        {
          "output_type": "display_data",
          "data": {
            "image/png": "[encoded data removed]",
            "text/plain": [
              "<Figure size 432x288 with 1 Axes>"
            ]
          },
          "metadata": {}
        },
        {
          "output_type": "stream",
          "name": "stdout",
          "text": [
            "time: 209 ms (started: 2022-01-02 08:42:27 +00:00)\n"
          ]
        }
      ]
    },
    {
      "cell_type": "code",
      "source": [
        "# compute ROC AUC\n",
        "\n",
        "from sklearn.metrics import roc_auc_score\n",
        "\n",
        "ROC_AUC = roc_auc_score(y_test, binary_predictions)\n",
        "\n",
        "print('ROC AUC : {:.4f}'.format(ROC_AUC))"
      ],
      "metadata": {
        "colab": {
          "base_uri": "https://localhost:8080/"
        },
        "id": "bfoCFBj8CTB6",
        "outputId": "e9d652c9-1195-4ad2-d61f-0aff75670c05"
      },
      "execution_count": 73,
      "outputs": [
        {
          "output_type": "stream",
          "name": "stdout",
          "text": [
            "ROC AUC : 0.8679\n",
            "time: 8.51 ms (started: 2022-01-02 08:42:28 +00:00)\n"
          ]
        }
      ]
    },
    {
      "cell_type": "code",
      "source": [
        "# Print the Confusion Matrix and slice it into four pieces\n",
        "\n",
        "from sklearn.metrics import confusion_matrix\n",
        "\n",
        "cm = confusion_matrix(y_test, binary_predictions)\n",
        "\n",
        "print('Confusion matrix\\n\\n', cm)\n",
        "\n",
        "print('\\nTrue Positives(TP) = ', cm[0,0])\n",
        "\n",
        "print('\\nTrue Negatives(TN) = ', cm[1,1])\n",
        "\n",
        "print('\\nFalse Positives(FP) = ', cm[0,1])\n",
        "\n",
        "print('\\nFalse Negatives(FN) = ', cm[1,0])"
      ],
      "metadata": {
        "colab": {
          "base_uri": "https://localhost:8080/"
        },
        "id": "K7htgPPUCb3b",
        "outputId": "e53e606c-3823-407b-8a47-1837db568db8"
      },
      "execution_count": 74,
      "outputs": [
        {
          "output_type": "stream",
          "name": "stdout",
          "text": [
            "Confusion matrix\n",
            "\n",
            " [[2323   46]\n",
            " [ 107  330]]\n",
            "\n",
            "True Positives(TP) =  2323\n",
            "\n",
            "True Negatives(TN) =  330\n",
            "\n",
            "False Positives(FP) =  46\n",
            "\n",
            "False Negatives(FN) =  107\n",
            "time: 19.8 ms (started: 2022-01-02 08:42:28 +00:00)\n"
          ]
        }
      ]
    },
    {
      "cell_type": "code",
      "source": [
        "# visualize confusion matrix with seaborn heatmap\n",
        "\n",
        "cm_matrix = pd.DataFrame(data=cm, columns=['Actual Positive:1', 'Actual Negative:0'], \n",
        "                                 index=['Predict Positive:1', 'Predict Negative:0'])\n",
        "\n",
        "sns.heatmap(cm_matrix, annot=True, fmt='d', cmap='YlGnBu')"
      ],
      "metadata": {
        "colab": {
          "base_uri": "https://localhost:8080/",
          "height": 303
        },
        "id": "Tp6GrQV7Cuwp",
        "outputId": "52d946ad-a991-4993-f890-06168b1f7575"
      },
      "execution_count": 75,
      "outputs": [
        {
          "output_type": "execute_result",
          "data": {
            "text/plain": [
              "<matplotlib.axes._subplots.AxesSubplot at 0x7f8374327dd0>"
            ]
          },
          "metadata": {},
          "execution_count": 75
        },
        {
          "output_type": "display_data",
          "data": {
            "image/png": "[encoded data removed]",
            "text/plain": [
              "<Figure size 432x288 with 2 Axes>"
            ]
          },
          "metadata": {}
        },
        {
          "output_type": "stream",
          "name": "stdout",
          "text": [
            "time: 254 ms (started: 2022-01-02 08:42:28 +00:00)\n"
          ]
        }
      ]
    },
    {
      "cell_type": "markdown",
      "source": [
        "##Naive Bayes"
      ],
      "metadata": {
        "id": "ZQoyPWfaTwNr"
      }
    },
    {
      "cell_type": "code",
      "source": [
        "from sklearn.naive_bayes import MultinomialNB\n",
        "from sklearn import metrics\n",
        "classifier=MultinomialNB()\n",
        "\n",
        "classifier.fit(X_train, y_train)\n",
        "pred = classifier.predict(X_test)\n",
        "\n",
        "score = metrics.accuracy_score(y_test, pred)\n",
        "\n",
        "print(classification_report(y_test, pred, target_names = ['Fake','True']))"
      ],
      "metadata": {
        "colab": {
          "base_uri": "https://localhost:8080/"
        },
        "id": "FD7Gx372SvEW",
        "outputId": "4ba67922-7d61-4b3d-ea8a-8b0251c17735"
      },
      "execution_count": 76,
      "outputs": [
        {
          "output_type": "stream",
          "name": "stdout",
          "text": [
            "              precision    recall  f1-score   support\n",
            "\n",
            "        Fake       0.89      0.24      0.38      2369\n",
            "        True       0.17      0.84      0.28       437\n",
            "\n",
            "    accuracy                           0.34      2806\n",
            "   macro avg       0.53      0.54      0.33      2806\n",
            "weighted avg       0.78      0.34      0.37      2806\n",
            "\n",
            "time: 55 ms (started: 2022-01-02 08:42:28 +00:00)\n"
          ]
        }
      ]
    },
    {
      "cell_type": "code",
      "source": [
        "# plot ROC Curve\n",
        "\n",
        "from sklearn.metrics import roc_curve\n",
        "\n",
        "\n",
        "fpr, tpr, thresholds = roc_curve(y_test, pred)\n",
        "\n",
        "plt.figure(figsize=(6,4))\n",
        "\n",
        "plt.plot(fpr, tpr, linewidth=2)\n",
        "\n",
        "plt.plot([0,1], [0,1], 'k--' )\n",
        "\n",
        "plt.rcParams['font.size'] = 12\n",
        "\n",
        "plt.title('ROC curve for Predicting Bangla Fake News (RNN)')\n",
        "\n",
        "plt.xlabel('False Positive Rate')\n",
        "\n",
        "plt.ylabel('True Positive Rate')\n",
        "\n",
        "plt.show()"
      ],
      "metadata": {
        "colab": {
          "base_uri": "https://localhost:8080/",
          "height": 323
        },
        "id": "oyJ59n43UPad",
        "outputId": "a9aa0f74-a609-4493-f7c2-15f1cb16cf35"
      },
      "execution_count": 77,
      "outputs": [
        {
          "output_type": "display_data",
          "data": {
            "image/png": "[encoded data removed]",
            "text/plain": [
              "<Figure size 432x288 with 1 Axes>"
            ]
          },
          "metadata": {}
        },
        {
          "output_type": "stream",
          "name": "stdout",
          "text": [
            "time: 238 ms (started: 2022-01-02 08:42:28 +00:00)\n"
          ]
        }
      ]
    },
    {
      "cell_type": "code",
      "source": [
        "# Print the Confusion Matrix and slice it into four pieces\n",
        "\n",
        "from sklearn.metrics import confusion_matrix\n",
        "\n",
        "cm = confusion_matrix(y_test, pred)\n",
        "\n",
        "print('Confusion matrix\\n\\n', cm)\n",
        "\n",
        "print('\\nTrue Positives(TP) = ', cm[0,0])\n",
        "\n",
        "print('\\nTrue Negatives(TN) = ', cm[1,1])\n",
        "\n",
        "print('\\nFalse Positives(FP) = ', cm[0,1])\n",
        "\n",
        "print('\\nFalse Negatives(FN) = ', cm[1,0])"
      ],
      "metadata": {
        "colab": {
          "base_uri": "https://localhost:8080/"
        },
        "id": "Dy2QcLV_UZwx",
        "outputId": "a039e1df-4362-4ace-d487-439730a1f29a"
      },
      "execution_count": 78,
      "outputs": [
        {
          "output_type": "stream",
          "name": "stdout",
          "text": [
            "Confusion matrix\n",
            "\n",
            " [[ 580 1789]\n",
            " [  71  366]]\n",
            "\n",
            "True Positives(TP) =  580\n",
            "\n",
            "True Negatives(TN) =  366\n",
            "\n",
            "False Positives(FP) =  1789\n",
            "\n",
            "False Negatives(FN) =  71\n",
            "time: 19.6 ms (started: 2022-01-02 08:42:28 +00:00)\n"
          ]
        }
      ]
    },
    {
      "cell_type": "code",
      "source": [
        "# visualize confusion matrix with seaborn heatmap\n",
        "\n",
        "cm_matrix = pd.DataFrame(data=cm, columns=['Actual Positive:1', 'Actual Negative:0'], \n",
        "                                 index=['Predict Positive:1', 'Predict Negative:0'])\n",
        "\n",
        "sns.heatmap(cm_matrix, annot=True, fmt='d', cmap='YlGnBu')"
      ],
      "metadata": {
        "colab": {
          "base_uri": "https://localhost:8080/",
          "height": 303
        },
        "id": "n6bsQQVTUtDO",
        "outputId": "67acca86-9f42-45e6-cfe9-bdd26a7cf7cf"
      },
      "execution_count": 79,
      "outputs": [
        {
          "output_type": "execute_result",
          "data": {
            "text/plain": [
              "<matplotlib.axes._subplots.AxesSubplot at 0x7f8374242210>"
            ]
          },
          "metadata": {},
          "execution_count": 79
        },
        {
          "output_type": "display_data",
          "data": {
            "image/png": "[encoded data removed]",
            "text/plain": [
              "<Figure size 432x288 with 2 Axes>"
            ]
          },
          "metadata": {}
        },
        {
          "output_type": "stream",
          "name": "stdout",
          "text": [
            "time: 323 ms (started: 2022-01-02 08:42:28 +00:00)\n"
          ]
        }
      ]
    },
    {
      "cell_type": "markdown",
      "metadata": {
        "id": "54wjDMUDfxAz"
      },
      "source": [
        "##SVM (Linear)"
      ]
    },
    {
      "cell_type": "code",
      "metadata": {
        "id": "-JdlSUEl8ACA",
        "colab": {
          "base_uri": "https://localhost:8080/"
        },
        "outputId": "398e384e-e014-4160-9049-ead6706640c1"
      },
      "source": [
        "from sklearn.svm import SVC\n",
        "from sklearn.metrics import classification_report"
      ],
      "execution_count": 80,
      "outputs": [
        {
          "output_type": "stream",
          "name": "stdout",
          "text": [
            "time: 1.58 ms (started: 2022-01-02 08:42:29 +00:00)\n"
          ]
        }
      ]
    },
    {
      "cell_type": "code",
      "metadata": {
        "colab": {
          "base_uri": "https://localhost:8080/"
        },
        "id": "bBPR_JGff1Ql",
        "outputId": "9c514a9e-80d0-4952-d735-15fa77cead7a"
      },
      "source": [
        "\n",
        "svc_model1 = SVC(C=1, kernel='linear', gamma= 1)\n",
        "svc_model1.fit(count_train, y_train)\n",
        "\n",
        "prediction1 = svc_model1.predict(count_test)\n",
        "\n",
        "print(classification_report(y_test, prediction1, target_names = ['Fake','True']))\n"
      ],
      "execution_count": 81,
      "outputs": [
        {
          "output_type": "stream",
          "name": "stdout",
          "text": [
            "              precision    recall  f1-score   support\n",
            "\n",
            "        Fake       0.95      0.97      0.96      2369\n",
            "        True       0.81      0.73      0.77       437\n",
            "\n",
            "    accuracy                           0.93      2806\n",
            "   macro avg       0.88      0.85      0.86      2806\n",
            "weighted avg       0.93      0.93      0.93      2806\n",
            "\n",
            "time: 8.37 s (started: 2022-01-02 08:42:29 +00:00)\n"
          ]
        }
      ]
    },
    {
      "cell_type": "code",
      "metadata": {
        "id": "VYvOnx5CprS_",
        "colab": {
          "base_uri": "https://localhost:8080/",
          "height": 323
        },
        "outputId": "019ed002-9e51-49f8-c3b3-b403518c12b4"
      },
      "source": [
        "# plot ROC Curve\n",
        "\n",
        "from sklearn.metrics import roc_curve\n",
        "\n",
        "fpr, tpr, thresholds = roc_curve(y_test, prediction1)\n",
        "\n",
        "plt.figure(figsize=(6,4))\n",
        "\n",
        "plt.plot(fpr, tpr, linewidth=2)\n",
        "\n",
        "plt.plot([0,1], [0,1], 'k--' )\n",
        "\n",
        "plt.rcParams['font.size'] = 12\n",
        "\n",
        "plt.title('ROC curve for Predicting Bangla Fake News (SVM Linear Kernel)')\n",
        "\n",
        "plt.xlabel('False Positive Rate')\n",
        "\n",
        "plt.ylabel('True Positive Rate')\n",
        "\n",
        "plt.show()"
      ],
      "execution_count": 82,
      "outputs": [
        {
          "output_type": "display_data",
          "data": {
            "image/png": "[encoded data removed]",
            "text/plain": [
              "<Figure size 432x288 with 1 Axes>"
            ]
          },
          "metadata": {}
        },
        {
          "output_type": "stream",
          "name": "stdout",
          "text": [
            "time: 283 ms (started: 2022-01-02 08:42:37 +00:00)\n"
          ]
        }
      ]
    },
    {
      "cell_type": "code",
      "metadata": {
        "id": "Z2-HKvYGzCT1",
        "colab": {
          "base_uri": "https://localhost:8080/"
        },
        "outputId": "2fbcf002-6c3c-430d-85be-d0e47a9b0e6f"
      },
      "source": [
        "# compute ROC AUC\n",
        "\n",
        "from sklearn.metrics import roc_auc_score\n",
        "\n",
        "ROC_AUC = roc_auc_score(y_test, prediction1)\n",
        "\n",
        "print('ROC AUC : {:.4f}'.format(ROC_AUC))"
      ],
      "execution_count": 83,
      "outputs": [
        {
          "output_type": "stream",
          "name": "stdout",
          "text": [
            "ROC AUC : 0.8494\n",
            "time: 26.9 ms (started: 2022-01-02 08:42:37 +00:00)\n"
          ]
        }
      ]
    },
    {
      "cell_type": "code",
      "metadata": {
        "id": "7I_s-3Buq_3v",
        "colab": {
          "base_uri": "https://localhost:8080/"
        },
        "outputId": "df494b6c-dcfe-4451-f5dc-9914cdc5160a"
      },
      "source": [
        "# Print the Confusion Matrix and slice it into four pieces\n",
        "\n",
        "from sklearn.metrics import confusion_matrix\n",
        "\n",
        "cm = confusion_matrix(y_test, prediction1)\n",
        "\n",
        "print('Confusion matrix\\n\\n', cm)\n",
        "\n",
        "print('\\nTrue Positives(TP) = ', cm[0,0])\n",
        "\n",
        "print('\\nTrue Negatives(TN) = ', cm[1,1])\n",
        "\n",
        "print('\\nFalse Positives(FP) = ', cm[0,1])\n",
        "\n",
        "print('\\nFalse Negatives(FN) = ', cm[1,0])"
      ],
      "execution_count": 84,
      "outputs": [
        {
          "output_type": "stream",
          "name": "stdout",
          "text": [
            "Confusion matrix\n",
            "\n",
            " [[2295   74]\n",
            " [ 118  319]]\n",
            "\n",
            "True Positives(TP) =  2295\n",
            "\n",
            "True Negatives(TN) =  319\n",
            "\n",
            "False Positives(FP) =  74\n",
            "\n",
            "False Negatives(FN) =  118\n",
            "time: 14.8 ms (started: 2022-01-02 08:42:37 +00:00)\n"
          ]
        }
      ]
    },
    {
      "cell_type": "code",
      "metadata": {
        "id": "SQ52ep5JrBUa",
        "colab": {
          "base_uri": "https://localhost:8080/",
          "height": 304
        },
        "outputId": "ecbb6ae7-ac31-43ad-8019-b68cd17e5013"
      },
      "source": [
        "# visualize confusion matrix with seaborn heatmap\n",
        "\n",
        "cm_matrix = pd.DataFrame(data=cm, columns=['Actual Positive:1', 'Actual Negative:0'], \n",
        "                                 index=['Predict Positive:1', 'Predict Negative:0'])\n",
        "\n",
        "sns.heatmap(cm_matrix, annot=True, fmt='d', cmap='YlGnBu')"
      ],
      "execution_count": 85,
      "outputs": [
        {
          "output_type": "execute_result",
          "data": {
            "text/plain": [
              "<matplotlib.axes._subplots.AxesSubplot at 0x7f8374167790>"
            ]
          },
          "metadata": {},
          "execution_count": 85
        },
        {
          "output_type": "display_data",
          "data": {
            "image/png": "[encoded data removed]",
            "text/plain": [
              "<Figure size 432x288 with 2 Axes>"
            ]
          },
          "metadata": {}
        },
        {
          "output_type": "stream",
          "name": "stdout",
          "text": [
            "time: 324 ms (started: 2022-01-02 08:42:37 +00:00)\n"
          ]
        }
      ]
    },
    {
      "cell_type": "markdown",
      "source": [
        "##SVM (Polynomial)"
      ],
      "metadata": {
        "id": "5LTMd8HIVNW5"
      }
    },
    {
      "cell_type": "code",
      "metadata": {
        "id": "6h_kadEH74jo",
        "colab": {
          "base_uri": "https://localhost:8080/"
        },
        "outputId": "8976d5a9-3dec-4b16-f99b-dfab5ba3b42e"
      },
      "source": [
        "svc_model1 = SVC(C=1, kernel='poly', gamma= 1)\n",
        "svc_model1.fit(count_train, y_train)\n",
        "\n",
        "prediction2 = svc_model1.predict(count_test)\n",
        "\n",
        "print(classification_report(y_test, prediction2, target_names = ['Fake','True']))"
      ],
      "execution_count": 86,
      "outputs": [
        {
          "output_type": "stream",
          "name": "stdout",
          "text": [
            "              precision    recall  f1-score   support\n",
            "\n",
            "        Fake       0.93      0.94      0.94      2369\n",
            "        True       0.67      0.60      0.63       437\n",
            "\n",
            "    accuracy                           0.89      2806\n",
            "   macro avg       0.80      0.77      0.78      2806\n",
            "weighted avg       0.89      0.89      0.89      2806\n",
            "\n",
            "time: 13.9 s (started: 2022-01-02 08:42:38 +00:00)\n"
          ]
        }
      ]
    },
    {
      "cell_type": "code",
      "metadata": {
        "id": "uaImSO8EzUVl",
        "colab": {
          "base_uri": "https://localhost:8080/",
          "height": 323
        },
        "outputId": "76e6ff75-1369-4200-9ff5-e6215118696c"
      },
      "source": [
        "# plot ROC Curve\n",
        "\n",
        "from sklearn.metrics import roc_curve\n",
        "\n",
        "fpr, tpr, thresholds = roc_curve(y_test, prediction2)\n",
        "\n",
        "plt.figure(figsize=(6,4))\n",
        "\n",
        "plt.plot(fpr, tpr, linewidth=2)\n",
        "\n",
        "plt.plot([0,1], [0,1], 'k--' )\n",
        "\n",
        "plt.rcParams['font.size'] = 12\n",
        "\n",
        "plt.title('ROC curve for Predicting Bangla Fake News (SVM Polynomial Kernel)')\n",
        "\n",
        "plt.xlabel('False Positive Rate')\n",
        "\n",
        "plt.ylabel('True Positive Rate')\n",
        "\n",
        "plt.show()"
      ],
      "execution_count": 87,
      "outputs": [
        {
          "output_type": "display_data",
          "data": {
            "image/png": "[encoded data removed]",
            "text/plain": [
              "<Figure size 432x288 with 1 Axes>"
            ]
          },
          "metadata": {}
        },
        {
          "output_type": "stream",
          "name": "stdout",
          "text": [
            "time: 211 ms (started: 2022-01-02 08:42:52 +00:00)\n"
          ]
        }
      ]
    },
    {
      "cell_type": "code",
      "metadata": {
        "id": "B8f6rvVqza7b",
        "colab": {
          "base_uri": "https://localhost:8080/"
        },
        "outputId": "084270e4-e513-4621-e269-481b0afcb0e3"
      },
      "source": [
        "# compute ROC AUC\n",
        "\n",
        "from sklearn.metrics import roc_auc_score\n",
        "\n",
        "ROC_AUC = roc_auc_score(y_test, prediction2)\n",
        "\n",
        "print('ROC AUC : {:.4f}'.format(ROC_AUC))"
      ],
      "execution_count": 88,
      "outputs": [
        {
          "output_type": "stream",
          "name": "stdout",
          "text": [
            "ROC AUC : 0.7733\n",
            "time: 12.5 ms (started: 2022-01-02 08:42:52 +00:00)\n"
          ]
        }
      ]
    },
    {
      "cell_type": "code",
      "metadata": {
        "id": "9uI2SbKMzfzG",
        "colab": {
          "base_uri": "https://localhost:8080/"
        },
        "outputId": "4a9256c2-3fcb-4b34-d019-67a9ab3de657"
      },
      "source": [
        "# Print the Confusion Matrix and slice it into four pieces\n",
        "\n",
        "from sklearn.metrics import confusion_matrix\n",
        "\n",
        "cm = confusion_matrix(y_test, prediction2)\n",
        "\n",
        "print('Confusion matrix\\n\\n', cm)\n",
        "\n",
        "print('\\nTrue Positives(TP) = ', cm[0,0])\n",
        "\n",
        "print('\\nTrue Negatives(TN) = ', cm[1,1])\n",
        "\n",
        "print('\\nFalse Positives(FP) = ', cm[0,1])\n",
        "\n",
        "print('\\nFalse Negatives(FN) = ', cm[1,0])"
      ],
      "execution_count": 89,
      "outputs": [
        {
          "output_type": "stream",
          "name": "stdout",
          "text": [
            "Confusion matrix\n",
            "\n",
            " [[2238  131]\n",
            " [ 174  263]]\n",
            "\n",
            "True Positives(TP) =  2238\n",
            "\n",
            "True Negatives(TN) =  263\n",
            "\n",
            "False Positives(FP) =  131\n",
            "\n",
            "False Negatives(FN) =  174\n",
            "time: 11.8 ms (started: 2022-01-02 08:42:52 +00:00)\n"
          ]
        }
      ]
    },
    {
      "cell_type": "code",
      "metadata": {
        "id": "TLca3uDazmJM",
        "colab": {
          "base_uri": "https://localhost:8080/",
          "height": 303
        },
        "outputId": "aaffef43-1d7a-4586-e60f-eea0593bc144"
      },
      "source": [
        "# visualize confusion matrix with seaborn heatmap\n",
        "\n",
        "cm_matrix = pd.DataFrame(data=cm, columns=['Actual Positive:1', 'Actual Negative:0'], \n",
        "                                 index=['Predict Positive:1', 'Predict Negative:0'])\n",
        "\n",
        "sns.heatmap(cm_matrix, annot=True, fmt='d', cmap='YlGnBu')"
      ],
      "execution_count": 90,
      "outputs": [
        {
          "output_type": "execute_result",
          "data": {
            "text/plain": [
              "<matplotlib.axes._subplots.AxesSubplot at 0x7f8374052950>"
            ]
          },
          "metadata": {},
          "execution_count": 90
        },
        {
          "output_type": "display_data",
          "data": {
            "image/png": "[encoded data removed]",
            "text/plain": [
              "<Figure size 432x288 with 2 Axes>"
            ]
          },
          "metadata": {}
        },
        {
          "output_type": "stream",
          "name": "stdout",
          "text": [
            "time: 289 ms (started: 2022-01-02 08:42:52 +00:00)\n"
          ]
        }
      ]
    },
    {
      "cell_type": "markdown",
      "source": [
        "##SVM (RBF)"
      ],
      "metadata": {
        "id": "GIg9SzwhVhSr"
      }
    },
    {
      "cell_type": "code",
      "metadata": {
        "id": "tQVoR5Lb3biv",
        "colab": {
          "base_uri": "https://localhost:8080/"
        },
        "outputId": "36ebc5b6-d49e-4423-d5ae-63cd8e5376b7"
      },
      "source": [
        "svc_model1 = SVC(C=1, kernel='rbf', gamma= 1)\n",
        "svc_model1.fit(count_train, y_train)\n",
        "\n",
        "prediction3 = svc_model1.predict(count_test)\n",
        "\n",
        "print(classification_report(y_test, prediction3, target_names = ['Fake','True']))"
      ],
      "execution_count": 91,
      "outputs": [
        {
          "output_type": "stream",
          "name": "stdout",
          "text": [
            "              precision    recall  f1-score   support\n",
            "\n",
            "        Fake       0.85      1.00      0.92      2369\n",
            "        True       1.00      0.03      0.06       437\n",
            "\n",
            "    accuracy                           0.85      2806\n",
            "   macro avg       0.92      0.52      0.49      2806\n",
            "weighted avg       0.87      0.85      0.78      2806\n",
            "\n",
            "time: 38.9 s (started: 2022-01-02 08:42:52 +00:00)\n"
          ]
        }
      ]
    },
    {
      "cell_type": "code",
      "metadata": {
        "id": "SIEDYjyx2zdi",
        "colab": {
          "base_uri": "https://localhost:8080/",
          "height": 323
        },
        "outputId": "6a4e1573-1f56-4381-ca21-fef9da5be4ac"
      },
      "source": [
        "# plot ROC Curve\n",
        "\n",
        "from sklearn.metrics import roc_curve\n",
        "\n",
        "fpr, tpr, thresholds = roc_curve(y_test, prediction3)\n",
        "\n",
        "plt.figure(figsize=(6,4))\n",
        "\n",
        "plt.plot(fpr, tpr, linewidth=2)\n",
        "\n",
        "plt.plot([0,1], [0,1], 'k--' )\n",
        "\n",
        "plt.rcParams['font.size'] = 12\n",
        "\n",
        "plt.title('ROC curve for Predicting Bangla Fake News (SVM RBF Kernel)')\n",
        "\n",
        "plt.xlabel('False Positive Rate')\n",
        "\n",
        "plt.ylabel('True Positive Rate')\n",
        "\n",
        "plt.show()"
      ],
      "execution_count": 92,
      "outputs": [
        {
          "output_type": "display_data",
          "data": {
            "image/png": "[encoded data removed]",
            "text/plain": [
              "<Figure size 432x288 with 1 Axes>"
            ]
          },
          "metadata": {}
        },
        {
          "output_type": "stream",
          "name": "stdout",
          "text": [
            "time: 219 ms (started: 2022-01-02 08:43:31 +00:00)\n"
          ]
        }
      ]
    },
    {
      "cell_type": "code",
      "metadata": {
        "id": "Dd6PogmN2000",
        "colab": {
          "base_uri": "https://localhost:8080/"
        },
        "outputId": "84dc91a3-edec-4140-a449-625d5cdd3c2b"
      },
      "source": [
        "# compute ROC AUC\n",
        "\n",
        "from sklearn.metrics import roc_auc_score\n",
        "\n",
        "ROC_AUC = roc_auc_score(y_test, prediction3)\n",
        "\n",
        "print('ROC AUC : {:.4f}'.format(ROC_AUC))"
      ],
      "execution_count": 93,
      "outputs": [
        {
          "output_type": "stream",
          "name": "stdout",
          "text": [
            "ROC AUC : 0.5160\n",
            "time: 7.55 ms (started: 2022-01-02 08:43:31 +00:00)\n"
          ]
        }
      ]
    },
    {
      "cell_type": "code",
      "metadata": {
        "id": "TyClOgfwKW8f",
        "colab": {
          "base_uri": "https://localhost:8080/"
        },
        "outputId": "58a516e3-f775-47c1-fcfe-8ffac117cf95"
      },
      "source": [
        "# Print the Confusion Matrix and slice it into four pieces\n",
        "\n",
        "from sklearn.metrics import confusion_matrix\n",
        "\n",
        "cm = confusion_matrix(y_test, prediction3)\n",
        "\n",
        "print('Confusion matrix\\n\\n', cm)\n",
        "\n",
        "print('\\nTrue Positives(TP) = ', cm[0,0])\n",
        "\n",
        "print('\\nTrue Negatives(TN) = ', cm[1,1])\n",
        "\n",
        "print('\\nFalse Positives(FP) = ', cm[0,1])\n",
        "\n",
        "print('\\nFalse Negatives(FN) = ', cm[1,0])"
      ],
      "execution_count": 94,
      "outputs": [
        {
          "output_type": "stream",
          "name": "stdout",
          "text": [
            "Confusion matrix\n",
            "\n",
            " [[2369    0]\n",
            " [ 423   14]]\n",
            "\n",
            "True Positives(TP) =  2369\n",
            "\n",
            "True Negatives(TN) =  14\n",
            "\n",
            "False Positives(FP) =  0\n",
            "\n",
            "False Negatives(FN) =  423\n",
            "time: 15.9 ms (started: 2022-01-02 08:43:31 +00:00)\n"
          ]
        }
      ]
    },
    {
      "cell_type": "code",
      "metadata": {
        "id": "5BaNsV1I29OX",
        "colab": {
          "base_uri": "https://localhost:8080/",
          "height": 303
        },
        "outputId": "389ab323-0b9f-4428-a294-9fa7660f7c33"
      },
      "source": [
        "# visualize confusion matrix with seaborn heatmap\n",
        "\n",
        "cm_matrix = pd.DataFrame(data=cm, columns=['Actual Positive:1', 'Actual Negative:0'], \n",
        "                                 index=['Predict Positive:1', 'Predict Negative:0'])\n",
        "\n",
        "sns.heatmap(cm_matrix, annot=True, fmt='d', cmap='YlGnBu')"
      ],
      "execution_count": 95,
      "outputs": [
        {
          "output_type": "execute_result",
          "data": {
            "text/plain": [
              "<matplotlib.axes._subplots.AxesSubplot at 0x7f8371cd3250>"
            ]
          },
          "metadata": {},
          "execution_count": 95
        },
        {
          "output_type": "display_data",
          "data": {
            "image/png": "[encoded data removed]",
            "text/plain": [
              "<Figure size 432x288 with 2 Axes>"
            ]
          },
          "metadata": {}
        },
        {
          "output_type": "stream",
          "name": "stdout",
          "text": [
            "time: 272 ms (started: 2022-01-02 08:43:31 +00:00)\n"
          ]
        }
      ]
    },
    {
      "cell_type": "markdown",
      "source": [
        "##SVM (Sigmoid)"
      ],
      "metadata": {
        "id": "Nl-_nd7QV1Ua"
      }
    },
    {
      "cell_type": "code",
      "metadata": {
        "id": "_thb5WsE3ca0",
        "colab": {
          "base_uri": "https://localhost:8080/"
        },
        "outputId": "7bc9478c-fa5c-4dc7-e594-41a1fcc065f6"
      },
      "source": [
        "svc_model1 = SVC(C=1, kernel='sigmoid', gamma= 1)\n",
        "svc_model1.fit(count_train, y_train)\n",
        "\n",
        "prediction4 = svc_model1.predict(count_test)\n",
        "\n",
        "print(classification_report(y_test, prediction4, target_names = ['Fake','True']))"
      ],
      "execution_count": 96,
      "outputs": [
        {
          "output_type": "stream",
          "name": "stdout",
          "text": [
            "              precision    recall  f1-score   support\n",
            "\n",
            "        Fake       0.85      0.87      0.86      2369\n",
            "        True       0.22      0.20      0.21       437\n",
            "\n",
            "    accuracy                           0.76      2806\n",
            "   macro avg       0.54      0.53      0.53      2806\n",
            "weighted avg       0.76      0.76      0.76      2806\n",
            "\n",
            "time: 8.44 s (started: 2022-01-02 08:43:32 +00:00)\n"
          ]
        }
      ]
    },
    {
      "cell_type": "code",
      "metadata": {
        "id": "GlYEV3lYJuRK",
        "colab": {
          "base_uri": "https://localhost:8080/",
          "height": 323
        },
        "outputId": "09a28147-f14b-4ba0-d8f4-7eb3e3372a77"
      },
      "source": [
        "# plot ROC Curve\n",
        "\n",
        "from sklearn.metrics import roc_curve\n",
        "\n",
        "fpr, tpr, thresholds = roc_curve(y_test, prediction4)\n",
        "\n",
        "plt.figure(figsize=(6,4))\n",
        "\n",
        "plt.plot(fpr, tpr, linewidth=2)\n",
        "\n",
        "plt.plot([0,1], [0,1], 'k--' )\n",
        "\n",
        "plt.rcParams['font.size'] = 12\n",
        "\n",
        "plt.title('ROC curve for Predicting Bangla Fake News (SVM Sigmoid Kernel)')\n",
        "\n",
        "plt.xlabel('False Positive Rate')\n",
        "\n",
        "plt.ylabel('True Positive Rate')\n",
        "\n",
        "plt.show()"
      ],
      "execution_count": 97,
      "outputs": [
        {
          "output_type": "display_data",
          "data": {
            "image/png": "[encoded data removed]",
            "text/plain": [
              "<Figure size 432x288 with 1 Axes>"
            ]
          },
          "metadata": {}
        },
        {
          "output_type": "stream",
          "name": "stdout",
          "text": [
            "time: 218 ms (started: 2022-01-02 08:43:40 +00:00)\n"
          ]
        }
      ]
    },
    {
      "cell_type": "code",
      "metadata": {
        "id": "SR2tGEQtJwZA",
        "colab": {
          "base_uri": "https://localhost:8080/"
        },
        "outputId": "f1a57eb1-052e-4bd5-cf4e-85397f2c58bb"
      },
      "source": [
        "# compute ROC AUC\n",
        "\n",
        "from sklearn.metrics import roc_auc_score\n",
        "\n",
        "ROC_AUC = roc_auc_score(y_test, prediction4)\n",
        "\n",
        "print('ROC AUC : {:.4f}'.format(ROC_AUC))"
      ],
      "execution_count": 98,
      "outputs": [
        {
          "output_type": "stream",
          "name": "stdout",
          "text": [
            "ROC AUC : 0.5330\n",
            "time: 15.7 ms (started: 2022-01-02 08:43:40 +00:00)\n"
          ]
        }
      ]
    },
    {
      "cell_type": "code",
      "metadata": {
        "id": "1IxY_HcRKshR",
        "colab": {
          "base_uri": "https://localhost:8080/"
        },
        "outputId": "26d3e764-d667-4468-b27a-de0bcc990f91"
      },
      "source": [
        "# Print the Confusion Matrix and slice it into four pieces\n",
        "\n",
        "from sklearn.metrics import confusion_matrix\n",
        "\n",
        "cm = confusion_matrix(y_test, prediction4)\n",
        "\n",
        "print('Confusion matrix\\n\\n', cm)\n",
        "\n",
        "print('\\nTrue Positives(TP) = ', cm[0,0])\n",
        "\n",
        "print('\\nTrue Negatives(TN) = ', cm[1,1])\n",
        "\n",
        "print('\\nFalse Positives(FP) = ', cm[0,1])\n",
        "\n",
        "print('\\nFalse Negatives(FN) = ', cm[1,0])"
      ],
      "execution_count": 99,
      "outputs": [
        {
          "output_type": "stream",
          "name": "stdout",
          "text": [
            "Confusion matrix\n",
            "\n",
            " [[2059  310]\n",
            " [ 351   86]]\n",
            "\n",
            "True Positives(TP) =  2059\n",
            "\n",
            "True Negatives(TN) =  86\n",
            "\n",
            "False Positives(FP) =  310\n",
            "\n",
            "False Negatives(FN) =  351\n",
            "time: 13.9 ms (started: 2022-01-02 08:43:40 +00:00)\n"
          ]
        }
      ]
    },
    {
      "cell_type": "code",
      "metadata": {
        "id": "UIwkzNqSJy8T",
        "colab": {
          "base_uri": "https://localhost:8080/",
          "height": 303
        },
        "outputId": "3e1189e9-b596-4e8e-99ab-40e27af7e890"
      },
      "source": [
        "# visualize confusion matrix with seaborn heatmap\n",
        "\n",
        "cm_matrix = pd.DataFrame(data=cm, columns=['Actual Positive:1', 'Actual Negative:0'], \n",
        "                                 index=['Predict Positive:1', 'Predict Negative:0'])\n",
        "\n",
        "sns.heatmap(cm_matrix, annot=True, fmt='d', cmap='YlGnBu')"
      ],
      "execution_count": 100,
      "outputs": [
        {
          "output_type": "execute_result",
          "data": {
            "text/plain": [
              "<matplotlib.axes._subplots.AxesSubplot at 0x7f8371bd8b90>"
            ]
          },
          "metadata": {},
          "execution_count": 100
        },
        {
          "output_type": "display_data",
          "data": {
            "image/png": "[encoded data removed]",
            "text/plain": [
              "<Figure size 432x288 with 2 Axes>"
            ]
          },
          "metadata": {}
        },
        {
          "output_type": "stream",
          "name": "stdout",
          "text": [
            "time: 308 ms (started: 2022-01-02 08:43:40 +00:00)\n"
          ]
        }
      ]
    },
    {
      "cell_type": "markdown",
      "source": [
        "##LSTM"
      ],
      "metadata": {
        "id": "jMmK3aYjV7ct"
      }
    },
    {
      "cell_type": "code",
      "source": [
        "# importing neural network libraries\n",
        "import tensorflow as tf\n",
        "from tensorflow.keras.preprocessing.text import Tokenizer\n",
        "from tensorflow.keras.preprocessing.sequence import pad_sequences\n",
        "from tensorflow.keras.models import Sequential\n",
        "from tensorflow.keras.layers import Dense, Dropout, Embedding, GRU, LSTM, RNN, SpatialDropout1D"
      ],
      "metadata": {
        "colab": {
          "base_uri": "https://localhost:8080/"
        },
        "id": "4wXFvhnWWH51",
        "outputId": "72a6450e-96b5-417c-a9e9-d766c7a5c9db"
      },
      "execution_count": 101,
      "outputs": [
        {
          "output_type": "stream",
          "name": "stdout",
          "text": [
            "time: 7.58 ms (started: 2022-01-02 08:43:41 +00:00)\n"
          ]
        }
      ]
    },
    {
      "cell_type": "code",
      "source": [
        "max_features = 100000"
      ],
      "metadata": {
        "colab": {
          "base_uri": "https://localhost:8080/"
        },
        "id": "K2LpizcKYQFa",
        "outputId": "46253702-7c6c-48d9-d39e-40961c29408b"
      },
      "execution_count": 102,
      "outputs": [
        {
          "output_type": "stream",
          "name": "stdout",
          "text": [
            "time: 1.22 ms (started: 2022-01-02 08:43:41 +00:00)\n"
          ]
        }
      ]
    },
    {
      "cell_type": "code",
      "source": [
        "# LSTM Neural Network\n",
        "lstm_model = Sequential(name = 'lstm_nn_model')\n",
        "lstm_model.add(layer = Embedding(input_dim = max_features, output_dim = 120, name = '1st_layer'))\n",
        "lstm_model.add(layer = LSTM(units = 120, dropout = 0.2, recurrent_dropout = 0.2, name = '2nd_layer'))\n",
        "lstm_model.add(layer = Dropout(rate = 0.5, name = '3rd_layer'))\n",
        "lstm_model.add(layer = Dense(units = 120,  activation = 'relu', name = '4th_layer'))\n",
        "lstm_model.add(layer = Dropout(rate = 0.5, name = '5th_layer'))\n",
        "lstm_model.add(layer = Dense(units = len(set(y)),  activation = 'sigmoid', name = 'output_layer'))\n",
        "# compiling the model\n",
        "lstm_model.compile(optimizer = 'adam', loss = 'sparse_categorical_crossentropy', metrics = ['accuracy'])"
      ],
      "metadata": {
        "colab": {
          "base_uri": "https://localhost:8080/"
        },
        "id": "ALR4ZPjVWgQ8",
        "outputId": "36abd4bd-0365-4c51-c371-a4262d9d9630"
      },
      "execution_count": 103,
      "outputs": [
        {
          "output_type": "stream",
          "name": "stdout",
          "text": [
            "time: 335 ms (started: 2022-01-02 08:43:41 +00:00)\n"
          ]
        }
      ]
    },
    {
      "cell_type": "code",
      "source": [
        "lstm_model_fit = lstm_model.fit(X_train, y_train, epochs = 1)"
      ],
      "metadata": {
        "colab": {
          "base_uri": "https://localhost:8080/"
        },
        "id": "GygZjCZSYja6",
        "outputId": "d4fb9b55-c15d-4716-e4b1-4909260c4a8f"
      },
      "execution_count": 104,
      "outputs": [
        {
          "output_type": "stream",
          "name": "stdout",
          "text": [
            "178/178 [==============================] - 183s 1s/step - loss: 0.4461 - accuracy: 0.8469\n",
            "time: 3min 3s (started: 2022-01-02 08:43:41 +00:00)\n"
          ]
        }
      ]
    },
    {
      "cell_type": "code",
      "source": [
        "#pred = lstm_model.predict(X_test)\n",
        "#pred = np.round(pred).astype(int)\n",
        "predict_x=lstm_model.predict(X_test) \n",
        "classes_x=np.argmax(predict_x,axis=1)\n",
        "binary_predictions = []\n",
        "\n",
        "for i in classes_x:\n",
        "    if i >= 0.5:\n",
        "        binary_predictions.append(1)\n",
        "    else:\n",
        "        binary_predictions.append(0) \n",
        "\n",
        "print(classification_report(y_test, binary_predictions, target_names = ['Fake','True']))"
      ],
      "metadata": {
        "colab": {
          "base_uri": "https://localhost:8080/"
        },
        "id": "qkHV-mgPaUxb",
        "outputId": "e81162b3-2b6e-4d49-c806-a2d9bb71aee3"
      },
      "execution_count": 105,
      "outputs": [
        {
          "output_type": "stream",
          "name": "stdout",
          "text": [
            "              precision    recall  f1-score   support\n",
            "\n",
            "        Fake       0.84      1.00      0.92      2369\n",
            "        True       0.00      0.00      0.00       437\n",
            "\n",
            "    accuracy                           0.84      2806\n",
            "   macro avg       0.42      0.50      0.46      2806\n",
            "weighted avg       0.71      0.84      0.77      2806\n",
            "\n",
            "time: 8.15 s (started: 2022-01-02 08:46:44 +00:00)\n"
          ]
        },
        {
          "output_type": "stream",
          "name": "stderr",
          "text": [
            "/usr/local/lib/python3.7/dist-packages/sklearn/metrics/_classification.py:1308: UndefinedMetricWarning: Precision and F-score are ill-defined and being set to 0.0 in labels with no predicted samples. Use `zero_division` parameter to control this behavior.\n",
            "  _warn_prf(average, modifier, msg_start, len(result))\n",
            "/usr/local/lib/python3.7/dist-packages/sklearn/metrics/_classification.py:1308: UndefinedMetricWarning: Precision and F-score are ill-defined and being set to 0.0 in labels with no predicted samples. Use `zero_division` parameter to control this behavior.\n",
            "  _warn_prf(average, modifier, msg_start, len(result))\n",
            "/usr/local/lib/python3.7/dist-packages/sklearn/metrics/_classification.py:1308: UndefinedMetricWarning: Precision and F-score are ill-defined and being set to 0.0 in labels with no predicted samples. Use `zero_division` parameter to control this behavior.\n",
            "  _warn_prf(average, modifier, msg_start, len(result))\n"
          ]
        }
      ]
    },
    {
      "cell_type": "code",
      "source": [
        "# plot ROC Curve\n",
        "\n",
        "from sklearn.metrics import roc_curve\n",
        "\n",
        "\n",
        "fpr, tpr, thresholds = roc_curve(y_test, classes_x)\n",
        "\n",
        "plt.figure(figsize=(6,4))\n",
        "\n",
        "plt.plot(fpr, tpr, linewidth=2)\n",
        "\n",
        "plt.plot([0,1], [0,1], 'k--' )\n",
        "\n",
        "plt.rcParams['font.size'] = 12\n",
        "\n",
        "plt.title('ROC curve for Predicting Bangla Fake News (LSTM)')\n",
        "\n",
        "plt.xlabel('False Positive Rate')\n",
        "\n",
        "plt.ylabel('True Positive Rate')\n",
        "\n",
        "plt.show()"
      ],
      "metadata": {
        "colab": {
          "base_uri": "https://localhost:8080/",
          "height": 323
        },
        "id": "bRFLCRHBadvX",
        "outputId": "777089d7-3989-4e30-8a31-7a397ba47f9e"
      },
      "execution_count": 106,
      "outputs": [
        {
          "output_type": "display_data",
          "data": {
            "image/png": "[encoded data removed]",
            "text/plain": [
              "<Figure size 432x288 with 1 Axes>"
            ]
          },
          "metadata": {}
        },
        {
          "output_type": "stream",
          "name": "stdout",
          "text": [
            "time: 207 ms (started: 2022-01-02 08:46:52 +00:00)\n"
          ]
        }
      ]
    },
    {
      "cell_type": "code",
      "source": [
        "# Print the Confusion Matrix and slice it into four pieces\n",
        "\n",
        "from sklearn.metrics import confusion_matrix\n",
        "\n",
        "cm = confusion_matrix(y_test, classes_x)\n",
        "\n",
        "print('Confusion matrix\\n\\n', cm)\n",
        "\n",
        "print('\\nTrue Positives(TP) = ', cm[0,0])\n",
        "\n",
        "print('\\nTrue Negatives(TN) = ', cm[1,1])\n",
        "\n",
        "print('\\nFalse Positives(FP) = ', cm[0,1])\n",
        "\n",
        "print('\\nFalse Negatives(FN) = ', cm[1,0])"
      ],
      "metadata": {
        "colab": {
          "base_uri": "https://localhost:8080/"
        },
        "id": "2iR_2gyxfPdX",
        "outputId": "49877640-3815-4ec8-8a17-cc49c16d7f04"
      },
      "execution_count": 107,
      "outputs": [
        {
          "output_type": "stream",
          "name": "stdout",
          "text": [
            "Confusion matrix\n",
            "\n",
            " [[2369    0]\n",
            " [ 437    0]]\n",
            "\n",
            "True Positives(TP) =  2369\n",
            "\n",
            "True Negatives(TN) =  0\n",
            "\n",
            "False Positives(FP) =  0\n",
            "\n",
            "False Negatives(FN) =  437\n",
            "time: 8.49 ms (started: 2022-01-02 08:46:53 +00:00)\n"
          ]
        }
      ]
    },
    {
      "cell_type": "code",
      "source": [
        "# visualize confusion matrix with seaborn heatmap\n",
        "\n",
        "cm_matrix = pd.DataFrame(data=cm, columns=['Actual Positive:1', 'Actual Negative:0'], \n",
        "                                 index=['Predict Positive:1', 'Predict Negative:0'])\n",
        "\n",
        "sns.heatmap(cm_matrix, annot=True, fmt='d', cmap='YlGnBu')"
      ],
      "metadata": {
        "colab": {
          "base_uri": "https://localhost:8080/",
          "height": 303
        },
        "id": "cyHFqH_WfpaJ",
        "outputId": "9282ee2a-a393-4e94-db54-04145b920786"
      },
      "execution_count": 108,
      "outputs": [
        {
          "output_type": "execute_result",
          "data": {
            "text/plain": [
              "<matplotlib.axes._subplots.AxesSubplot at 0x7f8370beb690>"
            ]
          },
          "metadata": {},
          "execution_count": 108
        },
        {
          "output_type": "display_data",
          "data": {
            "image/png": "[encoded data removed]",
            "text/plain": [
              "<Figure size 432x288 with 2 Axes>"
            ]
          },
          "metadata": {}
        },
        {
          "output_type": "stream",
          "name": "stdout",
          "text": [
            "time: 1.08 s (started: 2022-01-02 08:46:53 +00:00)\n"
          ]
        }
      ]
    }
  ]
}