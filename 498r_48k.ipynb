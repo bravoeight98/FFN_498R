{
  "nbformat": 4,
  "nbformat_minor": 0,
  "metadata": {
    "colab": {
      "name": "498r-48k.ipynb",
      "provenance": [],
      "authorship_tag": "ABX9TyPwln/93ph1mdPSLRA69Ea8",
      "include_colab_link": true
    },
    "kernelspec": {
      "name": "python3",
      "display_name": "Python 3"
    },
    "language_info": {
      "name": "python"
    }
  },
  "cells": [
    {
      "cell_type": "markdown",
      "metadata": {
        "id": "view-in-github",
        "colab_type": "text"
      },
      "source": [
        "<a href=\"https://colab.research.google.com/github/bravoeight98/FFN_498R/blob/main/498r_48k.ipynb\" target=\"_parent\"><img src=\"https://colab.research.google.com/assets/colab-badge.svg\" alt=\"Open In Colab\"/></a>"
      ]
    },
    {
      "cell_type": "markdown",
      "metadata": {
        "id": "o1yt6LTmyvK6"
      },
      "source": [
        "# Importing Packages and Libraries"
      ]
    },
    {
      "cell_type": "markdown",
      "metadata": {
        "id": "rjrHm517yz7H"
      },
      "source": [
        "Importing all necessary packages"
      ]
    },
    {
      "cell_type": "code",
      "execution_count": 1,
      "metadata": {
        "id": "Yi3hM-qb6LR-",
        "colab": {
          "base_uri": "https://localhost:8080/"
        },
        "outputId": "30f99fb4-ab71-421b-f3a4-2e813e1b8905"
      },
      "outputs": [
        {
          "output_type": "stream",
          "name": "stdout",
          "text": [
            "Collecting ipython-autotime\n",
            "  Downloading ipython_autotime-0.3.1-py2.py3-none-any.whl (6.8 kB)\n",
            "Requirement already satisfied: ipython in /usr/local/lib/python3.7/dist-packages (from ipython-autotime) (5.5.0)\n",
            "Requirement already satisfied: pexpect in /usr/local/lib/python3.7/dist-packages (from ipython->ipython-autotime) (4.8.0)\n",
            "Requirement already satisfied: decorator in /usr/local/lib/python3.7/dist-packages (from ipython->ipython-autotime) (4.4.2)\n",
            "Requirement already satisfied: pygments in /usr/local/lib/python3.7/dist-packages (from ipython->ipython-autotime) (2.6.1)\n",
            "Requirement already satisfied: setuptools>=18.5 in /usr/local/lib/python3.7/dist-packages (from ipython->ipython-autotime) (57.4.0)\n",
            "Requirement already satisfied: traitlets>=4.2 in /usr/local/lib/python3.7/dist-packages (from ipython->ipython-autotime) (5.1.1)\n",
            "Requirement already satisfied: prompt-toolkit<2.0.0,>=1.0.4 in /usr/local/lib/python3.7/dist-packages (from ipython->ipython-autotime) (1.0.18)\n",
            "Requirement already satisfied: simplegeneric>0.8 in /usr/local/lib/python3.7/dist-packages (from ipython->ipython-autotime) (0.8.1)\n",
            "Requirement already satisfied: pickleshare in /usr/local/lib/python3.7/dist-packages (from ipython->ipython-autotime) (0.7.5)\n",
            "Requirement already satisfied: wcwidth in /usr/local/lib/python3.7/dist-packages (from prompt-toolkit<2.0.0,>=1.0.4->ipython->ipython-autotime) (0.2.5)\n",
            "Requirement already satisfied: six>=1.9.0 in /usr/local/lib/python3.7/dist-packages (from prompt-toolkit<2.0.0,>=1.0.4->ipython->ipython-autotime) (1.15.0)\n",
            "Requirement already satisfied: ptyprocess>=0.5 in /usr/local/lib/python3.7/dist-packages (from pexpect->ipython->ipython-autotime) (0.7.0)\n",
            "Installing collected packages: ipython-autotime\n",
            "Successfully installed ipython-autotime-0.3.1\n",
            "[nltk_data] Downloading package stopwords to /root/nltk_data...\n",
            "[nltk_data]   Unzipping corpora/stopwords.zip.\n",
            "time: 1.64 s (started: 2022-01-02 08:55:27 +00:00)\n"
          ]
        }
      ],
      "source": [
        "#import package\n",
        "\n",
        "!pip install ipython-autotime\n",
        "%load_ext autotime\n",
        "\n",
        "import numpy as np\n",
        "import pandas as pd\n",
        "import seaborn as sns\n",
        "import matplotlib.pyplot as plt\n",
        "\n",
        "import nltk\n",
        "nltk.download('stopwords')\n",
        "from nltk.corpus import stopwords\n",
        "from nltk.stem.porter import PorterStemmer\n",
        "\n",
        "from sklearn.feature_extraction.text import CountVectorizer, TfidfVectorizer, HashingVectorizer\n",
        "import re\n",
        "import string\n",
        "\n",
        "from sklearn.model_selection import train_test_split\n",
        "from sklearn.feature_extraction.text import CountVectorizer\n",
        "\n",
        "from sklearn import metrics\n",
        "from sklearn.feature_extraction.text import TfidfVectorizer"
      ]
    },
    {
      "cell_type": "markdown",
      "metadata": {
        "id": "wEsIoybTlpY3"
      },
      "source": [
        "# Getting and preparing Datasets"
      ]
    },
    {
      "cell_type": "markdown",
      "metadata": {
        "id": "ZZRQJMvLiMAe"
      },
      "source": [
        "Mount from Google Drive"
      ]
    },
    {
      "cell_type": "code",
      "source": [
        "from google.colab import drive\n",
        "drive.mount('/content/drive')"
      ],
      "metadata": {
        "colab": {
          "base_uri": "https://localhost:8080/"
        },
        "id": "NOaBzjJC8Typ",
        "outputId": "676eb255-f54b-4f71-96fd-6a1f9c17c02c"
      },
      "execution_count": 2,
      "outputs": [
        {
          "output_type": "stream",
          "name": "stdout",
          "text": [
            "Mounted at /content/drive\n",
            "time: 23.9 s (started: 2022-01-02 08:56:12 +00:00)\n"
          ]
        }
      ]
    },
    {
      "cell_type": "code",
      "source": [
        "# Reading from file \n",
        "fake = pd.read_csv('/content/drive/MyDrive/BanFakeNewsDataset/Fake-1K.csv')\n",
        "true = pd.read_csv('/content/drive/MyDrive/BanFakeNewsDataset/Authentic-48K.csv')"
      ],
      "metadata": {
        "colab": {
          "base_uri": "https://localhost:8080/"
        },
        "id": "eJFaCWHG9lHJ",
        "outputId": "33e6c149-7b52-4c6e-af09-7e629f326152"
      },
      "execution_count": 3,
      "outputs": [
        {
          "output_type": "stream",
          "name": "stdout",
          "text": [
            "time: 9.92 s (started: 2022-01-02 08:56:36 +00:00)\n"
          ]
        }
      ]
    },
    {
      "cell_type": "markdown",
      "metadata": {
        "id": "MBop7t4flK_3"
      },
      "source": [
        "Show Info"
      ]
    },
    {
      "cell_type": "code",
      "source": [
        "print(true.shape)\n",
        "print(true.info())\n",
        "true.head()"
      ],
      "metadata": {
        "colab": {
          "base_uri": "https://localhost:8080/",
          "height": 632
        },
        "id": "j80ejHDH9oQN",
        "outputId": "c9cf00c7-475e-4efe-9013-bfd99c9cd485"
      },
      "execution_count": 4,
      "outputs": [
        {
          "output_type": "stream",
          "name": "stdout",
          "text": [
            "(48678, 7)\n",
            "<class 'pandas.core.frame.DataFrame'>\n",
            "RangeIndex: 48678 entries, 0 to 48677\n",
            "Data columns (total 7 columns):\n",
            " #   Column     Non-Null Count  Dtype \n",
            "---  ------     --------------  ----- \n",
            " 0   articleID  48678 non-null  int64 \n",
            " 1   domain     48678 non-null  object\n",
            " 2   date       48678 non-null  object\n",
            " 3   category   48678 non-null  object\n",
            " 4   headline   48678 non-null  object\n",
            " 5   content    48678 non-null  object\n",
            " 6   label      48678 non-null  int64 \n",
            "dtypes: int64(2), object(5)\n",
            "memory usage: 2.6+ MB\n",
            "None\n"
          ]
        },
        {
          "output_type": "execute_result",
          "data": {
            "text/html": [
              "\n",
              "  <div id=\"df-bd0b6f34-4ac8-4dd2-8ca1-e00d28fe1f03\">\n",
              "    <div class=\"colab-df-container\">\n",
              "      <div>\n",
              "<style scoped>\n",
              "    .dataframe tbody tr th:only-of-type {\n",
              "        vertical-align: middle;\n",
              "    }\n",
              "\n",
              "    .dataframe tbody tr th {\n",
              "        vertical-align: top;\n",
              "    }\n",
              "\n",
              "    .dataframe thead th {\n",
              "        text-align: right;\n",
              "    }\n",
              "</style>\n",
              "<table border=\"1\" class=\"dataframe\">\n",
              "  <thead>\n",
              "    <tr style=\"text-align: right;\">\n",
              "      <th></th>\n",
              "      <th>articleID</th>\n",
              "      <th>domain</th>\n",
              "      <th>date</th>\n",
              "      <th>category</th>\n",
              "      <th>headline</th>\n",
              "      <th>content</th>\n",
              "      <th>label</th>\n",
              "    </tr>\n",
              "  </thead>\n",
              "  <tbody>\n",
              "    <tr>\n",
              "      <th>0</th>\n",
              "      <td>1</td>\n",
              "      <td>jagonews24.com</td>\n",
              "      <td>2018-09-19 17:48:18</td>\n",
              "      <td>Education</td>\n",
              "      <td>হট্টগোল করায় বাকৃবিতে দুইজন বরখাস্ত, ৬ জনকে শোকজ</td>\n",
              "      <td>গত ১৭ সেপ্টেম্বর বাংলাদেশ কৃষি বিশ্ববিদ্যালয়ে ...</td>\n",
              "      <td>1</td>\n",
              "    </tr>\n",
              "    <tr>\n",
              "      <th>1</th>\n",
              "      <td>2</td>\n",
              "      <td>jagonews24.com</td>\n",
              "      <td>2018-09-19 17:48:19</td>\n",
              "      <td>National</td>\n",
              "      <td>মালয়েশিয়ায় কর্মী পাঠানোর ব্যবস্থা নেয়ার সুপারিশ</td>\n",
              "      <td>বাংলাদেশের বৃহৎ শ্রমবাজার মালয়েশিয়ায় আবার শ্রম...</td>\n",
              "      <td>1</td>\n",
              "    </tr>\n",
              "    <tr>\n",
              "      <th>2</th>\n",
              "      <td>3</td>\n",
              "      <td>jagonews24.com</td>\n",
              "      <td>2018-09-19 17:48:20</td>\n",
              "      <td>National</td>\n",
              "      <td>প্রেমের প্রস্তাবে রাজি না হওয়ায় স্কুলছাত্রীকে ...</td>\n",
              "      <td>নরসিংদীর মনোহরদীতে প্রেমের প্রস্তাবে রাজি না হ...</td>\n",
              "      <td>1</td>\n",
              "    </tr>\n",
              "    <tr>\n",
              "      <th>3</th>\n",
              "      <td>4</td>\n",
              "      <td>jagonews24.com</td>\n",
              "      <td>2018-09-19 17:48:21</td>\n",
              "      <td>Crime</td>\n",
              "      <td>মেডিয়েশনই মামলাজট নিরসনের পথ : বিচারপতি আহমেদ ...</td>\n",
              "      <td>সুপ্রিম কোর্টের হাইকোর্ট বিভাগের বিচারপতি আহমে...</td>\n",
              "      <td>1</td>\n",
              "    </tr>\n",
              "    <tr>\n",
              "      <th>4</th>\n",
              "      <td>5</td>\n",
              "      <td>jagonews24.com</td>\n",
              "      <td>2018-09-19 17:48:21</td>\n",
              "      <td>National</td>\n",
              "      <td>টকশোতে বক্তব্য দিতে গিয়ে জাপা নেতার মৃত্যু</td>\n",
              "      <td>মাদারীপুর সদরের উপজেলার লেকেরপাড়ে একটি বেসরকার...</td>\n",
              "      <td>1</td>\n",
              "    </tr>\n",
              "  </tbody>\n",
              "</table>\n",
              "</div>\n",
              "      <button class=\"colab-df-convert\" onclick=\"convertToInteractive('df-bd0b6f34-4ac8-4dd2-8ca1-e00d28fe1f03')\"\n",
              "              title=\"Convert this dataframe to an interactive table.\"\n",
              "              style=\"display:none;\">\n",
              "        \n",
              "  <svg xmlns=\"http://www.w3.org/2000/svg\" height=\"24px\"viewBox=\"0 0 24 24\"\n",
              "       width=\"24px\">\n",
              "    <path d=\"M0 0h24v24H0V0z\" fill=\"none\"/>\n",
              "    <path d=\"M18.56 5.44l.94 2.06.94-2.06 2.06-.94-2.06-.94-.94-2.06-.94 2.06-2.06.94zm-11 1L8.5 8.5l.94-2.06 2.06-.94-2.06-.94L8.5 2.5l-.94 2.06-2.06.94zm10 10l.94 2.06.94-2.06 2.06-.94-2.06-.94-.94-2.06-.94 2.06-2.06.94z\"/><path d=\"M17.41 7.96l-1.37-1.37c-.4-.4-.92-.59-1.43-.59-.52 0-1.04.2-1.43.59L10.3 9.45l-7.72 7.72c-.78.78-.78 2.05 0 2.83L4 21.41c.39.39.9.59 1.41.59.51 0 1.02-.2 1.41-.59l7.78-7.78 2.81-2.81c.8-.78.8-2.07 0-2.86zM5.41 20L4 18.59l7.72-7.72 1.47 1.35L5.41 20z\"/>\n",
              "  </svg>\n",
              "      </button>\n",
              "      \n",
              "  <style>\n",
              "    .colab-df-container {\n",
              "      display:flex;\n",
              "      flex-wrap:wrap;\n",
              "      gap: 12px;\n",
              "    }\n",
              "\n",
              "    .colab-df-convert {\n",
              "      background-color: #E8F0FE;\n",
              "      border: none;\n",
              "      border-radius: 50%;\n",
              "      cursor: pointer;\n",
              "      display: none;\n",
              "      fill: #1967D2;\n",
              "      height: 32px;\n",
              "      padding: 0 0 0 0;\n",
              "      width: 32px;\n",
              "    }\n",
              "\n",
              "    .colab-df-convert:hover {\n",
              "      background-color: #E2EBFA;\n",
              "      box-shadow: 0px 1px 2px rgba(60, 64, 67, 0.3), 0px 1px 3px 1px rgba(60, 64, 67, 0.15);\n",
              "      fill: #174EA6;\n",
              "    }\n",
              "\n",
              "    [theme=dark] .colab-df-convert {\n",
              "      background-color: #3B4455;\n",
              "      fill: #D2E3FC;\n",
              "    }\n",
              "\n",
              "    [theme=dark] .colab-df-convert:hover {\n",
              "      background-color: #434B5C;\n",
              "      box-shadow: 0px 1px 3px 1px rgba(0, 0, 0, 0.15);\n",
              "      filter: drop-shadow(0px 1px 2px rgba(0, 0, 0, 0.3));\n",
              "      fill: #FFFFFF;\n",
              "    }\n",
              "  </style>\n",
              "\n",
              "      <script>\n",
              "        const buttonEl =\n",
              "          document.querySelector('#df-bd0b6f34-4ac8-4dd2-8ca1-e00d28fe1f03 button.colab-df-convert');\n",
              "        buttonEl.style.display =\n",
              "          google.colab.kernel.accessAllowed ? 'block' : 'none';\n",
              "\n",
              "        async function convertToInteractive(key) {\n",
              "          const element = document.querySelector('#df-bd0b6f34-4ac8-4dd2-8ca1-e00d28fe1f03');\n",
              "          const dataTable =\n",
              "            await google.colab.kernel.invokeFunction('convertToInteractive',\n",
              "                                                     [key], {});\n",
              "          if (!dataTable) return;\n",
              "\n",
              "          const docLinkHtml = 'Like what you see? Visit the ' +\n",
              "            '<a target=\"_blank\" href=https://colab.research.google.com/notebooks/data_table.ipynb>data table notebook</a>'\n",
              "            + ' to learn more about interactive tables.';\n",
              "          element.innerHTML = '';\n",
              "          dataTable['output_type'] = 'display_data';\n",
              "          await google.colab.output.renderOutput(dataTable, element);\n",
              "          const docLink = document.createElement('div');\n",
              "          docLink.innerHTML = docLinkHtml;\n",
              "          element.appendChild(docLink);\n",
              "        }\n",
              "      </script>\n",
              "    </div>\n",
              "  </div>\n",
              "  "
            ],
            "text/plain": [
              "   articleID  ... label\n",
              "0          1  ...     1\n",
              "1          2  ...     1\n",
              "2          3  ...     1\n",
              "3          4  ...     1\n",
              "4          5  ...     1\n",
              "\n",
              "[5 rows x 7 columns]"
            ]
          },
          "metadata": {},
          "execution_count": 4
        },
        {
          "output_type": "stream",
          "name": "stdout",
          "text": [
            "time: 64.9 ms (started: 2022-01-02 08:56:46 +00:00)\n"
          ]
        }
      ]
    },
    {
      "cell_type": "markdown",
      "metadata": {
        "id": "rL_AuHkzlvdk"
      },
      "source": [
        "# Preprocessing Data"
      ]
    },
    {
      "cell_type": "code",
      "source": [
        "fake['Label'] = 1\n",
        "true['Label'] = 0"
      ],
      "metadata": {
        "colab": {
          "base_uri": "https://localhost:8080/"
        },
        "id": "QSorWdYI9vH2",
        "outputId": "cbea1174-c6d8-4cfd-be20-58640c498f57"
      },
      "execution_count": 5,
      "outputs": [
        {
          "output_type": "stream",
          "name": "stdout",
          "text": [
            "time: 2.93 ms (started: 2022-01-02 08:57:02 +00:00)\n"
          ]
        }
      ]
    },
    {
      "cell_type": "code",
      "source": [
        "data = pd.concat([true,fake],axis=0,ignore_index=True)\n",
        "print(data.shape)\n",
        "data.head()"
      ],
      "metadata": {
        "colab": {
          "base_uri": "https://localhost:8080/",
          "height": 372
        },
        "id": "FeFS5Jmc-Das",
        "outputId": "151db8e3-e166-4a68-cf2a-d029ada2409d"
      },
      "execution_count": 6,
      "outputs": [
        {
          "output_type": "stream",
          "name": "stdout",
          "text": [
            "(49977, 8)\n"
          ]
        },
        {
          "output_type": "execute_result",
          "data": {
            "text/html": [
              "\n",
              "  <div id=\"df-33478248-364f-48f0-9b34-8316c42899ca\">\n",
              "    <div class=\"colab-df-container\">\n",
              "      <div>\n",
              "<style scoped>\n",
              "    .dataframe tbody tr th:only-of-type {\n",
              "        vertical-align: middle;\n",
              "    }\n",
              "\n",
              "    .dataframe tbody tr th {\n",
              "        vertical-align: top;\n",
              "    }\n",
              "\n",
              "    .dataframe thead th {\n",
              "        text-align: right;\n",
              "    }\n",
              "</style>\n",
              "<table border=\"1\" class=\"dataframe\">\n",
              "  <thead>\n",
              "    <tr style=\"text-align: right;\">\n",
              "      <th></th>\n",
              "      <th>articleID</th>\n",
              "      <th>domain</th>\n",
              "      <th>date</th>\n",
              "      <th>category</th>\n",
              "      <th>headline</th>\n",
              "      <th>content</th>\n",
              "      <th>label</th>\n",
              "      <th>Label</th>\n",
              "    </tr>\n",
              "  </thead>\n",
              "  <tbody>\n",
              "    <tr>\n",
              "      <th>0</th>\n",
              "      <td>1</td>\n",
              "      <td>jagonews24.com</td>\n",
              "      <td>2018-09-19 17:48:18</td>\n",
              "      <td>Education</td>\n",
              "      <td>হট্টগোল করায় বাকৃবিতে দুইজন বরখাস্ত, ৬ জনকে শোকজ</td>\n",
              "      <td>গত ১৭ সেপ্টেম্বর বাংলাদেশ কৃষি বিশ্ববিদ্যালয়ে ...</td>\n",
              "      <td>1</td>\n",
              "      <td>0</td>\n",
              "    </tr>\n",
              "    <tr>\n",
              "      <th>1</th>\n",
              "      <td>2</td>\n",
              "      <td>jagonews24.com</td>\n",
              "      <td>2018-09-19 17:48:19</td>\n",
              "      <td>National</td>\n",
              "      <td>মালয়েশিয়ায় কর্মী পাঠানোর ব্যবস্থা নেয়ার সুপারিশ</td>\n",
              "      <td>বাংলাদেশের বৃহৎ শ্রমবাজার মালয়েশিয়ায় আবার শ্রম...</td>\n",
              "      <td>1</td>\n",
              "      <td>0</td>\n",
              "    </tr>\n",
              "    <tr>\n",
              "      <th>2</th>\n",
              "      <td>3</td>\n",
              "      <td>jagonews24.com</td>\n",
              "      <td>2018-09-19 17:48:20</td>\n",
              "      <td>National</td>\n",
              "      <td>প্রেমের প্রস্তাবে রাজি না হওয়ায় স্কুলছাত্রীকে ...</td>\n",
              "      <td>নরসিংদীর মনোহরদীতে প্রেমের প্রস্তাবে রাজি না হ...</td>\n",
              "      <td>1</td>\n",
              "      <td>0</td>\n",
              "    </tr>\n",
              "    <tr>\n",
              "      <th>3</th>\n",
              "      <td>4</td>\n",
              "      <td>jagonews24.com</td>\n",
              "      <td>2018-09-19 17:48:21</td>\n",
              "      <td>Crime</td>\n",
              "      <td>মেডিয়েশনই মামলাজট নিরসনের পথ : বিচারপতি আহমেদ ...</td>\n",
              "      <td>সুপ্রিম কোর্টের হাইকোর্ট বিভাগের বিচারপতি আহমে...</td>\n",
              "      <td>1</td>\n",
              "      <td>0</td>\n",
              "    </tr>\n",
              "    <tr>\n",
              "      <th>4</th>\n",
              "      <td>5</td>\n",
              "      <td>jagonews24.com</td>\n",
              "      <td>2018-09-19 17:48:21</td>\n",
              "      <td>National</td>\n",
              "      <td>টকশোতে বক্তব্য দিতে গিয়ে জাপা নেতার মৃত্যু</td>\n",
              "      <td>মাদারীপুর সদরের উপজেলার লেকেরপাড়ে একটি বেসরকার...</td>\n",
              "      <td>1</td>\n",
              "      <td>0</td>\n",
              "    </tr>\n",
              "  </tbody>\n",
              "</table>\n",
              "</div>\n",
              "      <button class=\"colab-df-convert\" onclick=\"convertToInteractive('df-33478248-364f-48f0-9b34-8316c42899ca')\"\n",
              "              title=\"Convert this dataframe to an interactive table.\"\n",
              "              style=\"display:none;\">\n",
              "        \n",
              "  <svg xmlns=\"http://www.w3.org/2000/svg\" height=\"24px\"viewBox=\"0 0 24 24\"\n",
              "       width=\"24px\">\n",
              "    <path d=\"M0 0h24v24H0V0z\" fill=\"none\"/>\n",
              "    <path d=\"M18.56 5.44l.94 2.06.94-2.06 2.06-.94-2.06-.94-.94-2.06-.94 2.06-2.06.94zm-11 1L8.5 8.5l.94-2.06 2.06-.94-2.06-.94L8.5 2.5l-.94 2.06-2.06.94zm10 10l.94 2.06.94-2.06 2.06-.94-2.06-.94-.94-2.06-.94 2.06-2.06.94z\"/><path d=\"M17.41 7.96l-1.37-1.37c-.4-.4-.92-.59-1.43-.59-.52 0-1.04.2-1.43.59L10.3 9.45l-7.72 7.72c-.78.78-.78 2.05 0 2.83L4 21.41c.39.39.9.59 1.41.59.51 0 1.02-.2 1.41-.59l7.78-7.78 2.81-2.81c.8-.78.8-2.07 0-2.86zM5.41 20L4 18.59l7.72-7.72 1.47 1.35L5.41 20z\"/>\n",
              "  </svg>\n",
              "      </button>\n",
              "      \n",
              "  <style>\n",
              "    .colab-df-container {\n",
              "      display:flex;\n",
              "      flex-wrap:wrap;\n",
              "      gap: 12px;\n",
              "    }\n",
              "\n",
              "    .colab-df-convert {\n",
              "      background-color: #E8F0FE;\n",
              "      border: none;\n",
              "      border-radius: 50%;\n",
              "      cursor: pointer;\n",
              "      display: none;\n",
              "      fill: #1967D2;\n",
              "      height: 32px;\n",
              "      padding: 0 0 0 0;\n",
              "      width: 32px;\n",
              "    }\n",
              "\n",
              "    .colab-df-convert:hover {\n",
              "      background-color: #E2EBFA;\n",
              "      box-shadow: 0px 1px 2px rgba(60, 64, 67, 0.3), 0px 1px 3px 1px rgba(60, 64, 67, 0.15);\n",
              "      fill: #174EA6;\n",
              "    }\n",
              "\n",
              "    [theme=dark] .colab-df-convert {\n",
              "      background-color: #3B4455;\n",
              "      fill: #D2E3FC;\n",
              "    }\n",
              "\n",
              "    [theme=dark] .colab-df-convert:hover {\n",
              "      background-color: #434B5C;\n",
              "      box-shadow: 0px 1px 3px 1px rgba(0, 0, 0, 0.15);\n",
              "      filter: drop-shadow(0px 1px 2px rgba(0, 0, 0, 0.3));\n",
              "      fill: #FFFFFF;\n",
              "    }\n",
              "  </style>\n",
              "\n",
              "      <script>\n",
              "        const buttonEl =\n",
              "          document.querySelector('#df-33478248-364f-48f0-9b34-8316c42899ca button.colab-df-convert');\n",
              "        buttonEl.style.display =\n",
              "          google.colab.kernel.accessAllowed ? 'block' : 'none';\n",
              "\n",
              "        async function convertToInteractive(key) {\n",
              "          const element = document.querySelector('#df-33478248-364f-48f0-9b34-8316c42899ca');\n",
              "          const dataTable =\n",
              "            await google.colab.kernel.invokeFunction('convertToInteractive',\n",
              "                                                     [key], {});\n",
              "          if (!dataTable) return;\n",
              "\n",
              "          const docLinkHtml = 'Like what you see? Visit the ' +\n",
              "            '<a target=\"_blank\" href=https://colab.research.google.com/notebooks/data_table.ipynb>data table notebook</a>'\n",
              "            + ' to learn more about interactive tables.';\n",
              "          element.innerHTML = '';\n",
              "          dataTable['output_type'] = 'display_data';\n",
              "          await google.colab.output.renderOutput(dataTable, element);\n",
              "          const docLink = document.createElement('div');\n",
              "          docLink.innerHTML = docLinkHtml;\n",
              "          element.appendChild(docLink);\n",
              "        }\n",
              "      </script>\n",
              "    </div>\n",
              "  </div>\n",
              "  "
            ],
            "text/plain": [
              "   articleID          domain  ... label Label\n",
              "0          1  jagonews24.com  ...     1     0\n",
              "1          2  jagonews24.com  ...     1     0\n",
              "2          3  jagonews24.com  ...     1     0\n",
              "3          4  jagonews24.com  ...     1     0\n",
              "4          5  jagonews24.com  ...     1     0\n",
              "\n",
              "[5 rows x 8 columns]"
            ]
          },
          "metadata": {},
          "execution_count": 6
        },
        {
          "output_type": "stream",
          "name": "stdout",
          "text": [
            "time: 44.9 ms (started: 2022-01-02 08:57:02 +00:00)\n"
          ]
        }
      ]
    },
    {
      "cell_type": "code",
      "source": [
        "data.describe()"
      ],
      "metadata": {
        "colab": {
          "base_uri": "https://localhost:8080/",
          "height": 318
        },
        "id": "KOT5JhMX-Fhk",
        "outputId": "f9be13f7-13ec-4076-c4d2-cfc6e8ee3907"
      },
      "execution_count": 7,
      "outputs": [
        {
          "output_type": "execute_result",
          "data": {
            "text/html": [
              "\n",
              "  <div id=\"df-4253c068-2ed7-43be-8acc-13ad5379f48a\">\n",
              "    <div class=\"colab-df-container\">\n",
              "      <div>\n",
              "<style scoped>\n",
              "    .dataframe tbody tr th:only-of-type {\n",
              "        vertical-align: middle;\n",
              "    }\n",
              "\n",
              "    .dataframe tbody tr th {\n",
              "        vertical-align: top;\n",
              "    }\n",
              "\n",
              "    .dataframe thead th {\n",
              "        text-align: right;\n",
              "    }\n",
              "</style>\n",
              "<table border=\"1\" class=\"dataframe\">\n",
              "  <thead>\n",
              "    <tr style=\"text-align: right;\">\n",
              "      <th></th>\n",
              "      <th>articleID</th>\n",
              "      <th>label</th>\n",
              "      <th>Label</th>\n",
              "    </tr>\n",
              "  </thead>\n",
              "  <tbody>\n",
              "    <tr>\n",
              "      <th>count</th>\n",
              "      <td>49977.000000</td>\n",
              "      <td>49977.000000</td>\n",
              "      <td>49977.000000</td>\n",
              "    </tr>\n",
              "    <tr>\n",
              "      <th>mean</th>\n",
              "      <td>30045.527142</td>\n",
              "      <td>0.974008</td>\n",
              "      <td>0.025992</td>\n",
              "    </tr>\n",
              "    <tr>\n",
              "      <th>std</th>\n",
              "      <td>18317.000506</td>\n",
              "      <td>0.159113</td>\n",
              "      <td>0.159113</td>\n",
              "    </tr>\n",
              "    <tr>\n",
              "      <th>min</th>\n",
              "      <td>1.000000</td>\n",
              "      <td>0.000000</td>\n",
              "      <td>0.000000</td>\n",
              "    </tr>\n",
              "    <tr>\n",
              "      <th>25%</th>\n",
              "      <td>14168.000000</td>\n",
              "      <td>1.000000</td>\n",
              "      <td>0.000000</td>\n",
              "    </tr>\n",
              "    <tr>\n",
              "      <th>50%</th>\n",
              "      <td>30039.000000</td>\n",
              "      <td>1.000000</td>\n",
              "      <td>0.000000</td>\n",
              "    </tr>\n",
              "    <tr>\n",
              "      <th>75%</th>\n",
              "      <td>45898.000000</td>\n",
              "      <td>1.000000</td>\n",
              "      <td>0.000000</td>\n",
              "    </tr>\n",
              "    <tr>\n",
              "      <th>max</th>\n",
              "      <td>61780.000000</td>\n",
              "      <td>1.000000</td>\n",
              "      <td>1.000000</td>\n",
              "    </tr>\n",
              "  </tbody>\n",
              "</table>\n",
              "</div>\n",
              "      <button class=\"colab-df-convert\" onclick=\"convertToInteractive('df-4253c068-2ed7-43be-8acc-13ad5379f48a')\"\n",
              "              title=\"Convert this dataframe to an interactive table.\"\n",
              "              style=\"display:none;\">\n",
              "        \n",
              "  <svg xmlns=\"http://www.w3.org/2000/svg\" height=\"24px\"viewBox=\"0 0 24 24\"\n",
              "       width=\"24px\">\n",
              "    <path d=\"M0 0h24v24H0V0z\" fill=\"none\"/>\n",
              "    <path d=\"M18.56 5.44l.94 2.06.94-2.06 2.06-.94-2.06-.94-.94-2.06-.94 2.06-2.06.94zm-11 1L8.5 8.5l.94-2.06 2.06-.94-2.06-.94L8.5 2.5l-.94 2.06-2.06.94zm10 10l.94 2.06.94-2.06 2.06-.94-2.06-.94-.94-2.06-.94 2.06-2.06.94z\"/><path d=\"M17.41 7.96l-1.37-1.37c-.4-.4-.92-.59-1.43-.59-.52 0-1.04.2-1.43.59L10.3 9.45l-7.72 7.72c-.78.78-.78 2.05 0 2.83L4 21.41c.39.39.9.59 1.41.59.51 0 1.02-.2 1.41-.59l7.78-7.78 2.81-2.81c.8-.78.8-2.07 0-2.86zM5.41 20L4 18.59l7.72-7.72 1.47 1.35L5.41 20z\"/>\n",
              "  </svg>\n",
              "      </button>\n",
              "      \n",
              "  <style>\n",
              "    .colab-df-container {\n",
              "      display:flex;\n",
              "      flex-wrap:wrap;\n",
              "      gap: 12px;\n",
              "    }\n",
              "\n",
              "    .colab-df-convert {\n",
              "      background-color: #E8F0FE;\n",
              "      border: none;\n",
              "      border-radius: 50%;\n",
              "      cursor: pointer;\n",
              "      display: none;\n",
              "      fill: #1967D2;\n",
              "      height: 32px;\n",
              "      padding: 0 0 0 0;\n",
              "      width: 32px;\n",
              "    }\n",
              "\n",
              "    .colab-df-convert:hover {\n",
              "      background-color: #E2EBFA;\n",
              "      box-shadow: 0px 1px 2px rgba(60, 64, 67, 0.3), 0px 1px 3px 1px rgba(60, 64, 67, 0.15);\n",
              "      fill: #174EA6;\n",
              "    }\n",
              "\n",
              "    [theme=dark] .colab-df-convert {\n",
              "      background-color: #3B4455;\n",
              "      fill: #D2E3FC;\n",
              "    }\n",
              "\n",
              "    [theme=dark] .colab-df-convert:hover {\n",
              "      background-color: #434B5C;\n",
              "      box-shadow: 0px 1px 3px 1px rgba(0, 0, 0, 0.15);\n",
              "      filter: drop-shadow(0px 1px 2px rgba(0, 0, 0, 0.3));\n",
              "      fill: #FFFFFF;\n",
              "    }\n",
              "  </style>\n",
              "\n",
              "      <script>\n",
              "        const buttonEl =\n",
              "          document.querySelector('#df-4253c068-2ed7-43be-8acc-13ad5379f48a button.colab-df-convert');\n",
              "        buttonEl.style.display =\n",
              "          google.colab.kernel.accessAllowed ? 'block' : 'none';\n",
              "\n",
              "        async function convertToInteractive(key) {\n",
              "          const element = document.querySelector('#df-4253c068-2ed7-43be-8acc-13ad5379f48a');\n",
              "          const dataTable =\n",
              "            await google.colab.kernel.invokeFunction('convertToInteractive',\n",
              "                                                     [key], {});\n",
              "          if (!dataTable) return;\n",
              "\n",
              "          const docLinkHtml = 'Like what you see? Visit the ' +\n",
              "            '<a target=\"_blank\" href=https://colab.research.google.com/notebooks/data_table.ipynb>data table notebook</a>'\n",
              "            + ' to learn more about interactive tables.';\n",
              "          element.innerHTML = '';\n",
              "          dataTable['output_type'] = 'display_data';\n",
              "          await google.colab.output.renderOutput(dataTable, element);\n",
              "          const docLink = document.createElement('div');\n",
              "          docLink.innerHTML = docLinkHtml;\n",
              "          element.appendChild(docLink);\n",
              "        }\n",
              "      </script>\n",
              "    </div>\n",
              "  </div>\n",
              "  "
            ],
            "text/plain": [
              "          articleID         label         Label\n",
              "count  49977.000000  49977.000000  49977.000000\n",
              "mean   30045.527142      0.974008      0.025992\n",
              "std    18317.000506      0.159113      0.159113\n",
              "min        1.000000      0.000000      0.000000\n",
              "25%    14168.000000      1.000000      0.000000\n",
              "50%    30039.000000      1.000000      0.000000\n",
              "75%    45898.000000      1.000000      0.000000\n",
              "max    61780.000000      1.000000      1.000000"
            ]
          },
          "metadata": {},
          "execution_count": 7
        },
        {
          "output_type": "stream",
          "name": "stdout",
          "text": [
            "time: 41.9 ms (started: 2022-01-02 08:57:03 +00:00)\n"
          ]
        }
      ]
    },
    {
      "cell_type": "code",
      "source": [
        "data['content']=data['headline']+data['content']\n",
        "data=data.drop(['headline'], axis=1)"
      ],
      "metadata": {
        "colab": {
          "base_uri": "https://localhost:8080/"
        },
        "id": "6YcJG8J1-Jva",
        "outputId": "4926edab-2885-4a5c-c1d5-62740660fa03"
      },
      "execution_count": 8,
      "outputs": [
        {
          "output_type": "stream",
          "name": "stdout",
          "text": [
            "time: 125 ms (started: 2022-01-02 08:57:03 +00:00)\n"
          ]
        }
      ]
    },
    {
      "cell_type": "markdown",
      "metadata": {
        "id": "6B2DFdjYs_n-"
      },
      "source": [
        "Chek if dataset is Balanced"
      ]
    },
    {
      "cell_type": "code",
      "source": [
        "sns.countplot(data.Label)"
      ],
      "metadata": {
        "colab": {
          "base_uri": "https://localhost:8080/",
          "height": 368
        },
        "id": "oZJT7Bcp-Kaq",
        "outputId": "07261f46-32da-4e8b-97f0-f75869c2b172"
      },
      "execution_count": 9,
      "outputs": [
        {
          "output_type": "stream",
          "name": "stderr",
          "text": [
            "/usr/local/lib/python3.7/dist-packages/seaborn/_decorators.py:43: FutureWarning: Pass the following variable as a keyword arg: x. From version 0.12, the only valid positional argument will be `data`, and passing other arguments without an explicit keyword will result in an error or misinterpretation.\n",
            "  FutureWarning\n"
          ]
        },
        {
          "output_type": "execute_result",
          "data": {
            "text/plain": [
              "<matplotlib.axes._subplots.AxesSubplot at 0x7fe30cb2da90>"
            ]
          },
          "metadata": {},
          "execution_count": 9
        },
        {
          "output_type": "display_data",
          "data": {
            "image/png": "[encoded data removed]",
            "text/plain": [
              "<Figure size 432x288 with 1 Axes>"
            ]
          },
          "metadata": {
            "needs_background": "light"
          }
        },
        {
          "output_type": "stream",
          "name": "stdout",
          "text": [
            "time: 184 ms (started: 2022-01-02 08:57:03 +00:00)\n"
          ]
        }
      ]
    },
    {
      "cell_type": "markdown",
      "metadata": {
        "id": "8ceK6nIOtE2G"
      },
      "source": [
        "Conclusion: Imbalanced Dataset"
      ]
    },
    {
      "cell_type": "code",
      "source": [
        "data.category.value_counts()"
      ],
      "metadata": {
        "colab": {
          "base_uri": "https://localhost:8080/"
        },
        "id": "jfR7-5pf-QJx",
        "outputId": "ebb0af61-d68f-4505-c477-9f36fec796ca"
      },
      "execution_count": 10,
      "outputs": [
        {
          "output_type": "execute_result",
          "data": {
            "text/plain": [
              "National         18807\n",
              "International     7081\n",
              "Sports            6580\n",
              "Editorial         3504\n",
              "Politics          3031\n",
              "Miscellaneous     2872\n",
              "Entertainment     2742\n",
              "Finance           1226\n",
              "Education         1145\n",
              "Crime             1114\n",
              "Lifestyle         1003\n",
              "Technology         872\n",
              "Name: category, dtype: int64"
            ]
          },
          "metadata": {},
          "execution_count": 10
        },
        {
          "output_type": "stream",
          "name": "stdout",
          "text": [
            "time: 18.6 ms (started: 2022-01-02 08:57:03 +00:00)\n"
          ]
        }
      ]
    },
    {
      "cell_type": "markdown",
      "metadata": {
        "id": "fambCLALooHz"
      },
      "source": [
        "# Data Cleaning"
      ]
    },
    {
      "cell_type": "markdown",
      "metadata": {
        "id": "zTHknxdNoqu5"
      },
      "source": [
        "Removing stop words in order to root words that are retaining in the data and fed into the models"
      ]
    },
    {
      "cell_type": "code",
      "metadata": {
        "id": "OPjR0yuHb_xk",
        "colab": {
          "base_uri": "https://localhost:8080/"
        },
        "outputId": "5218c151-3cbc-4520-8453-f90ac111c806"
      },
      "source": [
        "#stop = stopwords.words('bangla')\n",
        "stop = frozenset([\"অবশ্য\", \"অনেক\", \"অনেকে\", \"অনেকেই\", \"অন্তত\", \"অথবা\", \"অথচ\",\n",
        "\"অর্থাত\",\n",
        "\"অন্য\",\n",
        "\"আজ\",\n",
        "\"আছে\",\n",
        "\"আপনার\",\n",
        "\"আপনি\",\n",
        "\"আবার\",\n",
        "\"আমরা\",\n",
        "\"আমাকে\",\n",
        "\"আমাদের\",\n",
        "\"আমার\",\n",
        "\"আমি\",\n",
        "\"আরও\",\n",
        "\"আর\",\n",
        "\"আগে\",\n",
        "\"আগেই\",\n",
        "\"আই\",\n",
        "\"অতএব\",\n",
        "\"আগামী\",\n",
        "\"অবধি\",\n",
        "\"অনুযায়ী\",\n",
        "\"আদ্যভাগে\",\n",
        "\"এই\",\n",
        "\"একই\",\n",
        "\"একে\",\n",
        "\"একটি\",\n",
        "\"এখন\",\n",
        "\"এখনও\",\n",
        "\"এখানে\",\n",
        "\"এখানেই\",\n",
        "\"এটি\",\n",
        "\"এটা\",\n",
        "\"এটাই\",\n",
        "\"এতটাই\",\n",
        "\"এবং\",\n",
        "\"একবার\",\n",
        "\"এবার\",\n",
        "\"এদের\",\n",
        "\"এঁদের\",\n",
        "\"এমন\",\n",
        "\"এমনকী\",\n",
        "\"এল\",\n",
        "\"এর\",\n",
        "\"এরা\",\n",
        "\"এঁরা\",\n",
        "\"এস\",\n",
        "\"এত\",\n",
        "\"এতে\",\n",
        "\"এসে\",\n",
        "\"একে\",\n",
        "\"এ\",\n",
        "\"ঐ\",\n",
        "\"ই\",\n",
        "\"ইহা\",\n",
        "\"ইত্যাদি\",\n",
        "\"উনি\",\n",
        "\"উপর\",\n",
        "\"উপরে\",\n",
        "\"উচিত\",\n",
        "\"ও\",\n",
        "\"ওই\",\n",
        "\"ওর\",\n",
        "\"ওরা\",\n",
        "\"ওঁর\",\n",
        "\"ওঁরা\",\n",
        "\"ওকে\",\n",
        "\"ওদের\",\n",
        "\"ওঁদের\"\n",
        "\"ওখানে\",\n",
        "\"কত\",\n",
        "\"কবে\",\n",
        "\"করতে\",\n",
        "\"কয়েক\",\n",
        "\"কয়েকটি\",\n",
        "\"করবে\",\n",
        "\"করলেন\",\n",
        "\"করার\",\n",
        "\"কারও\",\n",
        "\"করা\",\n",
        "\"করি\",\n",
        "\"করিয়ে\",\n",
        "\"করার\",\n",
        "\"করাই\",\n",
        "\"করলে\",\n",
        "\"করলেন\",\n",
        "\"করিতে\",\n",
        "\"করিয়া\",\n",
        "\"করেছিলেন\",\n",
        "\"করছে\",\n",
        "\"করছেন\",\n",
        "\"করেছেন\",\n",
        "\"করেছে\",\n",
        "\"করেন\",\n",
        "\"করবেন\",\n",
        "\"করায়\",\n",
        "\"করে\",\n",
        "\"করেই\",\n",
        "\"কাছ\",\n",
        "\"কাছে\",\n",
        "\"কাজে\",\n",
        "\"কারণ\",\n",
        "\"কিছু\",\n",
        "\"কিছুই\",\n",
        "\"কিন্তু\",\n",
        "\"কিংবা\",\n",
        "\"কি\",\n",
        "\"কী\",\n",
        "\"কেউ\",\n",
        "\"কেউই\",\n",
        "\"কাউকে\",\n",
        "\"কেন\",\n",
        "\"কে\",\n",
        "\"কোনও\",\n",
        "\"কোনো\",\n",
        "\"কোন\",\n",
        "\"কখনও\",\n",
        "\"ক্ষেত্রে\",\n",
        "\"খুব\",\t\n",
        "\"গুলি\",\n",
        "\"গিয়ে\",\n",
        "\"গিয়েছে\",\n",
        "\"গেছে\",\n",
        "\"গেল\",\n",
        "\"গেলে\",\n",
        "\"গোটা\",\n",
        "\"চলে\",\n",
        "\"ছাড়া\",\n",
        "\"ছাড়াও\",\n",
        "\"ছিলেন\",\n",
        "\"ছিল\",\n",
        "\"জন্য\",\n",
        "\"জানা\",\n",
        "\"ঠিক\",\n",
        "\"তিনি\",\n",
        "\"তিনঐ\",\n",
        "\"তিনিও\",\n",
        "\"তখন\",\n",
        "\"তবে\",\n",
        "\"তবু\",\n",
        "\"তাঁদের\",\n",
        "\"তাঁহারা\",\n",
        "\"তাঁরা\",\n",
        "\"তাঁর\",\n",
        "\"তাঁকে\",\n",
        "\"তাই\",\n",
        "\"তেমন\",\n",
        "\"তাকে\",\n",
        "\"তাহা\",\n",
        "\"তাহাতে\",\n",
        "\"তাহার\",\n",
        "\"তাদের\",\n",
        "\"তারপর\",\n",
        "\"তারা\",\n",
        "\"তারৈ\",\n",
        "\"তার\",\n",
        "\"তাহলে\",\n",
        "\"তিনি\",\n",
        "\"তা\",\n",
        "\"তাও\",\n",
        "\"তাতে\",\n",
        "\"তো\",\n",
        "\"তত\",\n",
        "\"তুমি\",\n",
        "\"তোমার\",\n",
        "\"তথা\",\n",
        "\"থাকে\",\n",
        "\"থাকা\",\n",
        "\"থাকায়\",\n",
        "\"থেকে\",\n",
        "\"থেকেও\",\n",
        "\"থাকবে\",\n",
        "\"থাকেন\",\n",
        "\"থাকবেন\",\n",
        "\"থেকেই\",\n",
        "\"দিকে\",\n",
        "\"দিতে\",\n",
        "\"দিয়ে\",\n",
        "\"দিয়েছে\",\n",
        "\"দিয়েছেন\",\n",
        "\"দিলেন\",\n",
        "\"দু\",\n",
        "\"দুটি\",\n",
        "\"দুটো\",\n",
        "\"দেয়\",\n",
        "\"দেওয়া\",\n",
        "\"দেওয়ার\",\n",
        "\"দেখা\",\n",
        "\"দেখে\",\n",
        "\"দেখতে\",\n",
        "\"দ্বারা\",\n",
        "\"ধরে\",\n",
        "\"ধরা\",\n",
        "\"নয়\",\n",
        "\"নানা\",\n",
        "\"না\",\n",
        "\"নাকি\",\n",
        "\"নাগাদ\",\n",
        "\"নিতে\",\n",
        "\"নিজে\",\n",
        "\"নিজেই\",\n",
        "\"নিজের\",\n",
        "\"নিজেদের\",\n",
        "\"নিয়ে\",\n",
        "\"নেওয়া\",\n",
        "\"নেওয়ার\",\n",
        "\"নেই\",\n",
        "\"নাই\",\n",
        "\"পক্ষে\",\n",
        "\"পর্যন্ত\",\n",
        "\"পাওয়া\",\n",
        "\"পারেন\",\n",
        "\"পারি\",\n",
        "\"পারে\",\n",
        "\"পরে\",\n",
        "\"পরেই\",\n",
        "\"পরেও\",\n",
        "\"পর\",\n",
        "\"পেয়ে\",\n",
        "\"প্রতি\",\n",
        "\"প্রভৃতি\",\n",
        "\"প্রায়\",\n",
        "\"ফের\",\n",
        "\"ফলে\",\n",
        "\"ফিরে\",\n",
        "\"ব্যবহার\",\n",
        "\"বলতে\",\n",
        "\"বললেন\",\n",
        "\"বলেছেন\",\n",
        "\"বলল\",\n",
        "\"বলা\",\n",
        "\"বলেন\",\n",
        "\"বলে\",\n",
        "\"বহু\",\n",
        "\"বসে\",\n",
        "\"বার\",\n",
        "\"বা\",\n",
        "\"বিনা\",\n",
        "\"বরং\",\n",
        "\"বদলে\",\n",
        "\"বাদে\",\n",
        "\"বার\",\n",
        "\"বিশেষ\",\n",
        "\"বিভিন্ন\tবিষয়টি\",\n",
        "\"ব্যবহার\",\n",
        "\"ব্যাপারে\",\n",
        "\"ভাবে\",\n",
        "\"ভাবেই\",\n",
        "\"মধ্যে\",\n",
        "\"মধ্যেই\",\n",
        "\"মধ্যেও\",\n",
        "\"মধ্যভাগে\",\n",
        "\"মাধ্যমে\",\n",
        "\"মাত্র\",\n",
        "\"মতো\",\n",
        "\"মতোই\",\n",
        "\"মোটেই\",\n",
        "\"যখন\",\n",
        "\"যদি\",\n",
        "\"যদিও\",\n",
        "\"যাবে\",\n",
        "\"যায়\",\n",
        "\"যাকে\",\n",
        "\"যাওয়া\",\n",
        "\"যাওয়ার\",\n",
        "\"যত\",\n",
        "\"যতটা\",\n",
        "\"যা\",\n",
        "\"যার\",\n",
        "\"যারা\",\n",
        "\"যাঁর\",\n",
        "\"যাঁরা\",\n",
        "\"যাদের\",\n",
        "\"যান\",\n",
        "\"যাচ্ছে\",\n",
        "\"যেতে\",\n",
        "\"যাতে\",\n",
        "\"যেন\",\n",
        "\"যেমন\",\n",
        "\"যেখানে\",\n",
        "\"যিনি\",\n",
        "\"যে\",\n",
        "\"রেখে\",\n",
        "\"রাখা\",\n",
        "\"রয়েছে\",\n",
        "\"রকম\",\n",
        "\"শুধু\",\n",
        "\"সঙ্গে\",\n",
        "\"সঙ্গেও\",\n",
        "\"সমস্ত\",\n",
        "\"সব\",\n",
        "\"সবার\",\n",
        "\"সহ\",\n",
        "\"সুতরাং\",\n",
        "\"সহিত\",\n",
        "\"সেই\",\n",
        "\"সেটা\",\n",
        "\"সেটি\",\n",
        "\"সেটাই\",\n",
        "\"সেটাও\",\n",
        "\"সম্প্রতি\",\n",
        "\"সেখান\",\n",
        "\"সেখানে\",\n",
        "\"সে\",\n",
        "\"স্পষ্ট\",\n",
        "\"স্বয়ং\",\n",
        "\"হইতে\",\n",
        "\"হইবে\",\n",
        "\"হৈলে\",\n",
        "\"হইয়া\",\n",
        "\"হচ্ছে\",\n",
        "\"হত\",\n",
        "\"হতে\",\n",
        "\"হতেই\",\n",
        "\"হবে\",\n",
        "\"হবেন\",\n",
        "\"হয়েছিল\",\n",
        "\"হয়েছে\",\n",
        "\"হয়েছেন\",\n",
        "\"হয়ে\",\n",
        "\"হয়নি\",\n",
        "\"হয়\",\n",
        "\"হয়েই\",\n",
        "\"হয়তো\",\n",
        "\"হল\",\n",
        "\"হলে\",\n",
        "\"হলেই\",\n",
        "\"হলেও\",\n",
        "\"হলো\",\n",
        "\"হিসাবে\",\n",
        "\"হওয়া\",\n",
        "\"হওয়ার\",\n",
        "\"হওয়ায়\",\n",
        "\"হন\",\n",
        "\"হোক\",\n",
        "\"জন\",\n",
        "\"জনকে\",\n",
        "\"জনের\",\n",
        "\"জানতে\",\n",
        "\"জানায়\",\n",
        "\"জানিয়ে\",\n",
        "\"জানানো\",\n",
        "\"জানিয়েছে\",\n",
        "\"জন্য\", \"জন্যওজে\", \"জে\", \"বেশ\", \"দেন\", \"তুলে\", \"ছিলেন\", \"চান\", \"চায়\", \"চেয়ে\", \"মোট\", \"যথেষ্ট\", \"টি\"])\n",
        "data['content'] = data['content'].apply(lambda x: ' '.join([word for word in x.split() if word not in (stop)]))"
      ],
      "execution_count": 11,
      "outputs": [
        {
          "output_type": "stream",
          "name": "stdout",
          "text": [
            "time: 4.14 s (started: 2022-01-02 08:57:12 +00:00)\n"
          ]
        }
      ]
    },
    {
      "cell_type": "markdown",
      "metadata": {
        "id": "ezZDHJ-0fbc1"
      },
      "source": [
        "#Bulding Model"
      ]
    },
    {
      "cell_type": "markdown",
      "metadata": {
        "id": "06ReTE9Z6pLv"
      },
      "source": [
        "Spliting datas into training set and test set"
      ]
    },
    {
      "cell_type": "code",
      "metadata": {
        "id": "yU7d4N1gff4b",
        "colab": {
          "base_uri": "https://localhost:8080/"
        },
        "outputId": "6d8a368b-b2a2-4246-af55-492434207307"
      },
      "source": [
        "y = data['Label']\n",
        "X_train, X_test, y_train, y_test = train_test_split(data['content'], y,test_size=0.33,random_state=53)"
      ],
      "execution_count": 12,
      "outputs": [
        {
          "output_type": "stream",
          "name": "stdout",
          "text": [
            "time: 23.6 ms (started: 2022-01-02 08:57:25 +00:00)\n"
          ]
        }
      ]
    },
    {
      "cell_type": "code",
      "metadata": {
        "id": "s-iIarNYfm7B",
        "colab": {
          "base_uri": "https://localhost:8080/"
        },
        "outputId": "358dc52e-761a-4d18-8823-73d1d338920e"
      },
      "source": [
        "count_vectorizer = CountVectorizer(stop_words = frozenset([\"অবশ্য\", \"অনেক\", \"অনেকে\", \"অনেকেই\", \"অন্তত\", \"অথবা\", \"অথচ\",\n",
        "\"অর্থাত\",\n",
        "\"অন্য\",\n",
        "\"আজ\",\n",
        "\"আছে\",\n",
        "\"আপনার\",\n",
        "\"আপনি\",\n",
        "\"আবার\",\n",
        "\"আমরা\",\n",
        "\"আমাকে\",\n",
        "\"আমাদের\",\n",
        "\"আমার\",\n",
        "\"আমি\",\n",
        "\"আরও\",\n",
        "\"আর\",\n",
        "\"আগে\",\n",
        "\"আগেই\",\n",
        "\"আই\",\n",
        "\"অতএব\",\n",
        "\"আগামী\",\n",
        "\"অবধি\",\n",
        "\"অনুযায়ী\",\n",
        "\"আদ্যভাগে\",\n",
        "\"এই\",\n",
        "\"একই\",\n",
        "\"একে\",\n",
        "\"একটি\",\n",
        "\"এখন\",\n",
        "\"এখনও\",\n",
        "\"এখানে\",\n",
        "\"এখানেই\",\n",
        "\"এটি\",\n",
        "\"এটা\",\n",
        "\"এটাই\",\n",
        "\"এতটাই\",\n",
        "\"এবং\",\n",
        "\"একবার\",\n",
        "\"এবার\",\n",
        "\"এদের\",\n",
        "\"এঁদের\",\n",
        "\"এমন\",\n",
        "\"এমনকী\",\n",
        "\"এল\",\n",
        "\"এর\",\n",
        "\"এরা\",\n",
        "\"এঁরা\",\n",
        "\"এস\",\n",
        "\"এত\",\n",
        "\"এতে\",\n",
        "\"এসে\",\n",
        "\"একে\",\n",
        "\"এ\",\n",
        "\"ঐ\",\n",
        "\"ই\",\n",
        "\"ইহা\",\n",
        "\"ইত্যাদি\",\n",
        "\"উনি\",\n",
        "\"উপর\",\n",
        "\"উপরে\",\n",
        "\"উচিত\",\n",
        "\"ও\",\n",
        "\"ওই\",\n",
        "\"ওর\",\n",
        "\"ওরা\",\n",
        "\"ওঁর\",\n",
        "\"ওঁরা\",\n",
        "\"ওকে\",\n",
        "\"ওদের\",\n",
        "\"ওঁদের\"\n",
        "\"ওখানে\",\n",
        "\"কত\",\n",
        "\"কবে\",\n",
        "\"করতে\",\n",
        "\"কয়েক\",\n",
        "\"কয়েকটি\",\n",
        "\"করবে\",\n",
        "\"করলেন\",\n",
        "\"করার\",\n",
        "\"কারও\",\n",
        "\"করা\",\n",
        "\"করি\",\n",
        "\"করিয়ে\",\n",
        "\"করার\",\n",
        "\"করাই\",\n",
        "\"করলে\",\n",
        "\"করলেন\",\n",
        "\"করিতে\",\n",
        "\"করিয়া\",\n",
        "\"করেছিলেন\",\n",
        "\"করছে\",\n",
        "\"করছেন\",\n",
        "\"করেছেন\",\n",
        "\"করেছে\",\n",
        "\"করেন\",\n",
        "\"করবেন\",\n",
        "\"করায়\",\n",
        "\"করে\",\n",
        "\"করেই\",\n",
        "\"কাছ\",\n",
        "\"কাছে\",\n",
        "\"কাজে\",\n",
        "\"কারণ\",\n",
        "\"কিছু\",\n",
        "\"কিছুই\",\n",
        "\"কিন্তু\",\n",
        "\"কিংবা\",\n",
        "\"কি\",\n",
        "\"কী\",\n",
        "\"কেউ\",\n",
        "\"কেউই\",\n",
        "\"কাউকে\",\n",
        "\"কেন\",\n",
        "\"কে\",\n",
        "\"কোনও\",\n",
        "\"কোনো\",\n",
        "\"কোন\",\n",
        "\"কখনও\",\n",
        "\"ক্ষেত্রে\",\n",
        "\"খুব\",\t\n",
        "\"গুলি\",\n",
        "\"গিয়ে\",\n",
        "\"গিয়েছে\",\n",
        "\"গেছে\",\n",
        "\"গেল\",\n",
        "\"গেলে\",\n",
        "\"গোটা\",\n",
        "\"চলে\",\n",
        "\"ছাড়া\",\n",
        "\"ছাড়াও\",\n",
        "\"ছিলেন\",\n",
        "\"ছিল\",\n",
        "\"জন্য\",\n",
        "\"জানা\",\n",
        "\"ঠিক\",\n",
        "\"তিনি\",\n",
        "\"তিনঐ\",\n",
        "\"তিনিও\",\n",
        "\"তখন\",\n",
        "\"তবে\",\n",
        "\"তবু\",\n",
        "\"তাঁদের\",\n",
        "\"তাঁহারা\",\n",
        "\"তাঁরা\",\n",
        "\"তাঁর\",\n",
        "\"তাঁকে\",\n",
        "\"তাই\",\n",
        "\"তেমন\",\n",
        "\"তাকে\",\n",
        "\"তাহা\",\n",
        "\"তাহাতে\",\n",
        "\"তাহার\",\n",
        "\"তাদের\",\n",
        "\"তারপর\",\n",
        "\"তারা\",\n",
        "\"তারৈ\",\n",
        "\"তার\",\n",
        "\"তাহলে\",\n",
        "\"তিনি\",\n",
        "\"তা\",\n",
        "\"তাও\",\n",
        "\"তাতে\",\n",
        "\"তো\",\n",
        "\"তত\",\n",
        "\"তুমি\",\n",
        "\"তোমার\",\n",
        "\"তথা\",\n",
        "\"থাকে\",\n",
        "\"থাকা\",\n",
        "\"থাকায়\",\n",
        "\"থেকে\",\n",
        "\"থেকেও\",\n",
        "\"থাকবে\",\n",
        "\"থাকেন\",\n",
        "\"থাকবেন\",\n",
        "\"থেকেই\",\n",
        "\"দিকে\",\n",
        "\"দিতে\",\n",
        "\"দিয়ে\",\n",
        "\"দিয়েছে\",\n",
        "\"দিয়েছেন\",\n",
        "\"দিলেন\",\n",
        "\"দু\",\n",
        "\"দুটি\",\n",
        "\"দুটো\",\n",
        "\"দেয়\",\n",
        "\"দেওয়া\",\n",
        "\"দেওয়ার\",\n",
        "\"দেখা\",\n",
        "\"দেখে\",\n",
        "\"দেখতে\",\n",
        "\"দ্বারা\",\n",
        "\"ধরে\",\n",
        "\"ধরা\",\n",
        "\"নয়\",\n",
        "\"নানা\",\n",
        "\"না\",\n",
        "\"নাকি\",\n",
        "\"নাগাদ\",\n",
        "\"নিতে\",\n",
        "\"নিজে\",\n",
        "\"নিজেই\",\n",
        "\"নিজের\",\n",
        "\"নিজেদের\",\n",
        "\"নিয়ে\",\n",
        "\"নেওয়া\",\n",
        "\"নেওয়ার\",\n",
        "\"নেই\",\n",
        "\"নাই\",\n",
        "\"পক্ষে\",\n",
        "\"পর্যন্ত\",\n",
        "\"পাওয়া\",\n",
        "\"পারেন\",\n",
        "\"পারি\",\n",
        "\"পারে\",\n",
        "\"পরে\",\n",
        "\"পরেই\",\n",
        "\"পরেও\",\n",
        "\"পর\",\n",
        "\"পেয়ে\",\n",
        "\"প্রতি\",\n",
        "\"প্রভৃতি\",\n",
        "\"প্রায়\",\n",
        "\"ফের\",\n",
        "\"ফলে\",\n",
        "\"ফিরে\",\n",
        "\"ব্যবহার\",\n",
        "\"বলতে\",\n",
        "\"বললেন\",\n",
        "\"বলেছেন\",\n",
        "\"বলল\",\n",
        "\"বলা\",\n",
        "\"বলেন\",\n",
        "\"বলে\",\n",
        "\"বহু\",\n",
        "\"বসে\",\n",
        "\"বার\",\n",
        "\"বা\",\n",
        "\"বিনা\",\n",
        "\"বরং\",\n",
        "\"বদলে\",\n",
        "\"বাদে\",\n",
        "\"বার\",\n",
        "\"বিশেষ\",\n",
        "\"বিভিন্ন\tবিষয়টি\",\n",
        "\"ব্যবহার\",\n",
        "\"ব্যাপারে\",\n",
        "\"ভাবে\",\n",
        "\"ভাবেই\",\n",
        "\"মধ্যে\",\n",
        "\"মধ্যেই\",\n",
        "\"মধ্যেও\",\n",
        "\"মধ্যভাগে\",\n",
        "\"মাধ্যমে\",\n",
        "\"মাত্র\",\n",
        "\"মতো\",\n",
        "\"মতোই\",\n",
        "\"মোটেই\",\n",
        "\"যখন\",\n",
        "\"যদি\",\n",
        "\"যদিও\",\n",
        "\"যাবে\",\n",
        "\"যায়\",\n",
        "\"যাকে\",\n",
        "\"যাওয়া\",\n",
        "\"যাওয়ার\",\n",
        "\"যত\",\n",
        "\"যতটা\",\n",
        "\"যা\",\n",
        "\"যার\",\n",
        "\"যারা\",\n",
        "\"যাঁর\",\n",
        "\"যাঁরা\",\n",
        "\"যাদের\",\n",
        "\"যান\",\n",
        "\"যাচ্ছে\",\n",
        "\"যেতে\",\n",
        "\"যাতে\",\n",
        "\"যেন\",\n",
        "\"যেমন\",\n",
        "\"যেখানে\",\n",
        "\"যিনি\",\n",
        "\"যে\",\n",
        "\"রেখে\",\n",
        "\"রাখা\",\n",
        "\"রয়েছে\",\n",
        "\"রকম\",\n",
        "\"শুধু\",\n",
        "\"সঙ্গে\",\n",
        "\"সঙ্গেও\",\n",
        "\"সমস্ত\",\n",
        "\"সব\",\n",
        "\"সবার\",\n",
        "\"সহ\",\n",
        "\"সুতরাং\",\n",
        "\"সহিত\",\n",
        "\"সেই\",\n",
        "\"সেটা\",\n",
        "\"সেটি\",\n",
        "\"সেটাই\",\n",
        "\"সেটাও\",\n",
        "\"সম্প্রতি\",\n",
        "\"সেখান\",\n",
        "\"সেখানে\",\n",
        "\"সে\",\n",
        "\"স্পষ্ট\",\n",
        "\"স্বয়ং\",\n",
        "\"হইতে\",\n",
        "\"হইবে\",\n",
        "\"হৈলে\",\n",
        "\"হইয়া\",\n",
        "\"হচ্ছে\",\n",
        "\"হত\",\n",
        "\"হতে\",\n",
        "\"হতেই\",\n",
        "\"হবে\",\n",
        "\"হবেন\",\n",
        "\"হয়েছিল\",\n",
        "\"হয়েছে\",\n",
        "\"হয়েছেন\",\n",
        "\"হয়ে\",\n",
        "\"হয়নি\",\n",
        "\"হয়\",\n",
        "\"হয়েই\",\n",
        "\"হয়তো\",\n",
        "\"হল\",\n",
        "\"হলে\",\n",
        "\"হলেই\",\n",
        "\"হলেও\",\n",
        "\"হলো\",\n",
        "\"হিসাবে\",\n",
        "\"হওয়া\",\n",
        "\"হওয়ার\",\n",
        "\"হওয়ায়\",\n",
        "\"হন\",\n",
        "\"হোক\",\n",
        "\"জন\",\n",
        "\"জনকে\",\n",
        "\"জনের\",\n",
        "\"জানতে\",\n",
        "\"জানায়\",\n",
        "\"জানিয়ে\",\n",
        "\"জানানো\",\n",
        "\"জানিয়েছে\",\n",
        "\"জন্য\", \"জন্যওজে\", \"জে\", \"বেশ\", \"দেন\", \"তুলে\", \"ছিলেন\", \"চান\", \"চায়\", \"চেয়ে\", \"মোট\", \"যথেষ্ট\", \"টি\"]))\n",
        "\n",
        "count_train = count_vectorizer.fit_transform(X_train.values)\n",
        "count_test = count_vectorizer.transform(X_test.values)\n",
        "print(count_train.shape)"
      ],
      "execution_count": 13,
      "outputs": [
        {
          "output_type": "stream",
          "name": "stderr",
          "text": [
            "/usr/local/lib/python3.7/dist-packages/sklearn/feature_extraction/text.py:401: UserWarning: Your stop_words may be inconsistent with your preprocessing. Tokenizing the stop words generated tokens ['অথব', 'অন', 'অবধ', 'অবশ', 'অর', 'আগ', 'আছ', 'আদ', 'আপন', 'আব', 'আম', 'আমর', 'ইত', 'ইহ', 'উই', 'উক', 'উচ', 'উন', 'এক', 'একট', 'একব', 'এখ', 'এট', 'এতট', 'এদ', 'এব', 'এমনক', 'ওক', 'ওদ', 'ওয়', 'কট', 'কব', 'কর', 'করছ', 'করত', 'করব', 'করল', 'কয়', 'খত', 'চল', 'জনক', 'তথ', 'তব', 'তর', 'ধর', 'নঐ', 'নও', 'নত', 'পক', 'পষ', 'ফল', 'বদল', 'বর', 'বল', 'বলত', 'বস', 'বহ', 'বয়', 'মত', 'মধ', 'মন', 'যওজ', 'যতট', 'যথ', 'যদ', 'যন', 'যবহ', 'যভ', 'যম', 'রও', 'রওখ', 'রণ', 'রত', 'রপর', 'রভ', 'রয়', 'ষয়ট', 'সঙ', 'সম', 'সমস', 'হইত', 'হইব', 'হইয়', 'হওয়', 'হচ', 'হব', 'হয়ত', 'হয়ন'] not in stop_words.\n",
            "  % sorted(inconsistent)\n"
          ]
        },
        {
          "output_type": "stream",
          "name": "stdout",
          "text": [
            "(33484, 28134)\n",
            "time: 11.4 s (started: 2022-01-02 08:57:26 +00:00)\n"
          ]
        }
      ]
    },
    {
      "cell_type": "code",
      "execution_count": 13,
      "metadata": {
        "id": "1P-fXzP220Ct"
      },
      "outputs": [],
      "source": [
        ""
      ]
    },
    {
      "cell_type": "markdown",
      "source": [
        "#Trainig Model"
      ],
      "metadata": {
        "id": "citg6dki-5fI"
      }
    },
    {
      "cell_type": "markdown",
      "source": [
        "##RNN"
      ],
      "metadata": {
        "id": "-zFUEVye--Dy"
      }
    },
    {
      "cell_type": "code",
      "source": [
        "import pandas as pd \n",
        "import matplotlib.pyplot as plt \n",
        "import numpy as np \n",
        "import tensorflow as tf \n",
        "import re \n",
        "from tensorflow.keras.preprocessing.text import Tokenizer\n",
        "import tensorflow as tf\n",
        "from sklearn.metrics import accuracy_score\n",
        "from sklearn.model_selection import train_test_split\n",
        "from sklearn.metrics import accuracy_score, confusion_matrix, precision_score, recall_score\n",
        "import seaborn as sns \n",
        "plt.style.use('ggplot')"
      ],
      "metadata": {
        "colab": {
          "base_uri": "https://localhost:8080/"
        },
        "id": "mA7Wo_bgC35l",
        "outputId": "902c1b32-a8ad-4e98-8620-cbe736773861"
      },
      "execution_count": 14,
      "outputs": [
        {
          "output_type": "stream",
          "name": "stdout",
          "text": [
            "time: 2.43 s (started: 2022-01-02 08:57:42 +00:00)\n"
          ]
        }
      ]
    },
    {
      "cell_type": "code",
      "source": [
        "max_vocab = 10000\n",
        "tokenizer = Tokenizer(num_words=max_vocab)\n",
        "tokenizer.fit_on_texts(X_train)"
      ],
      "metadata": {
        "colab": {
          "base_uri": "https://localhost:8080/"
        },
        "id": "nUBxBE35-9nL",
        "outputId": "533f4db5-582a-4ae7-c9dc-241392a60170"
      },
      "execution_count": 15,
      "outputs": [
        {
          "output_type": "stream",
          "name": "stdout",
          "text": [
            "time: 16.3 s (started: 2022-01-02 08:57:45 +00:00)\n"
          ]
        }
      ]
    },
    {
      "cell_type": "code",
      "source": [
        "# tokenize the text into vectors \n",
        "X_train = tokenizer.texts_to_sequences(X_train)\n",
        "X_test = tokenizer.texts_to_sequences(X_test)"
      ],
      "metadata": {
        "colab": {
          "base_uri": "https://localhost:8080/"
        },
        "id": "0c-iWKdiBhus",
        "outputId": "d8e31141-40bb-40f0-b98f-4b9c9485e6e0"
      },
      "execution_count": 16,
      "outputs": [
        {
          "output_type": "stream",
          "name": "stdout",
          "text": [
            "time: 15.8 s (started: 2022-01-02 08:58:01 +00:00)\n"
          ]
        }
      ]
    },
    {
      "cell_type": "code",
      "source": [
        "X_train = tf.keras.preprocessing.sequence.pad_sequences(X_train, padding='post', maxlen=256)\n",
        "X_test = tf.keras.preprocessing.sequence.pad_sequences(X_test, padding='post', maxlen=256)"
      ],
      "metadata": {
        "colab": {
          "base_uri": "https://localhost:8080/"
        },
        "id": "TiMq02N9BkiZ",
        "outputId": "583a6125-304b-40d5-84f7-d2a38b2c128a"
      },
      "execution_count": 17,
      "outputs": [
        {
          "output_type": "stream",
          "name": "stdout",
          "text": [
            "time: 1.11 s (started: 2022-01-02 08:58:17 +00:00)\n"
          ]
        }
      ]
    },
    {
      "cell_type": "code",
      "source": [
        "model = tf.keras.Sequential([\n",
        "    tf.keras.layers.Embedding(max_vocab, 32),\n",
        "    tf.keras.layers.Bidirectional(tf.keras.layers.LSTM(64,  return_sequences=True)),\n",
        "    tf.keras.layers.Bidirectional(tf.keras.layers.LSTM(16)),\n",
        "    tf.keras.layers.Dense(64, activation='relu'),\n",
        "    tf.keras.layers.Dropout(0.5),\n",
        "    tf.keras.layers.Dense(1)\n",
        "])\n",
        "\n",
        "model.summary()"
      ],
      "metadata": {
        "colab": {
          "base_uri": "https://localhost:8080/"
        },
        "id": "fTYPp7FQBm-M",
        "outputId": "bc790f30-fb97-47cf-837c-d45af79abe91"
      },
      "execution_count": 18,
      "outputs": [
        {
          "output_type": "stream",
          "name": "stdout",
          "text": [
            "Model: \"sequential\"\n",
            "_________________________________________________________________\n",
            " Layer (type)                Output Shape              Param #   \n",
            "=================================================================\n",
            " embedding (Embedding)       (None, None, 32)          320000    \n",
            "                                                                 \n",
            " bidirectional (Bidirectiona  (None, None, 128)        49664     \n",
            " l)                                                              \n",
            "                                                                 \n",
            " bidirectional_1 (Bidirectio  (None, 32)               18560     \n",
            " nal)                                                            \n",
            "                                                                 \n",
            " dense (Dense)               (None, 64)                2112      \n",
            "                                                                 \n",
            " dropout (Dropout)           (None, 64)                0         \n",
            "                                                                 \n",
            " dense_1 (Dense)             (None, 1)                 65        \n",
            "                                                                 \n",
            "=================================================================\n",
            "Total params: 390,401\n",
            "Trainable params: 390,401\n",
            "Non-trainable params: 0\n",
            "_________________________________________________________________\n",
            "time: 1.74 s (started: 2022-01-02 08:58:18 +00:00)\n"
          ]
        }
      ]
    },
    {
      "cell_type": "code",
      "source": [
        "from sklearn.metrics import classification_report"
      ],
      "metadata": {
        "colab": {
          "base_uri": "https://localhost:8080/"
        },
        "id": "5aLoBzW0HA-a",
        "outputId": "d2b4bc70-f04d-4783-e38a-f84d17fb65a6"
      },
      "execution_count": 19,
      "outputs": [
        {
          "output_type": "stream",
          "name": "stdout",
          "text": [
            "time: 925 µs (started: 2022-01-02 08:58:20 +00:00)\n"
          ]
        }
      ]
    },
    {
      "cell_type": "code",
      "source": [
        "early_stop = tf.keras.callbacks.EarlyStopping(monitor='val_loss', patience=2, restore_best_weights=True)\n",
        "model.compile(loss=tf.keras.losses.BinaryCrossentropy(from_logits=True),\n",
        "              optimizer=tf.keras.optimizers.Adam(1e-4),\n",
        "              metrics=['accuracy'])\n",
        "\n",
        "history = model.fit(X_train, y_train, epochs=10,validation_split=0.1, batch_size=30, shuffle=True, callbacks=[early_stop])\n",
        "\n",
        "pred = model.predict(X_test)\n",
        "\n",
        "binary_predictions = []\n",
        "\n",
        "for i in pred:\n",
        "    if i >= 0.5:\n",
        "        binary_predictions.append(1)\n",
        "    else:\n",
        "        binary_predictions.append(0) \n",
        "\n",
        "print(classification_report(y_test, binary_predictions, target_names = ['Fake','True']))"
      ],
      "metadata": {
        "colab": {
          "base_uri": "https://localhost:8080/"
        },
        "id": "eRH7YXIIBskT",
        "outputId": "8a963d42-f0c5-48f7-f2f9-d4862bb37981"
      },
      "execution_count": 20,
      "outputs": [
        {
          "output_type": "stream",
          "name": "stdout",
          "text": [
            "Epoch 1/10\n",
            "1005/1005 [==============================] - 415s 405ms/step - loss: 0.1877 - accuracy: 0.9722 - val_loss: 0.1029 - val_accuracy: 0.9791\n",
            "Epoch 2/10\n",
            "1005/1005 [==============================] - 413s 411ms/step - loss: 0.1381 - accuracy: 0.9722 - val_loss: 0.1008 - val_accuracy: 0.9791\n",
            "Epoch 3/10\n",
            "1005/1005 [==============================] - 413s 410ms/step - loss: 0.0806 - accuracy: 0.9751 - val_loss: 0.0478 - val_accuracy: 0.9863\n",
            "Epoch 4/10\n",
            "1005/1005 [==============================] - 408s 406ms/step - loss: 0.0367 - accuracy: 0.9881 - val_loss: 0.0391 - val_accuracy: 0.9866\n",
            "Epoch 5/10\n",
            "1005/1005 [==============================] - 409s 407ms/step - loss: 0.0214 - accuracy: 0.9943 - val_loss: 0.0430 - val_accuracy: 0.9878\n",
            "Epoch 6/10\n",
            "1005/1005 [==============================] - 409s 407ms/step - loss: 0.0136 - accuracy: 0.9972 - val_loss: 0.0439 - val_accuracy: 0.9872\n",
            "              precision    recall  f1-score   support\n",
            "\n",
            "        Fake       0.99      0.99      0.99     16101\n",
            "        True       0.76      0.65      0.70       392\n",
            "\n",
            "    accuracy                           0.99     16493\n",
            "   macro avg       0.87      0.82      0.85     16493\n",
            "weighted avg       0.99      0.99      0.99     16493\n",
            "\n",
            "time: 42min 11s (started: 2022-01-02 08:58:20 +00:00)\n"
          ]
        }
      ]
    },
    {
      "cell_type": "code",
      "source": [
        "# plot ROC Curve\n",
        "\n",
        "from sklearn.metrics import roc_curve\n",
        "\n",
        "\n",
        "fpr, tpr, thresholds = roc_curve(y_test, binary_predictions)\n",
        "\n",
        "plt.figure(figsize=(6,4))\n",
        "\n",
        "plt.plot(fpr, tpr, linewidth=2)\n",
        "\n",
        "plt.plot([0,1], [0,1], 'k--' )\n",
        "\n",
        "plt.rcParams['font.size'] = 12\n",
        "\n",
        "plt.title('ROC curve for Predicting Bangla Fake News (RNN)')\n",
        "\n",
        "plt.xlabel('False Positive Rate')\n",
        "\n",
        "plt.ylabel('True Positive Rate')\n",
        "\n",
        "plt.show()"
      ],
      "metadata": {
        "colab": {
          "base_uri": "https://localhost:8080/",
          "height": 319
        },
        "id": "c5_mrWkiBwaK",
        "outputId": "17bc0e64-7fb9-4f9f-8d9d-a14e2c4033e9"
      },
      "execution_count": 21,
      "outputs": [
        {
          "output_type": "display_data",
          "data": {
            "image/png": "[encoded data removed]",
            "text/plain": [
              "<Figure size 432x288 with 1 Axes>"
            ]
          },
          "metadata": {}
        },
        {
          "output_type": "stream",
          "name": "stdout",
          "text": [
            "time: 177 ms (started: 2022-01-02 09:40:31 +00:00)\n"
          ]
        }
      ]
    },
    {
      "cell_type": "code",
      "source": [
        "# compute ROC AUC\n",
        "\n",
        "from sklearn.metrics import roc_auc_score\n",
        "\n",
        "ROC_AUC = roc_auc_score(y_test, binary_predictions)\n",
        "\n",
        "print('ROC AUC : {:.4f}'.format(ROC_AUC))"
      ],
      "metadata": {
        "colab": {
          "base_uri": "https://localhost:8080/"
        },
        "id": "bfoCFBj8CTB6",
        "outputId": "81740019-63fe-4a8d-e388-c785c992ff84"
      },
      "execution_count": 22,
      "outputs": [
        {
          "output_type": "stream",
          "name": "stdout",
          "text": [
            "ROC AUC : 0.8214\n",
            "time: 14.3 ms (started: 2022-01-02 09:40:31 +00:00)\n"
          ]
        }
      ]
    },
    {
      "cell_type": "code",
      "source": [
        "# Print the Confusion Matrix and slice it into four pieces\n",
        "\n",
        "from sklearn.metrics import confusion_matrix\n",
        "\n",
        "cm = confusion_matrix(y_test, binary_predictions)\n",
        "\n",
        "print('Confusion matrix\\n\\n', cm)\n",
        "\n",
        "print('\\nTrue Positives(TP) = ', cm[0,0])\n",
        "\n",
        "print('\\nTrue Negatives(TN) = ', cm[1,1])\n",
        "\n",
        "print('\\nFalse Positives(FP) = ', cm[0,1])\n",
        "\n",
        "print('\\nFalse Negatives(FN) = ', cm[1,0])"
      ],
      "metadata": {
        "colab": {
          "base_uri": "https://localhost:8080/"
        },
        "id": "K7htgPPUCb3b",
        "outputId": "3bce72bb-b668-4a45-95f9-735d5e0a98e7"
      },
      "execution_count": 23,
      "outputs": [
        {
          "output_type": "stream",
          "name": "stdout",
          "text": [
            "Confusion matrix\n",
            "\n",
            " [[16019    82]\n",
            " [  138   254]]\n",
            "\n",
            "True Positives(TP) =  16019\n",
            "\n",
            "True Negatives(TN) =  254\n",
            "\n",
            "False Positives(FP) =  82\n",
            "\n",
            "False Negatives(FN) =  138\n",
            "time: 19.3 ms (started: 2022-01-02 09:40:31 +00:00)\n"
          ]
        }
      ]
    },
    {
      "cell_type": "code",
      "source": [
        "# visualize confusion matrix with seaborn heatmap\n",
        "\n",
        "cm_matrix = pd.DataFrame(data=cm, columns=['Actual Positive:1', 'Actual Negative:0'], \n",
        "                                 index=['Predict Positive:1', 'Predict Negative:0'])\n",
        "\n",
        "sns.heatmap(cm_matrix, annot=True, fmt='d', cmap='YlGnBu')"
      ],
      "metadata": {
        "colab": {
          "base_uri": "https://localhost:8080/",
          "height": 308
        },
        "id": "Tp6GrQV7Cuwp",
        "outputId": "1d88cc75-8694-442b-81fe-9b4c54b35911"
      },
      "execution_count": 24,
      "outputs": [
        {
          "output_type": "execute_result",
          "data": {
            "text/plain": [
              "<matplotlib.axes._subplots.AxesSubplot at 0x7fe29c3fe490>"
            ]
          },
          "metadata": {},
          "execution_count": 24
        },
        {
          "output_type": "display_data",
          "data": {
            "image/png": "[encoded data removed]",
            "text/plain": [
              "<Figure size 432x288 with 2 Axes>"
            ]
          },
          "metadata": {}
        },
        {
          "output_type": "stream",
          "name": "stdout",
          "text": [
            "time: 271 ms (started: 2022-01-02 09:40:31 +00:00)\n"
          ]
        }
      ]
    },
    {
      "cell_type": "markdown",
      "source": [
        "##Naive Bayes"
      ],
      "metadata": {
        "id": "ZQoyPWfaTwNr"
      }
    },
    {
      "cell_type": "code",
      "source": [
        "from sklearn.naive_bayes import MultinomialNB\n",
        "from sklearn import metrics\n",
        "classifier=MultinomialNB()\n",
        "\n",
        "classifier.fit(X_train, y_train)\n",
        "pred = classifier.predict(X_test)\n",
        "\n",
        "score = metrics.accuracy_score(y_test, pred)\n",
        "\n",
        "print(classification_report(y_test, pred, target_names = ['Fake','True']))"
      ],
      "metadata": {
        "colab": {
          "base_uri": "https://localhost:8080/"
        },
        "id": "FD7Gx372SvEW",
        "outputId": "cca18440-8b9c-4908-8ef9-761c5f438559"
      },
      "execution_count": 25,
      "outputs": [
        {
          "output_type": "stream",
          "name": "stdout",
          "text": [
            "              precision    recall  f1-score   support\n",
            "\n",
            "        Fake       0.99      0.34      0.51     16101\n",
            "        True       0.03      0.79      0.05       392\n",
            "\n",
            "    accuracy                           0.35     16493\n",
            "   macro avg       0.51      0.57      0.28     16493\n",
            "weighted avg       0.96      0.35      0.50     16493\n",
            "\n",
            "time: 312 ms (started: 2022-01-02 09:40:31 +00:00)\n"
          ]
        }
      ]
    },
    {
      "cell_type": "code",
      "source": [
        "# plot ROC Curve\n",
        "\n",
        "from sklearn.metrics import roc_curve\n",
        "\n",
        "\n",
        "fpr, tpr, thresholds = roc_curve(y_test, pred)\n",
        "\n",
        "plt.figure(figsize=(6,4))\n",
        "\n",
        "plt.plot(fpr, tpr, linewidth=2)\n",
        "\n",
        "plt.plot([0,1], [0,1], 'k--' )\n",
        "\n",
        "plt.rcParams['font.size'] = 12\n",
        "\n",
        "plt.title('ROC curve for Predicting Bangla Fake News (RNN)')\n",
        "\n",
        "plt.xlabel('False Positive Rate')\n",
        "\n",
        "plt.ylabel('True Positive Rate')\n",
        "\n",
        "plt.show()"
      ],
      "metadata": {
        "colab": {
          "base_uri": "https://localhost:8080/",
          "height": 323
        },
        "id": "oyJ59n43UPad",
        "outputId": "79da7387-8278-4b6d-c9a3-6c5a131df581"
      },
      "execution_count": 26,
      "outputs": [
        {
          "output_type": "display_data",
          "data": {
            "image/png": "[encoded data removed]",
            "text/plain": [
              "<Figure size 432x288 with 1 Axes>"
            ]
          },
          "metadata": {}
        },
        {
          "output_type": "stream",
          "name": "stdout",
          "text": [
            "time: 195 ms (started: 2022-01-02 09:40:32 +00:00)\n"
          ]
        }
      ]
    },
    {
      "cell_type": "code",
      "source": [
        "# Print the Confusion Matrix and slice it into four pieces\n",
        "\n",
        "from sklearn.metrics import confusion_matrix\n",
        "\n",
        "cm = confusion_matrix(y_test, pred)\n",
        "\n",
        "print('Confusion matrix\\n\\n', cm)\n",
        "\n",
        "print('\\nTrue Positives(TP) = ', cm[0,0])\n",
        "\n",
        "print('\\nTrue Negatives(TN) = ', cm[1,1])\n",
        "\n",
        "print('\\nFalse Positives(FP) = ', cm[0,1])\n",
        "\n",
        "print('\\nFalse Negatives(FN) = ', cm[1,0])"
      ],
      "metadata": {
        "colab": {
          "base_uri": "https://localhost:8080/"
        },
        "id": "Dy2QcLV_UZwx",
        "outputId": "74bdc8d1-ffb2-45cf-e080-31bc039eb735"
      },
      "execution_count": 27,
      "outputs": [
        {
          "output_type": "stream",
          "name": "stdout",
          "text": [
            "Confusion matrix\n",
            "\n",
            " [[ 5516 10585]\n",
            " [   82   310]]\n",
            "\n",
            "True Positives(TP) =  5516\n",
            "\n",
            "True Negatives(TN) =  310\n",
            "\n",
            "False Positives(FP) =  10585\n",
            "\n",
            "False Negatives(FN) =  82\n",
            "time: 18.8 ms (started: 2022-01-02 09:40:32 +00:00)\n"
          ]
        }
      ]
    },
    {
      "cell_type": "code",
      "source": [
        "# visualize confusion matrix with seaborn heatmap\n",
        "\n",
        "cm_matrix = pd.DataFrame(data=cm, columns=['Actual Positive:1', 'Actual Negative:0'], \n",
        "                                 index=['Predict Positive:1', 'Predict Negative:0'])\n",
        "\n",
        "sns.heatmap(cm_matrix, annot=True, fmt='d', cmap='YlGnBu')"
      ],
      "metadata": {
        "colab": {
          "base_uri": "https://localhost:8080/",
          "height": 303
        },
        "id": "n6bsQQVTUtDO",
        "outputId": "c99b6dc7-5b84-4e6c-db70-c8f93a3c3c3c"
      },
      "execution_count": 28,
      "outputs": [
        {
          "output_type": "execute_result",
          "data": {
            "text/plain": [
              "<matplotlib.axes._subplots.AxesSubplot at 0x7fe29c25bc90>"
            ]
          },
          "metadata": {},
          "execution_count": 28
        },
        {
          "output_type": "display_data",
          "data": {
            "image/png": "[encoded data removed]",
            "text/plain": [
              "<Figure size 432x288 with 2 Axes>"
            ]
          },
          "metadata": {}
        },
        {
          "output_type": "stream",
          "name": "stdout",
          "text": [
            "time: 250 ms (started: 2022-01-02 09:40:32 +00:00)\n"
          ]
        }
      ]
    },
    {
      "cell_type": "markdown",
      "metadata": {
        "id": "54wjDMUDfxAz"
      },
      "source": [
        "##SVM (Linear)"
      ]
    },
    {
      "cell_type": "code",
      "metadata": {
        "id": "-JdlSUEl8ACA",
        "colab": {
          "base_uri": "https://localhost:8080/"
        },
        "outputId": "1b501591-a333-40fb-e53d-f88737b46b46"
      },
      "source": [
        "from sklearn.svm import SVC\n",
        "from sklearn.metrics import classification_report"
      ],
      "execution_count": 29,
      "outputs": [
        {
          "output_type": "stream",
          "name": "stdout",
          "text": [
            "time: 2.1 ms (started: 2022-01-02 09:40:32 +00:00)\n"
          ]
        }
      ]
    },
    {
      "cell_type": "code",
      "metadata": {
        "colab": {
          "base_uri": "https://localhost:8080/"
        },
        "id": "bBPR_JGff1Ql",
        "outputId": "fe75ec96-e717-4280-9254-5630d1b05135"
      },
      "source": [
        "\n",
        "svc_model1 = SVC(C=1, kernel='linear', gamma= 1)\n",
        "svc_model1.fit(count_train, y_train)\n",
        "\n",
        "prediction1 = svc_model1.predict(count_test)\n",
        "\n",
        "print(classification_report(y_test, prediction1, target_names = ['Fake','True']))\n"
      ],
      "execution_count": 30,
      "outputs": [
        {
          "output_type": "stream",
          "name": "stdout",
          "text": [
            "              precision    recall  f1-score   support\n",
            "\n",
            "        Fake       0.99      0.99      0.99     16101\n",
            "        True       0.63      0.63      0.63       392\n",
            "\n",
            "    accuracy                           0.98     16493\n",
            "   macro avg       0.81      0.81      0.81     16493\n",
            "weighted avg       0.98      0.98      0.98     16493\n",
            "\n",
            "time: 3min 39s (started: 2022-01-02 09:40:32 +00:00)\n"
          ]
        }
      ]
    },
    {
      "cell_type": "code",
      "metadata": {
        "id": "VYvOnx5CprS_",
        "colab": {
          "base_uri": "https://localhost:8080/",
          "height": 323
        },
        "outputId": "b6e2a263-55e3-4968-c862-1e27cdb612b3"
      },
      "source": [
        "# plot ROC Curve\n",
        "\n",
        "from sklearn.metrics import roc_curve\n",
        "\n",
        "fpr, tpr, thresholds = roc_curve(y_test, prediction1)\n",
        "\n",
        "plt.figure(figsize=(6,4))\n",
        "\n",
        "plt.plot(fpr, tpr, linewidth=2)\n",
        "\n",
        "plt.plot([0,1], [0,1], 'k--' )\n",
        "\n",
        "plt.rcParams['font.size'] = 12\n",
        "\n",
        "plt.title('ROC curve for Predicting Bangla Fake News (SVM Linear Kernel)')\n",
        "\n",
        "plt.xlabel('False Positive Rate')\n",
        "\n",
        "plt.ylabel('True Positive Rate')\n",
        "\n",
        "plt.show()"
      ],
      "execution_count": 31,
      "outputs": [
        {
          "output_type": "display_data",
          "data": {
            "image/png": "[encoded data removed]",
            "text/plain": [
              "<Figure size 432x288 with 1 Axes>"
            ]
          },
          "metadata": {}
        },
        {
          "output_type": "stream",
          "name": "stdout",
          "text": [
            "time: 183 ms (started: 2022-01-02 09:44:11 +00:00)\n"
          ]
        }
      ]
    },
    {
      "cell_type": "code",
      "metadata": {
        "id": "Z2-HKvYGzCT1",
        "colab": {
          "base_uri": "https://localhost:8080/"
        },
        "outputId": "19e855d3-0fa6-4ad1-c4d4-a94ae6694c30"
      },
      "source": [
        "# compute ROC AUC\n",
        "\n",
        "from sklearn.metrics import roc_auc_score\n",
        "\n",
        "ROC_AUC = roc_auc_score(y_test, prediction1)\n",
        "\n",
        "print('ROC AUC : {:.4f}'.format(ROC_AUC))"
      ],
      "execution_count": 32,
      "outputs": [
        {
          "output_type": "stream",
          "name": "stdout",
          "text": [
            "ROC AUC : 0.8105\n",
            "time: 9.86 ms (started: 2022-01-02 09:44:12 +00:00)\n"
          ]
        }
      ]
    },
    {
      "cell_type": "code",
      "metadata": {
        "id": "7I_s-3Buq_3v",
        "colab": {
          "base_uri": "https://localhost:8080/"
        },
        "outputId": "a1f6c3d3-8c6f-4cf8-a972-71ba6b0175e5"
      },
      "source": [
        "# Print the Confusion Matrix and slice it into four pieces\n",
        "\n",
        "from sklearn.metrics import confusion_matrix\n",
        "\n",
        "cm = confusion_matrix(y_test, prediction1)\n",
        "\n",
        "print('Confusion matrix\\n\\n', cm)\n",
        "\n",
        "print('\\nTrue Positives(TP) = ', cm[0,0])\n",
        "\n",
        "print('\\nTrue Negatives(TN) = ', cm[1,1])\n",
        "\n",
        "print('\\nFalse Positives(FP) = ', cm[0,1])\n",
        "\n",
        "print('\\nFalse Negatives(FN) = ', cm[1,0])"
      ],
      "execution_count": 33,
      "outputs": [
        {
          "output_type": "stream",
          "name": "stdout",
          "text": [
            "Confusion matrix\n",
            "\n",
            " [[15955   146]\n",
            " [  145   247]]\n",
            "\n",
            "True Positives(TP) =  15955\n",
            "\n",
            "True Negatives(TN) =  247\n",
            "\n",
            "False Positives(FP) =  146\n",
            "\n",
            "False Negatives(FN) =  145\n",
            "time: 18.8 ms (started: 2022-01-02 09:44:12 +00:00)\n"
          ]
        }
      ]
    },
    {
      "cell_type": "code",
      "metadata": {
        "id": "SQ52ep5JrBUa",
        "colab": {
          "base_uri": "https://localhost:8080/",
          "height": 303
        },
        "outputId": "126b9434-b4c9-4762-8986-cf1a01a58824"
      },
      "source": [
        "# visualize confusion matrix with seaborn heatmap\n",
        "\n",
        "cm_matrix = pd.DataFrame(data=cm, columns=['Actual Positive:1', 'Actual Negative:0'], \n",
        "                                 index=['Predict Positive:1', 'Predict Negative:0'])\n",
        "\n",
        "sns.heatmap(cm_matrix, annot=True, fmt='d', cmap='YlGnBu')"
      ],
      "execution_count": 34,
      "outputs": [
        {
          "output_type": "execute_result",
          "data": {
            "text/plain": [
              "<matplotlib.axes._subplots.AxesSubplot at 0x7fe29c192e10>"
            ]
          },
          "metadata": {},
          "execution_count": 34
        },
        {
          "output_type": "display_data",
          "data": {
            "image/png": "[encoded data removed]",
            "text/plain": [
              "<Figure size 432x288 with 2 Axes>"
            ]
          },
          "metadata": {}
        },
        {
          "output_type": "stream",
          "name": "stdout",
          "text": [
            "time: 262 ms (started: 2022-01-02 09:44:12 +00:00)\n"
          ]
        }
      ]
    },
    {
      "cell_type": "markdown",
      "source": [
        "##SVM (Polynomial)"
      ],
      "metadata": {
        "id": "5LTMd8HIVNW5"
      }
    },
    {
      "cell_type": "code",
      "metadata": {
        "id": "6h_kadEH74jo",
        "colab": {
          "base_uri": "https://localhost:8080/"
        },
        "outputId": "83fa8f2a-92f9-4f9c-b3b4-f73fa63c6aa7"
      },
      "source": [
        "svc_model1 = SVC(C=1, kernel='poly', gamma= 1)\n",
        "svc_model1.fit(count_train, y_train)\n",
        "\n",
        "prediction2 = svc_model1.predict(count_test)\n",
        "\n",
        "print(classification_report(y_test, prediction2, target_names = ['Fake','True']))"
      ],
      "execution_count": 35,
      "outputs": [
        {
          "output_type": "stream",
          "name": "stdout",
          "text": [
            "              precision    recall  f1-score   support\n",
            "\n",
            "        Fake       0.99      0.98      0.98     16101\n",
            "        True       0.39      0.46      0.42       392\n",
            "\n",
            "    accuracy                           0.97     16493\n",
            "   macro avg       0.69      0.72      0.70     16493\n",
            "weighted avg       0.97      0.97      0.97     16493\n",
            "\n",
            "time: 11min 58s (started: 2022-01-02 09:44:12 +00:00)\n"
          ]
        }
      ]
    },
    {
      "cell_type": "code",
      "metadata": {
        "id": "uaImSO8EzUVl",
        "colab": {
          "base_uri": "https://localhost:8080/",
          "height": 323
        },
        "outputId": "39b8e5de-63ef-4fae-c7af-fe4a9e03b1fa"
      },
      "source": [
        "# plot ROC Curve\n",
        "\n",
        "from sklearn.metrics import roc_curve\n",
        "\n",
        "fpr, tpr, thresholds = roc_curve(y_test, prediction2)\n",
        "\n",
        "plt.figure(figsize=(6,4))\n",
        "\n",
        "plt.plot(fpr, tpr, linewidth=2)\n",
        "\n",
        "plt.plot([0,1], [0,1], 'k--' )\n",
        "\n",
        "plt.rcParams['font.size'] = 12\n",
        "\n",
        "plt.title('ROC curve for Predicting Bangla Fake News (SVM Polynomial Kernel)')\n",
        "\n",
        "plt.xlabel('False Positive Rate')\n",
        "\n",
        "plt.ylabel('True Positive Rate')\n",
        "\n",
        "plt.show()"
      ],
      "execution_count": 36,
      "outputs": [
        {
          "output_type": "display_data",
          "data": {
            "image/png": "[encoded data removed]",
            "text/plain": [
              "<Figure size 432x288 with 1 Axes>"
            ]
          },
          "metadata": {}
        },
        {
          "output_type": "stream",
          "name": "stdout",
          "text": [
            "time: 191 ms (started: 2022-01-02 09:56:11 +00:00)\n"
          ]
        }
      ]
    },
    {
      "cell_type": "code",
      "metadata": {
        "id": "B8f6rvVqza7b",
        "colab": {
          "base_uri": "https://localhost:8080/"
        },
        "outputId": "88146815-4a34-4cc9-ac45-f3911f6b7248"
      },
      "source": [
        "# compute ROC AUC\n",
        "\n",
        "from sklearn.metrics import roc_auc_score\n",
        "\n",
        "ROC_AUC = roc_auc_score(y_test, prediction2)\n",
        "\n",
        "print('ROC AUC : {:.4f}'.format(ROC_AUC))"
      ],
      "execution_count": 37,
      "outputs": [
        {
          "output_type": "stream",
          "name": "stdout",
          "text": [
            "ROC AUC : 0.7221\n",
            "time: 13.2 ms (started: 2022-01-02 09:56:11 +00:00)\n"
          ]
        }
      ]
    },
    {
      "cell_type": "code",
      "metadata": {
        "id": "9uI2SbKMzfzG",
        "colab": {
          "base_uri": "https://localhost:8080/"
        },
        "outputId": "06595270-211a-4fba-f2fc-316a901e0698"
      },
      "source": [
        "# Print the Confusion Matrix and slice it into four pieces\n",
        "\n",
        "from sklearn.metrics import confusion_matrix\n",
        "\n",
        "cm = confusion_matrix(y_test, prediction2)\n",
        "\n",
        "print('Confusion matrix\\n\\n', cm)\n",
        "\n",
        "print('\\nTrue Positives(TP) = ', cm[0,0])\n",
        "\n",
        "print('\\nTrue Negatives(TN) = ', cm[1,1])\n",
        "\n",
        "print('\\nFalse Positives(FP) = ', cm[0,1])\n",
        "\n",
        "print('\\nFalse Negatives(FN) = ', cm[1,0])"
      ],
      "execution_count": 38,
      "outputs": [
        {
          "output_type": "stream",
          "name": "stdout",
          "text": [
            "Confusion matrix\n",
            "\n",
            " [[15820   281]\n",
            " [  211   181]]\n",
            "\n",
            "True Positives(TP) =  15820\n",
            "\n",
            "True Negatives(TN) =  181\n",
            "\n",
            "False Positives(FP) =  281\n",
            "\n",
            "False Negatives(FN) =  211\n",
            "time: 14.9 ms (started: 2022-01-02 09:56:11 +00:00)\n"
          ]
        }
      ]
    },
    {
      "cell_type": "code",
      "metadata": {
        "id": "TLca3uDazmJM",
        "colab": {
          "base_uri": "https://localhost:8080/",
          "height": 303
        },
        "outputId": "29edc8b5-e56d-4409-9f71-9c1758102023"
      },
      "source": [
        "# visualize confusion matrix with seaborn heatmap\n",
        "\n",
        "cm_matrix = pd.DataFrame(data=cm, columns=['Actual Positive:1', 'Actual Negative:0'], \n",
        "                                 index=['Predict Positive:1', 'Predict Negative:0'])\n",
        "\n",
        "sns.heatmap(cm_matrix, annot=True, fmt='d', cmap='YlGnBu')"
      ],
      "execution_count": 39,
      "outputs": [
        {
          "output_type": "execute_result",
          "data": {
            "text/plain": [
              "<matplotlib.axes._subplots.AxesSubplot at 0x7fe29c02c110>"
            ]
          },
          "metadata": {},
          "execution_count": 39
        },
        {
          "output_type": "display_data",
          "data": {
            "image/png": "[encoded data removed]",
            "text/plain": [
              "<Figure size 432x288 with 2 Axes>"
            ]
          },
          "metadata": {}
        },
        {
          "output_type": "stream",
          "name": "stdout",
          "text": [
            "time: 262 ms (started: 2022-01-02 09:56:11 +00:00)\n"
          ]
        }
      ]
    },
    {
      "cell_type": "markdown",
      "source": [
        "##SVM (RBF)"
      ],
      "metadata": {
        "id": "GIg9SzwhVhSr"
      }
    },
    {
      "cell_type": "code",
      "metadata": {
        "id": "tQVoR5Lb3biv",
        "colab": {
          "base_uri": "https://localhost:8080/"
        },
        "outputId": "cca22099-018a-4fc9-9570-c864722c5423"
      },
      "source": [
        "svc_model1 = SVC(C=1, kernel='rbf', gamma= 1)\n",
        "svc_model1.fit(count_train, y_train)\n",
        "\n",
        "prediction3 = svc_model1.predict(count_test)\n",
        "\n",
        "print(classification_report(y_test, prediction3, target_names = ['Fake','True']))"
      ],
      "execution_count": 40,
      "outputs": [
        {
          "output_type": "stream",
          "name": "stdout",
          "text": [
            "              precision    recall  f1-score   support\n",
            "\n",
            "        Fake       0.98      1.00      0.99     16101\n",
            "        True       1.00      0.02      0.04       392\n",
            "\n",
            "    accuracy                           0.98     16493\n",
            "   macro avg       0.99      0.51      0.52     16493\n",
            "weighted avg       0.98      0.98      0.97     16493\n",
            "\n",
            "time: 1h 21min 49s (started: 2022-01-02 09:56:11 +00:00)\n"
          ]
        }
      ]
    },
    {
      "cell_type": "code",
      "metadata": {
        "id": "SIEDYjyx2zdi",
        "colab": {
          "base_uri": "https://localhost:8080/",
          "height": 323
        },
        "outputId": "dfc8bc20-d6bd-485c-b982-090579b35d4c"
      },
      "source": [
        "# plot ROC Curve\n",
        "\n",
        "from sklearn.metrics import roc_curve\n",
        "\n",
        "fpr, tpr, thresholds = roc_curve(y_test, prediction3)\n",
        "\n",
        "plt.figure(figsize=(6,4))\n",
        "\n",
        "plt.plot(fpr, tpr, linewidth=2)\n",
        "\n",
        "plt.plot([0,1], [0,1], 'k--' )\n",
        "\n",
        "plt.rcParams['font.size'] = 12\n",
        "\n",
        "plt.title('ROC curve for Predicting Bangla Fake News (SVM RBF Kernel)')\n",
        "\n",
        "plt.xlabel('False Positive Rate')\n",
        "\n",
        "plt.ylabel('True Positive Rate')\n",
        "\n",
        "plt.show()"
      ],
      "execution_count": 41,
      "outputs": [
        {
          "output_type": "display_data",
          "data": {
            "image/png": "[encoded data removed]",
            "text/plain": [
              "<Figure size 432x288 with 1 Axes>"
            ]
          },
          "metadata": {}
        },
        {
          "output_type": "stream",
          "name": "stdout",
          "text": [
            "time: 185 ms (started: 2022-01-02 11:18:01 +00:00)\n"
          ]
        }
      ]
    },
    {
      "cell_type": "code",
      "metadata": {
        "id": "Dd6PogmN2000",
        "colab": {
          "base_uri": "https://localhost:8080/"
        },
        "outputId": "0567ab6b-837b-444d-ee19-aff74f64dc98"
      },
      "source": [
        "# compute ROC AUC\n",
        "\n",
        "from sklearn.metrics import roc_auc_score\n",
        "\n",
        "ROC_AUC = roc_auc_score(y_test, prediction3)\n",
        "\n",
        "print('ROC AUC : {:.4f}'.format(ROC_AUC))"
      ],
      "execution_count": 42,
      "outputs": [
        {
          "output_type": "stream",
          "name": "stdout",
          "text": [
            "ROC AUC : 0.5115\n",
            "time: 10.5 ms (started: 2022-01-02 11:18:01 +00:00)\n"
          ]
        }
      ]
    },
    {
      "cell_type": "code",
      "metadata": {
        "id": "TyClOgfwKW8f",
        "colab": {
          "base_uri": "https://localhost:8080/"
        },
        "outputId": "57f50346-73fa-4c1b-99d2-1948c858f564"
      },
      "source": [
        "# Print the Confusion Matrix and slice it into four pieces\n",
        "\n",
        "from sklearn.metrics import confusion_matrix\n",
        "\n",
        "cm = confusion_matrix(y_test, prediction3)\n",
        "\n",
        "print('Confusion matrix\\n\\n', cm)\n",
        "\n",
        "print('\\nTrue Positives(TP) = ', cm[0,0])\n",
        "\n",
        "print('\\nTrue Negatives(TN) = ', cm[1,1])\n",
        "\n",
        "print('\\nFalse Positives(FP) = ', cm[0,1])\n",
        "\n",
        "print('\\nFalse Negatives(FN) = ', cm[1,0])"
      ],
      "execution_count": 43,
      "outputs": [
        {
          "output_type": "stream",
          "name": "stdout",
          "text": [
            "Confusion matrix\n",
            "\n",
            " [[16101     0]\n",
            " [  383     9]]\n",
            "\n",
            "True Positives(TP) =  16101\n",
            "\n",
            "True Negatives(TN) =  9\n",
            "\n",
            "False Positives(FP) =  0\n",
            "\n",
            "False Negatives(FN) =  383\n",
            "time: 15.4 ms (started: 2022-01-02 11:18:01 +00:00)\n"
          ]
        }
      ]
    },
    {
      "cell_type": "code",
      "metadata": {
        "id": "5BaNsV1I29OX",
        "colab": {
          "base_uri": "https://localhost:8080/",
          "height": 307
        },
        "outputId": "fb1c7fd0-10a2-4ff5-fa4b-28c28fd4baec"
      },
      "source": [
        "# visualize confusion matrix with seaborn heatmap\n",
        "\n",
        "cm_matrix = pd.DataFrame(data=cm, columns=['Actual Positive:1', 'Actual Negative:0'], \n",
        "                                 index=['Predict Positive:1', 'Predict Negative:0'])\n",
        "\n",
        "sns.heatmap(cm_matrix, annot=True, fmt='d', cmap='YlGnBu')"
      ],
      "execution_count": 44,
      "outputs": [
        {
          "output_type": "execute_result",
          "data": {
            "text/plain": [
              "<matplotlib.axes._subplots.AxesSubplot at 0x7fe2998aa990>"
            ]
          },
          "metadata": {},
          "execution_count": 44
        },
        {
          "output_type": "display_data",
          "data": {
            "image/png": "[encoded data removed]",
            "text/plain": [
              "<Figure size 432x288 with 2 Axes>"
            ]
          },
          "metadata": {}
        },
        {
          "output_type": "stream",
          "name": "stdout",
          "text": [
            "time: 273 ms (started: 2022-01-02 11:18:01 +00:00)\n"
          ]
        }
      ]
    },
    {
      "cell_type": "markdown",
      "source": [
        "##SVM (Sigmoid)"
      ],
      "metadata": {
        "id": "Nl-_nd7QV1Ua"
      }
    },
    {
      "cell_type": "code",
      "metadata": {
        "id": "_thb5WsE3ca0",
        "colab": {
          "base_uri": "https://localhost:8080/"
        },
        "outputId": "de763e80-e8c3-43ad-bb1d-7e5315b3cec9"
      },
      "source": [
        "svc_model1 = SVC(C=1, kernel='sigmoid', gamma= 1)\n",
        "svc_model1.fit(count_train, y_train)\n",
        "\n",
        "prediction4 = svc_model1.predict(count_test)\n",
        "\n",
        "print(classification_report(y_test, prediction4, target_names = ['Fake','True']))"
      ],
      "execution_count": 45,
      "outputs": [
        {
          "output_type": "stream",
          "name": "stdout",
          "text": [
            "              precision    recall  f1-score   support\n",
            "\n",
            "        Fake       0.98      0.98      0.98     16101\n",
            "        True       0.09      0.10      0.09       392\n",
            "\n",
            "    accuracy                           0.96     16493\n",
            "   macro avg       0.53      0.54      0.54     16493\n",
            "weighted avg       0.96      0.96      0.96     16493\n",
            "\n",
            "time: 1min 3s (started: 2022-01-02 11:18:02 +00:00)\n"
          ]
        }
      ]
    },
    {
      "cell_type": "code",
      "metadata": {
        "id": "GlYEV3lYJuRK",
        "colab": {
          "base_uri": "https://localhost:8080/",
          "height": 323
        },
        "outputId": "09ff4b16-932c-474d-89cd-bc102f1840db"
      },
      "source": [
        "# plot ROC Curve\n",
        "\n",
        "from sklearn.metrics import roc_curve\n",
        "\n",
        "fpr, tpr, thresholds = roc_curve(y_test, prediction4)\n",
        "\n",
        "plt.figure(figsize=(6,4))\n",
        "\n",
        "plt.plot(fpr, tpr, linewidth=2)\n",
        "\n",
        "plt.plot([0,1], [0,1], 'k--' )\n",
        "\n",
        "plt.rcParams['font.size'] = 12\n",
        "\n",
        "plt.title('ROC curve for Predicting Bangla Fake News (SVM Sigmoid Kernel)')\n",
        "\n",
        "plt.xlabel('False Positive Rate')\n",
        "\n",
        "plt.ylabel('True Positive Rate')\n",
        "\n",
        "plt.show()"
      ],
      "execution_count": 46,
      "outputs": [
        {
          "output_type": "display_data",
          "data": {
            "image/png": "[encoded data removed]",
            "text/plain": [
              "<Figure size 432x288 with 1 Axes>"
            ]
          },
          "metadata": {}
        },
        {
          "output_type": "stream",
          "name": "stdout",
          "text": [
            "time: 186 ms (started: 2022-01-02 11:19:05 +00:00)\n"
          ]
        }
      ]
    },
    {
      "cell_type": "code",
      "metadata": {
        "id": "SR2tGEQtJwZA",
        "colab": {
          "base_uri": "https://localhost:8080/"
        },
        "outputId": "12d5a7f4-9b0c-4d76-9bd7-0d2f6e89b77e"
      },
      "source": [
        "# compute ROC AUC\n",
        "\n",
        "from sklearn.metrics import roc_auc_score\n",
        "\n",
        "ROC_AUC = roc_auc_score(y_test, prediction4)\n",
        "\n",
        "print('ROC AUC : {:.4f}'.format(ROC_AUC))"
      ],
      "execution_count": 47,
      "outputs": [
        {
          "output_type": "stream",
          "name": "stdout",
          "text": [
            "ROC AUC : 0.5365\n",
            "time: 11.3 ms (started: 2022-01-02 11:19:05 +00:00)\n"
          ]
        }
      ]
    },
    {
      "cell_type": "code",
      "metadata": {
        "id": "1IxY_HcRKshR",
        "colab": {
          "base_uri": "https://localhost:8080/"
        },
        "outputId": "7a1e3dea-57a4-4345-ccab-e4de339cddcb"
      },
      "source": [
        "# Print the Confusion Matrix and slice it into four pieces\n",
        "\n",
        "from sklearn.metrics import confusion_matrix\n",
        "\n",
        "cm = confusion_matrix(y_test, prediction4)\n",
        "\n",
        "print('Confusion matrix\\n\\n', cm)\n",
        "\n",
        "print('\\nTrue Positives(TP) = ', cm[0,0])\n",
        "\n",
        "print('\\nTrue Negatives(TN) = ', cm[1,1])\n",
        "\n",
        "print('\\nFalse Positives(FP) = ', cm[0,1])\n",
        "\n",
        "print('\\nFalse Negatives(FN) = ', cm[1,0])"
      ],
      "execution_count": 48,
      "outputs": [
        {
          "output_type": "stream",
          "name": "stdout",
          "text": [
            "Confusion matrix\n",
            "\n",
            " [[15716   385]\n",
            " [  354    38]]\n",
            "\n",
            "True Positives(TP) =  15716\n",
            "\n",
            "True Negatives(TN) =  38\n",
            "\n",
            "False Positives(FP) =  385\n",
            "\n",
            "False Negatives(FN) =  354\n",
            "time: 23.2 ms (started: 2022-01-02 11:19:05 +00:00)\n"
          ]
        }
      ]
    },
    {
      "cell_type": "code",
      "metadata": {
        "id": "UIwkzNqSJy8T",
        "colab": {
          "base_uri": "https://localhost:8080/",
          "height": 303
        },
        "outputId": "49209d56-10be-4d76-ee6f-e948aa84d31b"
      },
      "source": [
        "# visualize confusion matrix with seaborn heatmap\n",
        "\n",
        "cm_matrix = pd.DataFrame(data=cm, columns=['Actual Positive:1', 'Actual Negative:0'], \n",
        "                                 index=['Predict Positive:1', 'Predict Negative:0'])\n",
        "\n",
        "sns.heatmap(cm_matrix, annot=True, fmt='d', cmap='YlGnBu')"
      ],
      "execution_count": 49,
      "outputs": [
        {
          "output_type": "execute_result",
          "data": {
            "text/plain": [
              "<matplotlib.axes._subplots.AxesSubplot at 0x7fe299784a50>"
            ]
          },
          "metadata": {},
          "execution_count": 49
        },
        {
          "output_type": "display_data",
          "data": {
            "image/png": "[encoded data removed]",
            "text/plain": [
              "<Figure size 432x288 with 2 Axes>"
            ]
          },
          "metadata": {}
        },
        {
          "output_type": "stream",
          "name": "stdout",
          "text": [
            "time: 257 ms (started: 2022-01-02 11:19:05 +00:00)\n"
          ]
        }
      ]
    },
    {
      "cell_type": "markdown",
      "source": [
        "##LSTM"
      ],
      "metadata": {
        "id": "jMmK3aYjV7ct"
      }
    },
    {
      "cell_type": "code",
      "source": [
        "# importing neural network libraries\n",
        "import tensorflow as tf\n",
        "from tensorflow.keras.preprocessing.text import Tokenizer\n",
        "from tensorflow.keras.preprocessing.sequence import pad_sequences\n",
        "from tensorflow.keras.models import Sequential\n",
        "from tensorflow.keras.layers import Dense, Dropout, Embedding, GRU, LSTM, RNN, SpatialDropout1D"
      ],
      "metadata": {
        "colab": {
          "base_uri": "https://localhost:8080/"
        },
        "id": "4wXFvhnWWH51",
        "outputId": "e38776ea-517f-4a68-b23f-cb5c168805e2"
      },
      "execution_count": 50,
      "outputs": [
        {
          "output_type": "stream",
          "name": "stdout",
          "text": [
            "time: 6.61 ms (started: 2022-01-02 11:19:06 +00:00)\n"
          ]
        }
      ]
    },
    {
      "cell_type": "code",
      "source": [
        "max_features = 100000"
      ],
      "metadata": {
        "colab": {
          "base_uri": "https://localhost:8080/"
        },
        "id": "K2LpizcKYQFa",
        "outputId": "c9721193-48db-4cb6-9008-b95b1fcc1180"
      },
      "execution_count": 51,
      "outputs": [
        {
          "output_type": "stream",
          "name": "stdout",
          "text": [
            "time: 1.16 ms (started: 2022-01-02 11:19:06 +00:00)\n"
          ]
        }
      ]
    },
    {
      "cell_type": "code",
      "source": [
        "# LSTM Neural Network\n",
        "lstm_model = Sequential(name = 'lstm_nn_model')\n",
        "lstm_model.add(layer = Embedding(input_dim = max_features, output_dim = 120, name = '1st_layer'))\n",
        "lstm_model.add(layer = LSTM(units = 120, dropout = 0.2, recurrent_dropout = 0.2, name = '2nd_layer'))\n",
        "lstm_model.add(layer = Dropout(rate = 0.5, name = '3rd_layer'))\n",
        "lstm_model.add(layer = Dense(units = 120,  activation = 'relu', name = '4th_layer'))\n",
        "lstm_model.add(layer = Dropout(rate = 0.5, name = '5th_layer'))\n",
        "lstm_model.add(layer = Dense(units = len(set(y)),  activation = 'sigmoid', name = 'output_layer'))\n",
        "# compiling the model\n",
        "lstm_model.compile(optimizer = 'adam', loss = 'sparse_categorical_crossentropy', metrics = ['accuracy'])"
      ],
      "metadata": {
        "colab": {
          "base_uri": "https://localhost:8080/"
        },
        "id": "ALR4ZPjVWgQ8",
        "outputId": "731dc731-5ada-4760-cdb7-43b06f6be4f7"
      },
      "execution_count": 52,
      "outputs": [
        {
          "output_type": "stream",
          "name": "stdout",
          "text": [
            "time: 321 ms (started: 2022-01-02 11:19:06 +00:00)\n"
          ]
        }
      ]
    },
    {
      "cell_type": "code",
      "source": [
        "lstm_model_fit = lstm_model.fit(X_train, y_train, epochs = 1)"
      ],
      "metadata": {
        "colab": {
          "base_uri": "https://localhost:8080/"
        },
        "id": "GygZjCZSYja6",
        "outputId": "121a905d-7191-4270-9aca-e12419e1b870"
      },
      "execution_count": 53,
      "outputs": [
        {
          "output_type": "stream",
          "name": "stdout",
          "text": [
            "1047/1047 [==============================] - 825s 784ms/step - loss: 0.1363 - accuracy: 0.9723\n",
            "time: 14min 25s (started: 2022-01-02 11:19:06 +00:00)\n"
          ]
        }
      ]
    },
    {
      "cell_type": "code",
      "source": [
        "#pred = lstm_model.predict(X_test)\n",
        "#pred = np.round(pred).astype(int)\n",
        "predict_x=lstm_model.predict(X_test) \n",
        "classes_x=np.argmax(predict_x,axis=1)\n",
        "binary_predictions = []\n",
        "\n",
        "for i in classes_x:\n",
        "    if i >= 0.5:\n",
        "        binary_predictions.append(1)\n",
        "    else:\n",
        "        binary_predictions.append(0) \n",
        "\n",
        "print(classification_report(y_test, binary_predictions, target_names = ['Fake','True']))"
      ],
      "metadata": {
        "colab": {
          "base_uri": "https://localhost:8080/"
        },
        "id": "qkHV-mgPaUxb",
        "outputId": "2130534b-238b-48f8-9009-ad1069d7eeb1"
      },
      "execution_count": 54,
      "outputs": [
        {
          "output_type": "stream",
          "name": "stdout",
          "text": [
            "              precision    recall  f1-score   support\n",
            "\n",
            "        Fake       0.98      1.00      0.99     16101\n",
            "        True       0.00      0.00      0.00       392\n",
            "\n",
            "    accuracy                           0.98     16493\n",
            "   macro avg       0.49      0.50      0.49     16493\n",
            "weighted avg       0.95      0.98      0.96     16493\n",
            "\n",
            "time: 41.4 s (started: 2022-01-02 11:33:31 +00:00)\n"
          ]
        },
        {
          "output_type": "stream",
          "name": "stderr",
          "text": [
            "/usr/local/lib/python3.7/dist-packages/sklearn/metrics/_classification.py:1308: UndefinedMetricWarning: Precision and F-score are ill-defined and being set to 0.0 in labels with no predicted samples. Use `zero_division` parameter to control this behavior.\n",
            "  _warn_prf(average, modifier, msg_start, len(result))\n",
            "/usr/local/lib/python3.7/dist-packages/sklearn/metrics/_classification.py:1308: UndefinedMetricWarning: Precision and F-score are ill-defined and being set to 0.0 in labels with no predicted samples. Use `zero_division` parameter to control this behavior.\n",
            "  _warn_prf(average, modifier, msg_start, len(result))\n",
            "/usr/local/lib/python3.7/dist-packages/sklearn/metrics/_classification.py:1308: UndefinedMetricWarning: Precision and F-score are ill-defined and being set to 0.0 in labels with no predicted samples. Use `zero_division` parameter to control this behavior.\n",
            "  _warn_prf(average, modifier, msg_start, len(result))\n"
          ]
        }
      ]
    },
    {
      "cell_type": "code",
      "source": [
        "# plot ROC Curve\n",
        "\n",
        "from sklearn.metrics import roc_curve\n",
        "\n",
        "\n",
        "fpr, tpr, thresholds = roc_curve(y_test, classes_x)\n",
        "\n",
        "plt.figure(figsize=(6,4))\n",
        "\n",
        "plt.plot(fpr, tpr, linewidth=2)\n",
        "\n",
        "plt.plot([0,1], [0,1], 'k--' )\n",
        "\n",
        "plt.rcParams['font.size'] = 12\n",
        "\n",
        "plt.title('ROC curve for Predicting Bangla Fake News (LSTM)')\n",
        "\n",
        "plt.xlabel('False Positive Rate')\n",
        "\n",
        "plt.ylabel('True Positive Rate')\n",
        "\n",
        "plt.show()"
      ],
      "metadata": {
        "colab": {
          "base_uri": "https://localhost:8080/",
          "height": 323
        },
        "id": "bRFLCRHBadvX",
        "outputId": "905bf296-0c8a-4e20-f93d-4bd64390ccfa"
      },
      "execution_count": 55,
      "outputs": [
        {
          "output_type": "display_data",
          "data": {
            "image/png": "[encoded data removed]",
            "text/plain": [
              "<Figure size 432x288 with 1 Axes>"
            ]
          },
          "metadata": {}
        },
        {
          "output_type": "stream",
          "name": "stdout",
          "text": [
            "time: 185 ms (started: 2022-01-02 11:34:13 +00:00)\n"
          ]
        }
      ]
    },
    {
      "cell_type": "code",
      "source": [
        "# Print the Confusion Matrix and slice it into four pieces\n",
        "\n",
        "from sklearn.metrics import confusion_matrix\n",
        "\n",
        "cm = confusion_matrix(y_test, classes_x)\n",
        "\n",
        "print('Confusion matrix\\n\\n', cm)\n",
        "\n",
        "print('\\nTrue Positives(TP) = ', cm[0,0])\n",
        "\n",
        "print('\\nTrue Negatives(TN) = ', cm[1,1])\n",
        "\n",
        "print('\\nFalse Positives(FP) = ', cm[0,1])\n",
        "\n",
        "print('\\nFalse Negatives(FN) = ', cm[1,0])"
      ],
      "metadata": {
        "colab": {
          "base_uri": "https://localhost:8080/"
        },
        "id": "2iR_2gyxfPdX",
        "outputId": "f2778a81-1378-4b4a-8920-70aac482f399"
      },
      "execution_count": 56,
      "outputs": [
        {
          "output_type": "stream",
          "name": "stdout",
          "text": [
            "Confusion matrix\n",
            "\n",
            " [[16101     0]\n",
            " [  392     0]]\n",
            "\n",
            "True Positives(TP) =  16101\n",
            "\n",
            "True Negatives(TN) =  0\n",
            "\n",
            "False Positives(FP) =  0\n",
            "\n",
            "False Negatives(FN) =  392\n",
            "time: 13.2 ms (started: 2022-01-02 11:34:13 +00:00)\n"
          ]
        }
      ]
    },
    {
      "cell_type": "code",
      "source": [
        "# visualize confusion matrix with seaborn heatmap\n",
        "\n",
        "cm_matrix = pd.DataFrame(data=cm, columns=['Actual Positive:1', 'Actual Negative:0'], \n",
        "                                 index=['Predict Positive:1', 'Predict Negative:0'])\n",
        "\n",
        "sns.heatmap(cm_matrix, annot=True, fmt='d', cmap='YlGnBu')"
      ],
      "metadata": {
        "colab": {
          "base_uri": "https://localhost:8080/",
          "height": 307
        },
        "id": "cyHFqH_WfpaJ",
        "outputId": "85ab5970-ac82-4707-b4fb-ae5186df269e"
      },
      "execution_count": 57,
      "outputs": [
        {
          "output_type": "execute_result",
          "data": {
            "text/plain": [
              "<matplotlib.axes._subplots.AxesSubplot at 0x7fe2992cfc50>"
            ]
          },
          "metadata": {},
          "execution_count": 57
        },
        {
          "output_type": "display_data",
          "data": {
            "image/png": "[encoded data removed]",
            "text/plain": [
              "<Figure size 432x288 with 2 Axes>"
            ]
          },
          "metadata": {}
        },
        {
          "output_type": "stream",
          "name": "stdout",
          "text": [
            "time: 257 ms (started: 2022-01-02 11:34:13 +00:00)\n"
          ]
        }
      ]
    }
  ]
}